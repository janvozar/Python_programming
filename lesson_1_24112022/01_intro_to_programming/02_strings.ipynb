{
 "cells": [
  {
   "cell_type": "markdown",
   "metadata": {},
   "source": [
    "### Textové znaky\n",
    "\n",
    "---\n",
    "\n",
    "\n",
    "* [Seznam všech `escaping characters`](https://www.w3schools.com/python/gloss_python_escape_characters.asp)\n",
    "* [Doporučení pep8, pravidla pro obecné pojmenování](https://www.python.org/dev/peps/pep-0008/#naming-conventions)\n",
    "\n",
    "<br>\n",
    "\n",
    "\n",
    "<br>\n",
    "\n",
    "#### Řetězce (strings)\n",
    "\n",
    "---\n",
    "\n",
    "**String**, tedy **řetězec** je různě dlouhé uskupení znaků (písmen, čísel, speciálních symbolů).\n",
    "\n",
    "<br>\n",
    "\n",
    "Dále se označuje jako **sekvence**, kterou jakmile jednou vytvoříme nelze změnit (z angl. *immutable*).\n",
    "\n",
    "<br>\n",
    "\n",
    "#### Jak zapsat string\n",
    "\n",
    "---"
   ]
  },
  {
   "cell_type": "code",
   "execution_count": null,
   "metadata": {},
   "outputs": [],
   "source": [
    "print(\"Jan\")"
   ]
  },
  {
   "cell_type": "code",
   "execution_count": null,
   "metadata": {},
   "outputs": [],
   "source": [
    "'Jan'       # varianta jednoduché uvozovky"
   ]
  },
  {
   "cell_type": "code",
   "execution_count": null,
   "metadata": {},
   "outputs": [],
   "source": [
    "jan  # takhle ne"
   ]
  },
  {
   "cell_type": "code",
   "execution_count": null,
   "metadata": {},
   "outputs": [],
   "source": [
    "type('Jan')"
   ]
  },
  {
   "cell_type": "code",
   "execution_count": null,
   "metadata": {},
   "outputs": [],
   "source": [
    "\"Jan\"       # varianta dvojité uvozovky"
   ]
  },
  {
   "cell_type": "code",
   "execution_count": null,
   "metadata": {},
   "outputs": [],
   "source": [
    "type(\"Jan\")"
   ]
  },
  {
   "cell_type": "code",
   "execution_count": null,
   "metadata": {},
   "outputs": [],
   "source": [
    "'Jan\"       # psát stejné uvozovky na začátek i konec"
   ]
  },
  {
   "cell_type": "code",
   "execution_count": null,
   "metadata": {},
   "outputs": [],
   "source": [
    "print(\n",
    "    \"\"\"\n",
    "    Příliš \n",
    "    dlouhý\n",
    "    text\n",
    "    \"\"\")"
   ]
  },
  {
   "cell_type": "markdown",
   "metadata": {},
   "source": [
    "\n",
    "<br>\n",
    "\n",
    "Pomocí uvozovek můžeme zapisovat současně písmena, speciální znaky a také čísla:"
   ]
  },
  {
   "cell_type": "code",
   "execution_count": null,
   "metadata": {},
   "outputs": [],
   "source": [
    "\"Jan Novak\""
   ]
  },
  {
   "cell_type": "code",
   "execution_count": null,
   "metadata": {},
   "outputs": [],
   "source": [
    "'1234566789 + 1'"
   ]
  },
  {
   "cell_type": "code",
   "execution_count": null,
   "metadata": {},
   "outputs": [],
   "source": [
    "type('1234566789')  # <class 'str'>"
   ]
  },
  {
   "cell_type": "code",
   "execution_count": null,
   "metadata": {},
   "outputs": [],
   "source": [
    "\"!@#$%%^&*\"         # <class 'str'>"
   ]
  },
  {
   "cell_type": "markdown",
   "metadata": {},
   "source": [
    "<br>\n",
    "\n",
    "#### Použití uvozovek\n",
    "\n",
    "---\n",
    "\n",
    "Občas budeme potřebovat zápis doplnit o uvozovky, jako součást textu. Zápis se může stát trochu obtížnější:"
   ]
  },
  {
   "cell_type": "code",
   "execution_count": null,
   "metadata": {},
   "outputs": [],
   "source": [
    "'It's friday'"
   ]
  },
  {
   "cell_type": "markdown",
   "metadata": {},
   "source": [
    "\n",
    "<br>\n",
    "\n",
    "Můžeme použít opačné uvozovky, než máme na začátku a konci stringu:"
   ]
  },
  {
   "cell_type": "code",
   "execution_count": null,
   "metadata": {},
   "outputs": [],
   "source": [
    "\"It's friday\""
   ]
  },
  {
   "cell_type": "markdown",
   "metadata": {},
   "source": [
    "\n",
    "<br>\n",
    "\n",
    "Můžeme použít tzv. *escape characters*. Jde o symbol zpětného lomítka. Ten interpretu Pythonu oznamuje, že cokoliv, co bude za lomítkem následovat je speciální symbol:"
   ]
  },
  {
   "cell_type": "code",
   "execution_count": null,
   "metadata": {},
   "outputs": [],
   "source": [
    "print(\"It\\'s \\t\\\"kind \\\\ \\tof\\\" magic\")"
   ]
  },
  {
   "cell_type": "markdown",
   "metadata": {},
   "source": [
    "<br>\n",
    "\n",
    "Použití **speciálních symbolů** souvisejících se zpětným lomítkem je víc. Jsou to tzv. **escape characters**. V tabulce níž najdeš soupis těch nejčastějších:\n",
    "\n",
    "<br>\n",
    "\n",
    "| Speciální znak | Význam |\n",
    "| :-: | :-: |\n",
    "| `\\'` | Apostrof |\n",
    "| \\\\ |\tZpětné lomítko |\n",
    "| \\n |\tNový řádek |\n",
    "| \\r |\t*Return carriage* |\n",
    "| \\t |\tTabulátor |\n",
    "| \\b |\t*Backspace* |\n",
    "| \\f |\t*Form feed* |\n",
    "\n",
    "<br>\n"
   ]
  },
  {
   "cell_type": "markdown",
   "metadata": {},
   "source": [
    "\n",
    "<br>\n",
    "\n",
    "#### Převádění datových některých typů (přetypování)\n",
    "\n",
    "---\n",
    "\n",
    "V některých situacích budeme muset pracovat s různými datovými typy a v takových situacích se velice často chybuje:"
   ]
  },
  {
   "cell_type": "code",
   "execution_count": null,
   "metadata": {},
   "outputs": [],
   "source": [
    "2 + \"2\"    # int + str"
   ]
  },
  {
   "cell_type": "code",
   "execution_count": null,
   "metadata": {},
   "outputs": [],
   "source": [
    "\"2\" + \"2\"  # str + str -> \"22\""
   ]
  },
  {
   "cell_type": "code",
   "execution_count": null,
   "metadata": {},
   "outputs": [],
   "source": [
    "2 + 2      # int + int"
   ]
  },
  {
   "cell_type": "code",
   "execution_count": null,
   "metadata": {},
   "outputs": [],
   "source": [
    "2 + 2.1      # int + float"
   ]
  },
  {
   "cell_type": "markdown",
   "metadata": {},
   "source": [
    "\n",
    "<br>\n",
    "\n",
    "Naštěstí je možné, **některé** datový typy převádět:"
   ]
  },
  {
   "cell_type": "code",
   "execution_count": null,
   "metadata": {},
   "outputs": [],
   "source": [
    "type(\"2\")"
   ]
  },
  {
   "cell_type": "code",
   "execution_count": null,
   "metadata": {},
   "outputs": [],
   "source": [
    "float(\"2.2\") + 2 "
   ]
  },
  {
   "cell_type": "code",
   "execution_count": null,
   "metadata": {},
   "outputs": [],
   "source": [
    "int(\"555\") + 10"
   ]
  },
  {
   "cell_type": "markdown",
   "metadata": {},
   "source": [
    "#### Spojování\n",
    "\n",
    "---\n",
    "\n",
    "Jde o proces, kdy použijeme operátor `+`, kdy po obou stranách operátoru máme string."
   ]
  },
  {
   "cell_type": "code",
   "execution_count": null,
   "metadata": {},
   "outputs": [],
   "source": [
    "\"Jan\" + \" Novak\""
   ]
  },
  {
   "cell_type": "code",
   "execution_count": null,
   "metadata": {},
   "outputs": [],
   "source": [
    "\"+\" + \"-\" + \"*\" + \"/\""
   ]
  },
  {
   "cell_type": "markdown",
   "metadata": {},
   "source": [
    "<br>\n",
    "\n",
    "Výsledkem je spojení obou stringů v jeden (*concatenation*)\n",
    "\n",
    "\n",
    "<br>\n",
    "\n",
    "#### Opakování\n",
    "\n",
    "---\n",
    "\n",
    "Jde o proces, kdy zadaný string výpíšeme n-krát po sobě (~*repetition*)\n",
    "```bash\n",
    "\"str\" * n\n",
    "```"
   ]
  },
  {
   "cell_type": "code",
   "execution_count": null,
   "metadata": {},
   "outputs": [],
   "source": [
    "\"Ahoj \" * 3"
   ]
  },
  {
   "cell_type": "code",
   "execution_count": null,
   "metadata": {},
   "outputs": [],
   "source": [
    "\"===========================================\""
   ]
  },
  {
   "cell_type": "code",
   "execution_count": null,
   "metadata": {},
   "outputs": [],
   "source": [
    "\"=\" * 30"
   ]
  },
  {
   "cell_type": "markdown",
   "metadata": {},
   "source": [
    "<br>\n",
    "\n",
    "#### Indexování\n",
    "\n",
    "---\n",
    "\n",
    "Znaky, ze kterých je **string složený mají pořadí**. Toto pořadí je určené celým čísel, tzv. *index*. Pomocí tohoto indexu máme možnost vybrat konkrétní znak.\n",
    "\n",
    "Pokud chceme získat jen část z původního stringu, můžete si ji \"vyříznout\" (*slicing*):\n",
    "\n",
    "<img src=\"https://i.imgur.com/6NkA2nC.png\" width=\"900\">\n",
    "\n",
    "\n",
    "<br>\n",
    "\n",
    "Ihned za konkrétní hodnotu napíšeme hranatou závorku a do ní celé číslo indexu, který potřebujeme:"
   ]
  },
  {
   "cell_type": "code",
   "execution_count": null,
   "metadata": {},
   "outputs": [],
   "source": [
    "\"autobus\"1    # bez hranaté závorky nelze indexovat"
   ]
  },
  {
   "cell_type": "code",
   "execution_count": null,
   "metadata": {},
   "outputs": [],
   "source": [
    "\"autobus\"[1]"
   ]
  },
  {
   "cell_type": "markdown",
   "metadata": {},
   "source": [
    "\n",
    "<br>\n",
    "\n",
    "Příklad výš můžeš přečíst jako *Ze stringu autobus mi vypiš znak na indexu* `1`. Z toho vyplývá, že indexování obecně začíná celým číslem `0`, tedy první znak."
   ]
  },
  {
   "cell_type": "code",
   "execution_count": null,
   "metadata": {},
   "outputs": [],
   "source": [
    "\"autobus\"[0]"
   ]
  },
  {
   "cell_type": "code",
   "execution_count": null,
   "metadata": {},
   "outputs": [],
   "source": [
    "\"autobus\"[2]"
   ]
  },
  {
   "cell_type": "code",
   "execution_count": null,
   "metadata": {},
   "outputs": [],
   "source": [
    "\"autobusák\"[0]"
   ]
  },
  {
   "cell_type": "markdown",
   "metadata": {},
   "source": [
    "\n",
    "<br>\n",
    "\n",
    "Pokud budeš potřebovat indexovat **od konce**, můžeš pracovat s negativním indexem. Poslední hodnotu získáš pomocí indexu `-1`, předposlední hodnotu pomocí indexu `-2`, atd.\n",
    "\n",
    "\n",
    "<br>\n",
    "\n",
    "#### Slicing - část stringu\n",
    "\n",
    "---\n",
    "\n",
    "Pokud budete potřebovat pracovat pouze s částí datového typu `str`, můžete jej rozkrájet (z angl. slicing)."
   ]
  },
  {
   "cell_type": "code",
   "execution_count": null,
   "metadata": {},
   "outputs": [],
   "source": [
    "\"autobus\"[0:4]"
   ]
  },
  {
   "cell_type": "markdown",
   "metadata": {},
   "source": [
    "\n",
    "<br>\n",
    "\n",
    "Stejně jako u **indexování** použijeme hranatou závorku. Tentokrát ji doplníme **dvojtečkou** a **dalším celým číslem**. První hodnota je potom **počáteční index**, druhá hodnota je **konečný index**.\n",
    "\n",
    "<br>\n",
    "\n",
    "Opatrně **druhý index** je braný **nepřímo**, takže abys získal znak z indexu `6`, musíš napsat číslo `7`:"
   ]
  },
  {
   "cell_type": "code",
   "execution_count": null,
   "metadata": {},
   "outputs": [],
   "source": [
    "\"autobus\"[0:6]"
   ]
  },
  {
   "cell_type": "code",
   "execution_count": null,
   "metadata": {},
   "outputs": [],
   "source": [
    "\"autobus\"[1:7]"
   ]
  },
  {
   "cell_type": "markdown",
   "metadata": {},
   "source": [
    "<br>\n",
    "\n",
    "Dále je možné **zápis zkrátit**. Pokud si budeš zápisem s pomocí indexů jistý, můžeš vyzkoušet následující:\n",
    "\n",
    "1. `\"autobus\"[:2]` - vynecháš první index a začneš dvojtečkou (původně `[0:2]`)\n",
    "2. `\"autobus\"[2:]` - vynecháš druhý index a končíš dvojtečkou (původně `[2:7]`)"
   ]
  },
  {
   "cell_type": "code",
   "execution_count": null,
   "metadata": {},
   "outputs": [],
   "source": [
    "\"autobus\"[0:2]      # první dvě písmena"
   ]
  },
  {
   "cell_type": "code",
   "execution_count": null,
   "metadata": {},
   "outputs": [],
   "source": [
    "\"autobus\"[:2]       # první dvě písmena, zápis jedním číslem"
   ]
  },
  {
   "cell_type": "code",
   "execution_count": null,
   "metadata": {},
   "outputs": [],
   "source": [
    "len(\"autobus\")"
   ]
  },
  {
   "cell_type": "code",
   "execution_count": null,
   "metadata": {},
   "outputs": [],
   "source": [
    "\"autobus\"[2:7]      # od třetího písmena do konce"
   ]
  },
  {
   "cell_type": "code",
   "execution_count": null,
   "metadata": {},
   "outputs": [],
   "source": [
    "\"autobus\"[2:]       # od třetího písmena do konce, zápis jedním číslem"
   ]
  },
  {
   "cell_type": "markdown",
   "metadata": {},
   "source": [
    "\n",
    "<br>\n",
    "\n",
    "#### Striding\n",
    "\n",
    "---\n",
    "\n",
    "Nakonec operace známá jako **přeskakování** (~*striding*), umožňuje získat každý n-tý údaj ze stringu.\n",
    "\n",
    "<br>\n",
    "\n",
    "Doplníme **třetí celočíselnou hodnotu** do hranaté závorky, oddělenou dvojtečkou:"
   ]
  },
  {
   "cell_type": "code",
   "execution_count": null,
   "metadata": {},
   "outputs": [],
   "source": [
    "\"autobus\"[0:7:2]"
   ]
  },
  {
   "cell_type": "markdown",
   "metadata": {},
   "source": [
    "<br>\n",
    "\n",
    "Hodnota `2` zapsaná v hranaté závorce výš říká, že vezme nejprve index `0`, a potom každý druhý index (tedy indexy `2`, `4`, `6`)."
   ]
  },
  {
   "cell_type": "code",
   "execution_count": null,
   "metadata": {},
   "outputs": [],
   "source": [
    "\"autobus\"[1:7:3]"
   ]
  },
  {
   "cell_type": "markdown",
   "metadata": {},
   "source": [
    "\n",
    "<br>\n",
    "\n",
    "Upravíme hodnoty v hranatých závorkách, ale platí pořád stejné pravidlo. Vezmeme nejprve index `1` (tedy `\"u\"`), a potom každý druhý index (tentokrát indexy `3`, `5`).\n",
    "\n",
    "<br>\n",
    "\n",
    "Opět je možné zápis **zkrátit**. Vynech hodnoty indexů pro **počátek** a **konec**. Zápišeš pouze dvě dvojtečky a poslední hodnotu pro **přeskakování**:"
   ]
  },
  {
   "cell_type": "code",
   "execution_count": null,
   "metadata": {},
   "outputs": [],
   "source": [
    "\"autobus\"[::2]"
   ]
  },
  {
   "cell_type": "markdown",
   "metadata": {},
   "source": [
    "\n",
    "<br>\n",
    "\n",
    "Dokonce můžeš použít **zápornou hodnotu** pro přeskakování pozpátku:"
   ]
  },
  {
   "cell_type": "code",
   "execution_count": null,
   "metadata": {},
   "outputs": [],
   "source": [
    "\"autobus\"[::-1]  # obracene poradi, zacne 's', jeden znak za druhym"
   ]
  },
  {
   "cell_type": "code",
   "execution_count": null,
   "metadata": {},
   "outputs": [],
   "source": [
    "\"autobus\"[::-2]  # obracene poradi, zacne 's', pote kazdy druhy znak"
   ]
  },
  {
   "cell_type": "markdown",
   "metadata": {},
   "source": [
    "---"
   ]
  }
 ],
 "metadata": {
  "kernelspec": {
   "display_name": "Python 3.10.8 64-bit",
   "language": "python",
   "name": "python3"
  },
  "language_info": {
   "codemirror_mode": {
    "name": "ipython",
    "version": 3
   },
   "file_extension": ".py",
   "mimetype": "text/x-python",
   "name": "python",
   "nbconvert_exporter": "python",
   "pygments_lexer": "ipython3",
   "version": "3.10.8"
  },
  "vscode": {
   "interpreter": {
    "hash": "6ef888e41b2dcc37ae80de0301c51e998172b445c6e5b7c6cf8fc3e0b77a5d1f"
   }
  }
 },
 "nbformat": 4,
 "nbformat_minor": 4
}
