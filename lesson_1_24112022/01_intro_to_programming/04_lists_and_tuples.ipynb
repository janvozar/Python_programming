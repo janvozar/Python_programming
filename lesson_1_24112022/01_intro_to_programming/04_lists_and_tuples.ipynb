{
 "cells": [
  {
   "cell_type": "markdown",
   "metadata": {},
   "source": [
    "### Úvod k sekvencím (některým kontejnerovým datovým typům)(~sequencies)\n",
    "\n",
    "---\n",
    "\n",
    "* [Oficiální dokumentace pro `list`, `tuple`](https://docs.python.org/3/library/stdtypes.html#typesseq)\n",
    "\n",
    "<br>\n",
    "\n",
    "Doposud jsme si ukázali jak pracovat s proměnnou, která obsahuje **jedno číslo** (`int`, `float`), nebo **jeden řetězec** textových znaků (`str`).\n",
    "\n",
    "<br>\n",
    "\n",
    "Pojďme si nyní ukázat, že Python umí pracovat i s údaji, které obsahují více různých informací jako několik čísel, nebo několik textových hodnot.\n",
    "\n",
    "<br>\n",
    "\n",
    "Takové hodnoty potom budeme označovat jako tzv. **sekvenční datové typy** (tedy v jedné proměnné bude několik oddělených údajů). Obecně Python nabízí tyto tři základní sekvenční typy:\n",
    "\n",
    "1. `list` (česky *seznam*)\n",
    "2. `tuple` (česky *n-tice*)\n",
    "3. `range` (česky *rozsah*)\n",
    "\n",
    "<br>\n",
    "\n",
    "#### `list` (~seznam)\n",
    "\n",
    "---\n",
    "\n",
    "*List* je opravdu datový typ, který je doslova tvořen seznamem údajů. Tyto údaje jsou oddělené datovým oddělovačem čárkou:\n",
    "\n",
    "```python\n",
    "muj_seznam = [\"Matous\", \"Marek\", \"Lukas\", \"Jan\"]\n",
    "```\n",
    "\n",
    "\n",
    "<br>\n",
    "\n",
    "V příkladu si můžeme všimnout některých **charakteristických rysů** pro `list`:\n",
    "\n",
    "<br>\n",
    "\n",
    "1. **Hranaté závorky** na začátku a na konci listu,\n",
    "2. **stringy**, které náš list obsahuje,\n",
    "3. **čárky**, které oddělují jednotlivé hodnoty,\n",
    "4. **proměnná**, do které si nově napsaný list schovám (`muj_seznam`).\n",
    "\n",
    "<br>\n",
    "\n",
    "Opět si můžeš pomocí funkce `type` ověřit datový typ. Není nutné chápat celkový význam výstupu funkce `type`. Stačí si povšimnout výrazu `list` ve výstupu."
   ]
  },
  {
   "cell_type": "code",
   "execution_count": 28,
   "metadata": {},
   "outputs": [],
   "source": [
    "seznam = [\"Matous\", \"Marek\", \"Lukas\", \"Jan\"]"
   ]
  },
  {
   "cell_type": "code",
   "execution_count": 29,
   "metadata": {},
   "outputs": [
    {
     "data": {
      "text/plain": [
       "list"
      ]
     },
     "execution_count": 29,
     "metadata": {},
     "output_type": "execute_result"
    }
   ],
   "source": [
    "type(seznam)"
   ]
  },
  {
   "cell_type": "markdown",
   "metadata": {},
   "source": [
    "<br>\n",
    "\n",
    "#### Jak vytvořit list\n",
    "\n",
    "---\n",
    "\n",
    "Nejprve si ukážeme možnosti, jak **vytvořit prázdný list**, kam si budeš moc v budoucnu ukládat svoje hodnoty:\n",
    "\n",
    "1. Možnost, pomocí **prázdných hranatých závorek**,\n",
    "2. Možnost, pomocí **zabudované funkce** `list`."
   ]
  },
  {
   "cell_type": "code",
   "execution_count": 30,
   "metadata": {},
   "outputs": [],
   "source": [
    "prvni_seznam = []"
   ]
  },
  {
   "cell_type": "code",
   "execution_count": 31,
   "metadata": {},
   "outputs": [],
   "source": [
    "druhy_seznam = list()"
   ]
  },
  {
   "cell_type": "code",
   "execution_count": 32,
   "metadata": {},
   "outputs": [
    {
     "data": {
      "text/plain": [
       "list"
      ]
     },
     "execution_count": 32,
     "metadata": {},
     "output_type": "execute_result"
    }
   ],
   "source": [
    "type(prvni_seznam)"
   ]
  },
  {
   "cell_type": "code",
   "execution_count": 33,
   "metadata": {},
   "outputs": [
    {
     "data": {
      "text/plain": [
       "list"
      ]
     },
     "execution_count": 33,
     "metadata": {},
     "output_type": "execute_result"
    }
   ],
   "source": [
    "type(druhy_seznam)"
   ]
  },
  {
   "cell_type": "markdown",
   "metadata": {},
   "source": [
    "<br>\n",
    "\n",
    "Opět použijeme funkci `type` pro ověření, že výsledné hodnoty jsou skutečně typu `list`.\n",
    "\n",
    "<br>\n",
    "\n",
    "Pokud potřebuješ vytvořit neprázdný list, můžeš údaje zapsat přímo do hranaté závorky (jako první úkazka v této kapitole):\n"
   ]
  },
  {
   "cell_type": "code",
   "execution_count": 34,
   "metadata": {},
   "outputs": [],
   "source": [
    "treti_seznam = [2, 4, 6, 8, 10]"
   ]
  },
  {
   "cell_type": "code",
   "execution_count": 35,
   "metadata": {},
   "outputs": [],
   "source": [
    "ctvrty_seznam = [1.0, 3.0, 5.0, 7.0, 9.0]"
   ]
  },
  {
   "cell_type": "code",
   "execution_count": 36,
   "metadata": {},
   "outputs": [
    {
     "data": {
      "text/plain": [
       "list"
      ]
     },
     "execution_count": 36,
     "metadata": {},
     "output_type": "execute_result"
    }
   ],
   "source": [
    "type(treti_seznam)"
   ]
  },
  {
   "cell_type": "code",
   "execution_count": 37,
   "metadata": {},
   "outputs": [
    {
     "data": {
      "text/plain": [
       "int"
      ]
     },
     "execution_count": 37,
     "metadata": {},
     "output_type": "execute_result"
    }
   ],
   "source": [
    "type(treti_seznam[2])"
   ]
  },
  {
   "cell_type": "markdown",
   "metadata": {},
   "source": [
    "<br>\n",
    "\n",
    "#### Jak pracovat s listem\n",
    "\n",
    "---\n",
    "Hodnoty, které `list` obsahuje můžeš zpřístupnit pomocí jejich **pořadí**, tedy indexů. Tento princip funguje stejně jako jsme si ukázali u stringů."
   ]
  },
  {
   "cell_type": "code",
   "execution_count": 44,
   "metadata": {},
   "outputs": [],
   "source": [
    "muj_seznam = [\"Matous\", \"Marek\", \"Lukas\", \"Jan\"]"
   ]
  },
  {
   "cell_type": "code",
   "execution_count": 45,
   "metadata": {},
   "outputs": [
    {
     "data": {
      "text/plain": [
       "str"
      ]
     },
     "execution_count": 45,
     "metadata": {},
     "output_type": "execute_result"
    }
   ],
   "source": [
    "type(muj_seznam[0])"
   ]
  },
  {
   "cell_type": "code",
   "execution_count": 46,
   "metadata": {},
   "outputs": [
    {
     "data": {
      "text/plain": [
       "'Marek'"
      ]
     },
     "execution_count": 46,
     "metadata": {},
     "output_type": "execute_result"
    }
   ],
   "source": [
    "muj_seznam[1]"
   ]
  },
  {
   "cell_type": "code",
   "execution_count": 47,
   "metadata": {},
   "outputs": [
    {
     "data": {
      "text/plain": [
       "['Matous', 'Marek']"
      ]
     },
     "execution_count": 47,
     "metadata": {},
     "output_type": "execute_result"
    }
   ],
   "source": [
    "muj_seznam[:2]"
   ]
  },
  {
   "cell_type": "code",
   "execution_count": 48,
   "metadata": {},
   "outputs": [],
   "source": [
    "muj_seznam[0] = \"ZMENA\""
   ]
  },
  {
   "cell_type": "code",
   "execution_count": 49,
   "metadata": {},
   "outputs": [
    {
     "data": {
      "text/plain": [
       "['ZMENA', 'Marek', 'Lukas', 'Jan']"
      ]
     },
     "execution_count": 49,
     "metadata": {},
     "output_type": "execute_result"
    }
   ],
   "source": [
    "muj_seznam"
   ]
  },
  {
   "cell_type": "markdown",
   "metadata": {},
   "source": [
    "\n",
    "<br>\n",
    "\n",
    "Tedy index `0` představuje **první hodnotu** a index `-1` **poslední hodnotu**.\n",
    "\n",
    "<br>\n",
    "\n",
    "#### `tuple` (~n-tice)\n",
    "\n",
    "---\n",
    "\n",
    "Tuple je na první pohled velice podobný **listu** (seznamu):"
   ]
  },
  {
   "cell_type": "code",
   "execution_count": 50,
   "metadata": {},
   "outputs": [],
   "source": [
    "muj_tupl = (\"Matous\", \"Marek\", \"Lukas\", \"Jan\")"
   ]
  },
  {
   "cell_type": "markdown",
   "metadata": {},
   "source": [
    "\n",
    "<br>\n",
    "\n",
    "V příkladu si můžeme všimnout některých **charakteristických rysů** pro `tuple`:\n",
    "\n",
    "<br>\n",
    "\n",
    "1. **Kulaté závorky** na začátku a na konci tuplu,\n",
    "2. **stringy**, které náš list obsahuje,\n",
    "3. **čárky**, které oddělují jednotlivé hodnoty,\n",
    "4. **proměnná**, do které si nově napsaný tupl schováme (`muj_tupl`).\n",
    "\n",
    "<br>\n",
    "\n",
    "Proč je nutné mít jak `list`, tak `tuple`, když jsou tak podobné. Hlavním rozdílem je **změnitelnost**.\n",
    "\n",
    "<br>\n",
    "\n",
    "|Sekvenční typ|Změnitelnost|Vysvětlení|\n",
    "|:-:|:-:|:-:|\n",
    "|`list` (~seznam)|*mutable* (~změnitelný)|\tMůžeš přidávat a odebírat hodnoty |\n",
    "|`tuple` (~n-tice)|*immutable* (~nezměnitelný)|\tJakmile jej vytvoříš, nelze změnit |\n",
    "\n",
    "<br>\n",
    "\n",
    "Z tabulky uvedené výše vyplývá, že pokud chceš pracovat se sekvencí, u které budeš v průběhu **měnit její obsah**, použiješ `list` (~seznam).\n",
    "\n",
    "<br>\n",
    "\n",
    "Naopak pokud budeš chtít jako programátor napsat takovou sekvenci, kterou si **nepřeješ změnit** (a dát to nauvědoměnou sobě nebo ostatním programátorům), použiješ `tuple`. Podívej se na ukázku níže:"
   ]
  },
  {
   "cell_type": "code",
   "execution_count": 54,
   "metadata": {},
   "outputs": [],
   "source": [
    "nejvetsi_mesta = (\"Praha\", \"Brno\", \"Ostrava\", \"Plzen\", \"Liberec\", \"Olomouc\")"
   ]
  },
  {
   "cell_type": "code",
   "execution_count": 55,
   "metadata": {},
   "outputs": [
    {
     "data": {
      "text/plain": [
       "('Ostrava', 'Plzen')"
      ]
     },
     "execution_count": 55,
     "metadata": {},
     "output_type": "execute_result"
    }
   ],
   "source": [
    "nejvetsi_mesta[2:4]"
   ]
  },
  {
   "cell_type": "code",
   "execution_count": 56,
   "metadata": {},
   "outputs": [
    {
     "ename": "TypeError",
     "evalue": "'tuple' object does not support item assignment",
     "output_type": "error",
     "traceback": [
      "\u001b[0;31m---------------------------------------------------------------------------\u001b[0m",
      "\u001b[0;31mTypeError\u001b[0m                                 Traceback (most recent call last)",
      "Cell \u001b[0;32mIn [56], line 1\u001b[0m\n\u001b[0;32m----> 1\u001b[0m nejvetsi_mesta[\u001b[39m0\u001b[39;49m] \u001b[39m=\u001b[39m [\u001b[39m\"\u001b[39m\u001b[39mVyškov\u001b[39m\u001b[39m\"\u001b[39m] \u001b[39m# nelze měnit\u001b[39;00m\n",
      "\u001b[0;31mTypeError\u001b[0m: 'tuple' object does not support item assignment"
     ]
    }
   ],
   "source": [
    "nejvetsi_mesta[0] = [\"Vyškov\"] # nelze měnit"
   ]
  },
  {
   "cell_type": "markdown",
   "metadata": {},
   "source": [
    "\n",
    "<br>\n",
    "\n",
    "V tuplu `nejvetsi_mesta` jsou všechna města v České republice, která mají více než 100 000 obyvatel.\n",
    "Pro nás je toto zásadní hodnota a nechceme, aby do této proměnné kdokoliv přidal nějaký další údaj. Na základě této potřeby jsme vybrali `tuple`.\n",
    "\n",
    "<br>"
   ]
  },
  {
   "cell_type": "markdown",
   "metadata": {},
   "source": [
    "\n",
    "#### Jak pracovat s tuplem\n",
    "\n",
    "---\n",
    "\n",
    "Stejně jako `list` můžeš i `tuple` *indexovat*, *rozkrájet* (slicing), *přeskakovat* (~striding):"
   ]
  },
  {
   "cell_type": "code",
   "execution_count": null,
   "metadata": {},
   "outputs": [],
   "source": [
    "treti_tupl = (\"Praha\", \"Berlin\", \"Varsava\", \"Bratislava\", \"Viden\")"
   ]
  },
  {
   "cell_type": "code",
   "execution_count": null,
   "metadata": {},
   "outputs": [],
   "source": [
    "treti_tupl[0]"
   ]
  },
  {
   "cell_type": "code",
   "execution_count": null,
   "metadata": {},
   "outputs": [],
   "source": [
    "treti_tupl[-1]"
   ]
  },
  {
   "cell_type": "code",
   "execution_count": null,
   "metadata": {},
   "outputs": [],
   "source": [
    "treti_tupl[0:2]"
   ]
  },
  {
   "cell_type": "code",
   "execution_count": null,
   "metadata": {},
   "outputs": [],
   "source": [
    "treti_tupl[-2]"
   ]
  },
  {
   "cell_type": "code",
   "execution_count": null,
   "metadata": {},
   "outputs": [],
   "source": [
    "muj_tupl = (1, 2, 3)"
   ]
  },
  {
   "cell_type": "code",
   "execution_count": null,
   "metadata": {},
   "outputs": [],
   "source": [
    "muj_tupl"
   ]
  },
  {
   "cell_type": "code",
   "execution_count": null,
   "metadata": {},
   "outputs": [],
   "source": [
    "muj_tupl[2] = 3 #nelze měnit"
   ]
  },
  {
   "cell_type": "code",
   "execution_count": null,
   "metadata": {},
   "outputs": [],
   "source": [
    "muj_seznam = [1, 2, 4]"
   ]
  },
  {
   "cell_type": "code",
   "execution_count": null,
   "metadata": {},
   "outputs": [],
   "source": [
    "muj_seznam"
   ]
  },
  {
   "cell_type": "code",
   "execution_count": null,
   "metadata": {},
   "outputs": [],
   "source": [
    "muj_seznam[2] = 3"
   ]
  },
  {
   "cell_type": "code",
   "execution_count": null,
   "metadata": {},
   "outputs": [],
   "source": [
    "muj_seznam"
   ]
  },
  {
   "cell_type": "code",
   "execution_count": null,
   "metadata": {},
   "outputs": [],
   "source": [
    "vsechno_dohromady = [1, 2.4, \"ahoj\", ['a','b','c'], ('x', 5)]"
   ]
  },
  {
   "cell_type": "code",
   "execution_count": null,
   "metadata": {},
   "outputs": [],
   "source": [
    "type(vsechno_dohromady[1])"
   ]
  },
  {
   "cell_type": "markdown",
   "metadata": {},
   "source": [
    "---"
   ]
  }
 ],
 "metadata": {
  "kernelspec": {
   "display_name": "Python 3.10.8 64-bit",
   "language": "python",
   "name": "python3"
  },
  "language_info": {
   "codemirror_mode": {
    "name": "ipython",
    "version": 3
   },
   "file_extension": ".py",
   "mimetype": "text/x-python",
   "name": "python",
   "nbconvert_exporter": "python",
   "pygments_lexer": "ipython3",
   "version": "3.10.8"
  },
  "vscode": {
   "interpreter": {
    "hash": "aee8b7b246df8f9039afb4144a1f6fd8d2ca17a180786b69acc140d282b71a49"
   }
  }
 },
 "nbformat": 4,
 "nbformat_minor": 4
}
