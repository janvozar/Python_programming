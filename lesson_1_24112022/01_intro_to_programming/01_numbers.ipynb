{
 "cells": [
  {
   "cell_type": "markdown",
   "metadata": {},
   "source": [
    "### Úvod do datových typů\n",
    "\n",
    "---\n",
    "\n",
    "Pro naučení jakéhokoliv **programovacího jazyka**, si potřebuješ osvojit znalosti z tzv. tří teoretických pilířů. Na těchto pilířích stojí téměř všechny programovací jazyky:\n",
    "\n",
    "\n",
    "1. **Datové typy** (čísla, sekvence, aj.)\n",
    "2. **Syntaxe** (funkce, podmínky, smyčky, aj.)\n",
    "3. **Knihovny** (math, random, decimal, aj.)\n",
    "\n",
    "<br>\n",
    "\n",
    "Společně začneme **u prvního pilíře**, tedy základních datových typů.\n",
    "\n",
    "<br>\n",
    "\n",
    "**Datové typy**, nebo také **datové struktury**. Začneme u něčeho, co je nám blízké a to jsou číselné hodnoty. Python je standardně vybavený dvěma **číselnými** datovými typy:\n",
    "\n",
    "1. `int`, celá čísla (z angl. integer)\n",
    "2. `float`, desetinná čísla (z angl. float)\n",
    "\n",
    "<br>\n",
    "\n",
    "### Číselné datové typy\n",
    "\n",
    "---\n",
    "\n",
    "* [Problém s plovoucí destinnou čárkou](https://docs.python.org/3/tutorial/floatingpoint.html)\n",
    "* [Operator precedence determines the order](https://thehelloworldprogram.com/python/python-operators-order-precedence/)\n",
    "* [Knihovna `math`, další matematické funkce](https://docs.python.org/3/library/math.html)\n",
    "* [Knihovna `decimal`, práce s přesnými desetinnými hodnotami](https://docs.python.org/3/library/decimal.html)\n",
    "* [Doporučení pep8, formátování matematických operátorů s různou prioritou](https://www.python.org/dev/peps/pep-0008/#other-recommendations)\n",
    "\n",
    "<br>\n",
    "\n",
    "\n",
    "<br>\n",
    "\n",
    "#### Celá čísla (integer)\n",
    "\n",
    "---\n"
   ]
  },
  {
   "cell_type": "code",
   "execution_count": null,
   "metadata": {
    "scrolled": true
   },
   "outputs": [],
   "source": [
    "100 + 200  # v interaktnivním interpretu začneš psát za \">>>\""
   ]
  },
  {
   "cell_type": "markdown",
   "metadata": {},
   "source": [
    "\n",
    "<br>\n",
    "\n",
    "V zápise je vhodné **psát mezery**, aby byl přehlednější. Je to pouze obecně platné doporučení. Výstup bude stejný, pokud je nepoužijeme:"
   ]
  },
  {
   "cell_type": "code",
   "execution_count": null,
   "metadata": {},
   "outputs": [],
   "source": [
    "100+200     # stejné hodnoty, jiný zápis bez mezer"
   ]
  },
  {
   "cell_type": "markdown",
   "metadata": {},
   "source": [
    "\n",
    "<br>\n",
    "\n",
    "Všimni si symbolu `#`, který jsme použili v obou zápisech výše. Mřížka naznačuje, že jde o **jednořádkový komentář**. Python bude zápis za ní ignorovat, takže ji můžeš využít pro tvoje vlastní vysvětlivky."
   ]
  },
  {
   "cell_type": "code",
   "execution_count": null,
   "metadata": {
    "scrolled": true
   },
   "outputs": [],
   "source": [
    "300 - 100"
   ]
  },
  {
   "cell_type": "code",
   "execution_count": null,
   "metadata": {
    "scrolled": true
   },
   "outputs": [],
   "source": [
    "200 * 100"
   ]
  },
  {
   "cell_type": "code",
   "execution_count": null,
   "metadata": {
    "scrolled": true
   },
   "outputs": [],
   "source": [
    "700 / 350"
   ]
  },
  {
   "cell_type": "markdown",
   "metadata": {},
   "source": [
    "\n",
    "<br>\n",
    "\n",
    "Znaménko mezi čísly se často označuje jako tzv. **operátor** (čísla na jeho stranách potom jako **operandy**). Pokud na toto označení narazíš, tak ať ti není cizí.\n",
    "\n",
    "\n",
    "<br>\n",
    "\n",
    "#### Ověření datového typu\n",
    "\n",
    "---\n",
    "\n",
    "Za pomocí zabudované funkce `type` ověříme, jestli je číselná hodnota skutečně *integer*."
   ]
  },
  {
   "cell_type": "code",
   "execution_count": null,
   "metadata": {
    "scrolled": true
   },
   "outputs": [],
   "source": [
    "type(222)"
   ]
  },
  {
   "cell_type": "markdown",
   "metadata": {},
   "source": [
    "<br>\n",
    "\n",
    "V obou případech jsme dostali zpátky výstup interpreta, jehož formát nám zatím nemusí být jasný. Zásadní je část toho výstupu, kde stojí `int` - *integer*. Takže jde skutečně o celé číslo a Python to ví.\n",
    "\n",
    "<br>\n",
    "\n",
    "\n",
    "<br>\n",
    "\n",
    "#### Desetinná čísla (floats)\n",
    "\n",
    "---\n",
    "\n",
    "**Pozor!** Desetinným oddělovačem je **tečka**. Čárka slouží k jiným účelům."
   ]
  },
  {
   "cell_type": "code",
   "execution_count": null,
   "metadata": {
    "scrolled": true
   },
   "outputs": [],
   "source": [
    "0.1 + 0.3"
   ]
  },
  {
   "cell_type": "code",
   "execution_count": null,
   "metadata": {
    "scrolled": true
   },
   "outputs": [],
   "source": [
    "0.5 - 0.3"
   ]
  },
  {
   "cell_type": "code",
   "execution_count": null,
   "metadata": {
    "scrolled": true
   },
   "outputs": [],
   "source": [
    "type(0.3)"
   ]
  },
  {
   "cell_type": "markdown",
   "metadata": {},
   "source": [
    "<br>\n",
    "\n",
    "#### Aritmetické operace\n",
    "\n",
    "---\n",
    "\n",
    "Standartní operace, které známe z matematiky:"
   ]
  },
  {
   "cell_type": "markdown",
   "metadata": {},
   "source": [
    "```python\n",
    "10 + 5    # 15\n",
    "10 - 5    # 5\n",
    "10 * 5    # 50\n",
    "10 / 5    # 2.0 (?)\n",
    "```"
   ]
  },
  {
   "cell_type": "code",
   "execution_count": null,
   "metadata": {
    "scrolled": true
   },
   "outputs": [],
   "source": [
    "10 + 5"
   ]
  },
  {
   "cell_type": "code",
   "execution_count": null,
   "metadata": {
    "scrolled": true
   },
   "outputs": [],
   "source": [
    "10 - 5"
   ]
  },
  {
   "cell_type": "code",
   "execution_count": null,
   "metadata": {
    "scrolled": true
   },
   "outputs": [],
   "source": [
    "10 /5"
   ]
  },
  {
   "cell_type": "code",
   "execution_count": null,
   "metadata": {
    "scrolled": true
   },
   "outputs": [],
   "source": [
    "type(10 / 5)"
   ]
  },
  {
   "cell_type": "markdown",
   "metadata": {},
   "source": [
    "\n",
    "<br>\n",
    "\n",
    "Práce s jednotlivými datovými typy může být záludná. Opatrně na výsledné typ:"
   ]
  },
  {
   "cell_type": "code",
   "execution_count": null,
   "metadata": {
    "scrolled": true
   },
   "outputs": [],
   "source": [
    "10 / 3"
   ]
  },
  {
   "cell_type": "code",
   "execution_count": null,
   "metadata": {
    "scrolled": true
   },
   "outputs": [],
   "source": [
    "type(10 / 5)"
   ]
  },
  {
   "cell_type": "markdown",
   "metadata": {},
   "source": [
    "\n",
    "<br>\n",
    "\n",
    "Méně známe operace dostupné v Pythonu:\n",
    "\n",
    "| Operátor | Význam |\n",
    "|:-:|:-|\n",
    "| `//` | celočíselné dělení |\n",
    "| `%` | modulo (zbytek po `//`)|\n",
    "| `**` | umocňování |"
   ]
  },
  {
   "cell_type": "code",
   "execution_count": null,
   "metadata": {
    "scrolled": true
   },
   "outputs": [],
   "source": [
    "10 // 3"
   ]
  },
  {
   "cell_type": "code",
   "execution_count": null,
   "metadata": {
    "scrolled": true
   },
   "outputs": [],
   "source": [
    "10 // 4"
   ]
  },
  {
   "cell_type": "code",
   "execution_count": null,
   "metadata": {
    "scrolled": true
   },
   "outputs": [],
   "source": [
    "10 % 2"
   ]
  },
  {
   "cell_type": "code",
   "execution_count": null,
   "metadata": {
    "scrolled": true
   },
   "outputs": [],
   "source": [
    "11 % 2"
   ]
  },
  {
   "cell_type": "code",
   "execution_count": null,
   "metadata": {
    "scrolled": true
   },
   "outputs": [],
   "source": [
    "10 ** 3"
   ]
  },
  {
   "cell_type": "code",
   "execution_count": null,
   "metadata": {
    "scrolled": true
   },
   "outputs": [],
   "source": [
    "2 ** 3"
   ]
  },
  {
   "cell_type": "markdown",
   "metadata": {},
   "source": [
    "\n",
    "<br>\n",
    "\n",
    "Pokud budete časem potřebovat specializovanější matematické funkce, doporučuji vyzkoušet knihovnu `math`.\n",
    "\n",
    "<br>\n",
    "\n",
    "#### Komplikace s čísly\n",
    "\n",
    "---"
   ]
  },
  {
   "cell_type": "code",
   "execution_count": null,
   "metadata": {
    "scrolled": true
   },
   "outputs": [],
   "source": [
    "2 + 3 * 2"
   ]
  },
  {
   "cell_type": "code",
   "execution_count": null,
   "metadata": {},
   "outputs": [],
   "source": [
    "(2 + 3) * 2"
   ]
  },
  {
   "cell_type": "markdown",
   "metadata": {},
   "source": [
    "\n",
    "<br>\n",
    "\n",
    "Různé operátory mají různé priority. Pokud budete používat různé operátory, doporučuji odlišovat mezi jejich důležitostí:"
   ]
  },
  {
   "cell_type": "code",
   "execution_count": null,
   "metadata": {
    "scrolled": true
   },
   "outputs": [],
   "source": [
    "2 + 3*2"
   ]
  },
  {
   "cell_type": "markdown",
   "metadata": {},
   "source": [
    "#### Hierarchie matematických operátorů\n",
    "\n",
    "---\n",
    "\n",
    "| Pořadí | Operátor | Proces |\n",
    "|:-:|:-:|:-|\n",
    "| 1. | `()` | závorky |\n",
    "| 2. | `**` | umocňování |\n",
    "| 3. | `*` `/` `//` `%` | násobení, dělení (celočíselné), modulo |\n",
    "| 4. | `+` `-`  | sčítání, odčítání |\n",
    "\n",
    "\n",
    "---"
   ]
  }
 ],
 "metadata": {
  "kernelspec": {
   "display_name": "Python 3.10.8 64-bit",
   "language": "python",
   "name": "python3"
  },
  "language_info": {
   "codemirror_mode": {
    "name": "ipython",
    "version": 3
   },
   "file_extension": ".py",
   "mimetype": "text/x-python",
   "name": "python",
   "nbconvert_exporter": "python",
   "pygments_lexer": "ipython3",
   "version": "3.10.8"
  },
  "vscode": {
   "interpreter": {
    "hash": "6ef888e41b2dcc37ae80de0301c51e998172b445c6e5b7c6cf8fc3e0b77a5d1f"
   }
  }
 },
 "nbformat": 4,
 "nbformat_minor": 4
}
