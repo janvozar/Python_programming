{
 "cells": [
  {
   "cell_type": "markdown",
   "metadata": {},
   "source": [
    "### Proměnné (~variables)\n",
    "\n",
    "---\n",
    "\n",
    "* [Pravidla pro vytváření jmen odkazů (proměnných)](https://easycodebook.com/python-variable-names-and-naming-rules/)\n",
    "* [Doporučení pep8, zápisování konstant](https://www.python.org/dev/peps/pep-0008/#constants)\n",
    "\n",
    "<br>\n",
    "\n",
    "**Proměnná** (angl. *variable*) je v podstatě místo, kam schováme naše hodnoty, abychom je mohli později (opakovaně) použít.\n",
    "\n",
    "<br>\n",
    "\n",
    "#### Vytvoření proměnné\n",
    "\n",
    "---\n",
    "\n",
    "Pro vytvoření proměnné musíš dodržet tento postup:\n",
    "```python\n",
    "jmeno = \"Lukas\"\n",
    "```"
   ]
  },
  {
   "cell_type": "code",
   "execution_count": 3,
   "metadata": {},
   "outputs": [],
   "source": [
    "jmeno = \"Lukas\""
   ]
  },
  {
   "cell_type": "code",
   "execution_count": 4,
   "metadata": {},
   "outputs": [
    {
     "name": "stdout",
     "output_type": "stream",
     "text": [
      "Lukas\n"
     ]
    }
   ],
   "source": [
    "print(jmeno)"
   ]
  },
  {
   "cell_type": "markdown",
   "metadata": {},
   "source": [
    "\n",
    "<br>\n",
    "\n",
    "1. `jmeno` - na levé straně od rovnítka je **jméno proměnné**. Jak pojmenovat proměnnou si povíme za chvíli,\n",
    "\n",
    "<br>\n",
    "\n",
    "2. `=` symbol, který **přiřadí zadanou hodnotu** ke jménu proměnné,\n",
    "\n",
    "<br>\n",
    "\n",
    "3. `\"Lukas\"` - je **hodnota**, kterou si chceme uložit na později (nebo ji použít více než 1x). V tomto případě je to string, ale můžeš uložit také číselné hodnoty aj.\n",
    "\n",
    "<br>\n",
    "\n",
    "#### Jak pojmenovat proměnnou\n",
    "\n",
    "---\n",
    "\n",
    "Jméno proměnné (někdy také odkaz) **může obsahovat** tyto znaky:\n",
    "\n",
    "1. **Písmenné** znaky\n",
    "2. **Číselné** znaky\n",
    "3. **Podtržítka**\n"
   ]
  },
  {
   "cell_type": "code",
   "execution_count": 5,
   "metadata": {},
   "outputs": [],
   "source": [
    "jmeno = \"Lukas\""
   ]
  },
  {
   "cell_type": "code",
   "execution_count": 6,
   "metadata": {},
   "outputs": [],
   "source": [
    "jmeno2 = \"Jan\""
   ]
  },
  {
   "cell_type": "code",
   "execution_count": 7,
   "metadata": {},
   "outputs": [],
   "source": [
    "moje_jmeno = \"Jakub\""
   ]
  },
  {
   "cell_type": "code",
   "execution_count": 8,
   "metadata": {},
   "outputs": [],
   "source": [
    "mojeJmeno = \"David\""
   ]
  },
  {
   "cell_type": "code",
   "execution_count": 9,
   "metadata": {},
   "outputs": [
    {
     "data": {
      "text/plain": [
       "'Lukas'"
      ]
     },
     "execution_count": 9,
     "metadata": {},
     "output_type": "execute_result"
    }
   ],
   "source": [
    "jmeno"
   ]
  },
  {
   "cell_type": "markdown",
   "metadata": {},
   "source": [
    "\n",
    "<br>\n",
    "\n",
    "Existují ovšem znaky, které jméno **obsahovat nesmí**:\n",
    "\n",
    "1. Jméno proměnné nesmí **začínat číselným znakem**,\n",
    "2. jméno proměnné nesmí **obsahovat speciální znaky** (kromě podtržítka),\n",
    "3. Jméno proměnné nesmí **obsahovat mezery**.\n"
   ]
  },
  {
   "cell_type": "code",
   "execution_count": 10,
   "metadata": {},
   "outputs": [
    {
     "ename": "SyntaxError",
     "evalue": "invalid imaginary literal (2251583034.py, line 1)",
     "output_type": "error",
     "traceback": [
      "\u001b[0;36m  Cell \u001b[0;32mIn [10], line 1\u001b[0;36m\u001b[0m\n\u001b[0;31m    2jmeno = \"Marek\"\u001b[0m\n\u001b[0m     ^\u001b[0m\n\u001b[0;31mSyntaxError\u001b[0m\u001b[0;31m:\u001b[0m invalid imaginary literal\n"
     ]
    }
   ],
   "source": [
    "2jmeno = \"Marek\""
   ]
  },
  {
   "cell_type": "code",
   "execution_count": null,
   "metadata": {},
   "outputs": [],
   "source": [
    "moje_jmeno = \"Tomas\""
   ]
  },
  {
   "cell_type": "code",
   "execution_count": null,
   "metadata": {},
   "outputs": [],
   "source": [
    "moje_jmeno = \"Zdenek\""
   ]
  },
  {
   "cell_type": "markdown",
   "metadata": {},
   "source": [
    "\n",
    "<br>\n",
    "\n",
    "Tady jsou některá další doporučení, které mají uživatelům pomáhat při zapisování a čtení.\n",
    "\n",
    "<br>\n",
    "\n",
    "#### Styl pojmenování"
   ]
  },
  {
   "cell_type": "markdown",
   "metadata": {},
   "source": [
    "<br>\n",
    "\n",
    "`snake_case` (slova zapsaná malými písmeny, oddělená podtržítkem):"
   ]
  },
  {
   "cell_type": "code",
   "execution_count": null,
   "metadata": {},
   "outputs": [],
   "source": [
    "moje_jmeno = \"Jan\""
   ]
  },
  {
   "cell_type": "code",
   "execution_count": null,
   "metadata": {},
   "outputs": [],
   "source": [
    "nova_hodnota = 1234"
   ]
  },
  {
   "cell_type": "markdown",
   "metadata": {},
   "source": [
    "#### Práce s proměnnými\n",
    "\n",
    "---\n",
    "\n",
    "Proměnná je pouze odkaz na hodnotu (jako je *string*, *integer*, *float*), proto je můžeš používat stejně, jak jsme si doposud ukazovali:\n",
    "\n",
    "<br>\n",
    "\n",
    "**integer**"
   ]
  },
  {
   "cell_type": "code",
   "execution_count": null,
   "metadata": {},
   "outputs": [],
   "source": [
    "jedno_cislo = 5"
   ]
  },
  {
   "cell_type": "code",
   "execution_count": null,
   "metadata": {},
   "outputs": [],
   "source": [
    "druhe_cislo = 6"
   ]
  },
  {
   "cell_type": "code",
   "execution_count": null,
   "metadata": {},
   "outputs": [],
   "source": [
    "jedno_cislo - druhe_cislo"
   ]
  },
  {
   "cell_type": "markdown",
   "metadata": {},
   "source": [
    "\n",
    "<br>\n",
    "\n",
    "**string**"
   ]
  },
  {
   "cell_type": "code",
   "execution_count": 11,
   "metadata": {},
   "outputs": [],
   "source": [
    "jmeno = \"Karel\""
   ]
  },
  {
   "cell_type": "code",
   "execution_count": 12,
   "metadata": {},
   "outputs": [],
   "source": [
    "prijmeni = \"Novak\""
   ]
  },
  {
   "cell_type": "code",
   "execution_count": 13,
   "metadata": {},
   "outputs": [
    {
     "name": "stdout",
     "output_type": "stream",
     "text": [
      "KarelNovak\n"
     ]
    }
   ],
   "source": [
    "print(jmeno + prijmeni)"
   ]
  },
  {
   "cell_type": "code",
   "execution_count": 15,
   "metadata": {},
   "outputs": [
    {
     "name": "stdout",
     "output_type": "stream",
     "text": [
      "Karel Novak\n"
     ]
    }
   ],
   "source": [
    "print(jmeno, prijmeni)"
   ]
  },
  {
   "cell_type": "markdown",
   "metadata": {},
   "source": [
    "---"
   ]
  }
 ],
 "metadata": {
  "kernelspec": {
   "display_name": "Python 3.10.8 64-bit",
   "language": "python",
   "name": "python3"
  },
  "language_info": {
   "codemirror_mode": {
    "name": "ipython",
    "version": 3
   },
   "file_extension": ".py",
   "mimetype": "text/x-python",
   "name": "python",
   "nbconvert_exporter": "python",
   "pygments_lexer": "ipython3",
   "version": "3.10.8"
  },
  "vscode": {
   "interpreter": {
    "hash": "aee8b7b246df8f9039afb4144a1f6fd8d2ca17a180786b69acc140d282b71a49"
   }
  }
 },
 "nbformat": 4,
 "nbformat_minor": 4
}
