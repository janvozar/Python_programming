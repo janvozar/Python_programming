{
 "cells": [
  {
   "cell_type": "markdown",
   "metadata": {},
   "source": [
    "### Úvod do funkcí\n",
    "Obecně řečeno Python disponuje několika typy funkcí. Nás budou zajímat hlavně tyto:\n",
    "\n",
    "<br>\n",
    "\n",
    "1. **Zabudované funkce** (~*built-in functions*)\n",
    "2. **Uživatelské funkce** (~*user-defined functions*)\n",
    "\n",
    "<br>\n",
    "\n",
    "Funkce jsou v podstatě pomocné nástroje, které ti umožní snazší a efektivnější práci (např. zadávat hodnoty do tvého programu nebo měnit datovou strukturu jedné hodnoty na jinou).\n",
    "\n",
    "<br>\n",
    "\n",
    "To, že nesou označení **zabudované** znamená, že je máš k dispozici ihned po instalaci. Tedy v každém souboru (s příponou `.py`), který do budoucna vytvoříš.\n",
    "\n",
    "<br>\n",
    "\n",
    "#### Použití zabudované funkce\n",
    "\n",
    "---\n",
    "\n",
    "| Jméno funkce | Účel funkce |\n",
    "| :-: | :- |\n",
    "| `type` | Vrací datový typ zadané hodnoty |\n",
    "| `round` | Zaokrouhlí zadanou hodnotu na stanovený počet desetinných míst |\n",
    "| `abs` | Vrací absolutní hodnotu |\n",
    "| `int` | Vrací *integer* ze zadaného stringu nebo číselného údaje |\n",
    "| `float` | Vrací *float* ze zadaného stringu nebo číselného údaje |\n",
    "| `str` | Vrací *string* ze zadané hodnoty |\n",
    "| `list` | Vrací nový objekt, sekvenční datový typ *list* |\n",
    "| `tuple` | Vrací nový objekt, sekvenční datový typ *tuple* |\n",
    "| `help` | Vratí nápovědu k zadanému objektu |\n",
    "| `print` | Vypisuje zadné hodnoty jako výstupy |\n",
    "| `input` | Umožňuje ukládat vstupy od uživatele |\n",
    "| `len` | Vrací délku zadané hodnoty |\n",
    "| `max` | Vrací největší hodnotu |\n",
    "| `min` | Vrací nejmenší hodnotu |\n",
    "| `sum` | Vrací součet všech hodnot |\n",
    "| `pow` | Vrací zadanou hodnotu umocněnou o zadaný exponent |\n",
    "\n",
    "<br>\n",
    "\n",
    "Pokud máš se zabudovanými funkcemi nějaké zkušenosti, nebo tě zajímá, které další bys mohl v rámci Pythonu využít, mrkni na [oficiální tabulku](https://docs.python.org/3/library/functions.html) všech zabudovaných funkcí."
   ]
  },
  {
   "cell_type": "markdown",
   "metadata": {},
   "source": [
    "\n",
    "<br>\n",
    "\n",
    "#### `type`\n",
    "\n",
    "---\n"
   ]
  },
  {
   "cell_type": "code",
   "execution_count": null,
   "metadata": {},
   "outputs": [],
   "source": [
    "jmeno = \"Matous\"\n",
    "type(jmeno)"
   ]
  },
  {
   "cell_type": "code",
   "execution_count": null,
   "metadata": {},
   "outputs": [],
   "source": [
    "type([1, 2, 3])"
   ]
  },
  {
   "cell_type": "markdown",
   "metadata": {},
   "source": [
    "<br>\n",
    "\n",
    "#### `int`\n",
    "\n",
    "---"
   ]
  },
  {
   "cell_type": "code",
   "execution_count": null,
   "metadata": {},
   "outputs": [],
   "source": [
    "type(int(\"11\"))"
   ]
  },
  {
   "cell_type": "markdown",
   "metadata": {},
   "source": [
    "<br>\n",
    "\n",
    "#### `float`\n",
    "\n",
    "---"
   ]
  },
  {
   "cell_type": "code",
   "execution_count": null,
   "metadata": {},
   "outputs": [],
   "source": [
    "type(float(\"1.123\"))"
   ]
  },
  {
   "cell_type": "code",
   "execution_count": null,
   "metadata": {},
   "outputs": [],
   "source": [
    "float(12)"
   ]
  },
  {
   "cell_type": "markdown",
   "metadata": {},
   "source": [
    "<br>\n",
    "\n",
    "#### `str`\n",
    "\n",
    "---"
   ]
  },
  {
   "cell_type": "code",
   "execution_count": null,
   "metadata": {},
   "outputs": [],
   "source": [
    "rohlik = 1\n",
    "celek = \"Cena za rohlik \" + str(rohlik) + \" Kc\"\n",
    "print(celek)"
   ]
  },
  {
   "cell_type": "code",
   "execution_count": null,
   "metadata": {},
   "outputs": [],
   "source": [
    "banan = 5.5\n",
    "print(f\"Cena za kus {banan} Kc\")"
   ]
  },
  {
   "cell_type": "markdown",
   "metadata": {},
   "source": [
    "\n",
    "<br>\n",
    "\n",
    "#### `help`\n",
    "\n",
    "---"
   ]
  },
  {
   "cell_type": "code",
   "execution_count": null,
   "metadata": {},
   "outputs": [],
   "source": [
    "help(print)"
   ]
  },
  {
   "cell_type": "markdown",
   "metadata": {},
   "source": [
    "<br>\n",
    "\n",
    "#### `print`\n",
    "\n",
    "---"
   ]
  },
  {
   "cell_type": "code",
   "execution_count": null,
   "metadata": {},
   "outputs": [],
   "source": [
    "print(1)"
   ]
  },
  {
   "cell_type": "code",
   "execution_count": null,
   "metadata": {},
   "outputs": [],
   "source": [
    "print(\"Jan\", \"Novak\")"
   ]
  },
  {
   "cell_type": "code",
   "execution_count": null,
   "metadata": {},
   "outputs": [],
   "source": [
    "den = \"utery\"\n",
    "teplota = 12"
   ]
  },
  {
   "cell_type": "code",
   "execution_count": null,
   "metadata": {
    "tags": []
   },
   "outputs": [],
   "source": [
    "print(\"Dnes je\", den, \"a teplota v Brne je\", teplota, \"°C\")"
   ]
  },
  {
   "cell_type": "code",
   "execution_count": null,
   "metadata": {
    "tags": []
   },
   "outputs": [],
   "source": [
    "print(f\"Dnes je {den} a teplota v Brne je {teplota}°C\")"
   ]
  },
  {
   "cell_type": "markdown",
   "metadata": {},
   "source": [
    "<br>\n",
    "\n",
    "#### `input`\n",
    "\n",
    "---"
   ]
  },
  {
   "cell_type": "code",
   "execution_count": null,
   "metadata": {},
   "outputs": [],
   "source": [
    "input()"
   ]
  },
  {
   "cell_type": "code",
   "execution_count": null,
   "metadata": {},
   "outputs": [],
   "source": [
    "pismeno = input(\"Vepis pismeno:\")\n",
    "print(f\"Zadali jste {pismeno}\")"
   ]
  },
  {
   "cell_type": "code",
   "execution_count": null,
   "metadata": {},
   "outputs": [],
   "source": [
    "cislo = int(input(\"Zadej cislo:\"))\n",
    "print(f\"Zadali jste {type(cislo)}\")"
   ]
  },
  {
   "cell_type": "code",
   "execution_count": null,
   "metadata": {},
   "outputs": [],
   "source": [
    "print(\"Zadej cislo:\")\n",
    "cislo = input()"
   ]
  },
  {
   "cell_type": "markdown",
   "metadata": {},
   "source": [
    "---"
   ]
  }
 ],
 "metadata": {
  "kernelspec": {
   "display_name": "Python 3.10.8 64-bit",
   "language": "python",
   "name": "python3"
  },
  "language_info": {
   "codemirror_mode": {
    "name": "ipython",
    "version": 3
   },
   "file_extension": ".py",
   "mimetype": "text/x-python",
   "name": "python",
   "nbconvert_exporter": "python",
   "pygments_lexer": "ipython3",
   "version": "3.10.8"
  },
  "vscode": {
   "interpreter": {
    "hash": "6ef888e41b2dcc37ae80de0301c51e998172b445c6e5b7c6cf8fc3e0b77a5d1f"
   }
  }
 },
 "nbformat": 4,
 "nbformat_minor": 4
}
