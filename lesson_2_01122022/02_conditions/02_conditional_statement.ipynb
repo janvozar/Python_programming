{
 "cells": [
  {
   "cell_type": "markdown",
   "metadata": {},
   "source": [
    "### Podmínkový zápis\n",
    "\n",
    "#### Předpis `if`\n",
    "\n",
    "---"
   ]
  },
  {
   "cell_type": "code",
   "execution_count": 1,
   "metadata": {},
   "outputs": [
    {
     "name": "stdout",
     "output_type": "stream",
     "text": [
      "Ahoj, Matousi!\n",
      "Pokracuji..\n"
     ]
    }
   ],
   "source": [
    "if True:\n",
    "    print(\"Ahoj, Matousi!\")\n",
    "print(\"Pokracuji..\")"
   ]
  },
  {
   "cell_type": "code",
   "execution_count": 2,
   "metadata": {},
   "outputs": [
    {
     "name": "stdout",
     "output_type": "stream",
     "text": [
      "Pokracuji..\n"
     ]
    }
   ],
   "source": [
    "if False:\n",
    "    print(\"Ahoj, Matousi!\")\n",
    "print(\"Pokracuji..\")"
   ]
  },
  {
   "cell_type": "markdown",
   "metadata": {},
   "source": [
    "#### Předpis `if` / `else`\n",
    "\n",
    "---"
   ]
  },
  {
   "cell_type": "code",
   "execution_count": null,
   "metadata": {},
   "outputs": [],
   "source": [
    "registrovany = True\n",
    "\n",
    "if registrovany:\n",
    "    print(\"Pridavam obrazek\")\n",
    "else:\n",
    "    print(\"Neregistrovani uzivatele nemohou pridat obrazky\")"
   ]
  },
  {
   "cell_type": "code",
   "execution_count": null,
   "metadata": {},
   "outputs": [],
   "source": [
    "registrovany = False\n",
    "\n",
    "if registrovany:\n",
    "    print(\"Pridavam obrazek\")\n",
    "else:\n",
    "    print(\"Neregistrovani uzivatele nemohou pridat obrazky\")"
   ]
  },
  {
   "cell_type": "markdown",
   "metadata": {},
   "source": [
    "#### Předpis `if`/`elif`/`else`\n",
    "\n",
    "---"
   ]
  },
  {
   "cell_type": "code",
   "execution_count": null,
   "metadata": {},
   "outputs": [],
   "source": [
    "jmeno = \"Matous\"\n",
    "\n",
    "if jmeno == \"Matous\":\n",
    "    print(\"Ahoj, Matousi!\")\n",
    "elif jmeno == \"Lukas\":\n",
    "    print(\"Ahoj, Lukasi!\")\n",
    "else:\n",
    "    print(\"Ahoj, vsem ostatnim!\")"
   ]
  },
  {
   "cell_type": "code",
   "execution_count": null,
   "metadata": {},
   "outputs": [],
   "source": [
    "jmeno = \"Ondra\"\n",
    "\n",
    "if jmeno == \"Matous\":\n",
    "    print(\"Ahoj, Matousi!\")\n",
    "elif jmeno == \"Lukas\":\n",
    "    print(\"Ahoj, Lukasi!\")\n",
    "else:\n",
    "    print(\"Ahoj, vsem ostatnim!\")"
   ]
  },
  {
   "cell_type": "code",
   "execution_count": null,
   "metadata": {},
   "outputs": [],
   "source": [
    "jmeno = \"Matous\"\n",
    "registrovany = True\n",
    "\n",
    "if jmeno == \"Matous\" and registrovany:\n",
    "    print(\"Ahoj, Matousi!\")\n",
    "elif jmeno == \"Lukas\":\n",
    "    print(\"Ahoj, Lukasi!\")\n",
    "else:\n",
    "    print(\"Ahoj, vsem ostatnim!\")"
   ]
  },
  {
   "cell_type": "markdown",
   "metadata": {},
   "source": [
    "#### Více podmínek v jednom záhlaví\n",
    "\n",
    "---"
   ]
  },
  {
   "cell_type": "code",
   "execution_count": null,
   "metadata": {},
   "outputs": [],
   "source": [
    "jmeno = \"Lukas\"\n",
    "je_zdravy = False"
   ]
  },
  {
   "cell_type": "code",
   "execution_count": null,
   "metadata": {},
   "outputs": [],
   "source": [
    "if jmeno == \"Matous\" and je_zdravy:\n",
    "    zprava = \"Ahoj, Matousi! Tak at te zdravi neopousti!\"\n",
    "    \n",
    "elif jmeno == \"Lukas\" and je_zdravy:\n",
    "    zprava = \"Ahoj, Lukasi! Tak at te zdravi neopousti!\"\n",
    "\n",
    "elif jmeno == \"Matous\" and je_zdravy == False:\n",
    "    zprava = \"Ahoj, Matousi! Hlavne se brzy uzdrav!\"\n",
    "    \n",
    "elif jmeno == \"Lukas\" and not je_zdravy:\n",
    "    zprava = \"Ahoj, Lukasi! Hlavne se brzy uzdrav!\"\n",
    "\n",
    "else:\n",
    "    zprava = \"Ahoj, vsem ostatnim!\""
   ]
  },
  {
   "cell_type": "code",
   "execution_count": null,
   "metadata": {},
   "outputs": [],
   "source": [
    "print(zprava)"
   ]
  },
  {
   "cell_type": "markdown",
   "metadata": {},
   "source": [
    "---"
   ]
  }
 ],
 "metadata": {
  "kernelspec": {
   "display_name": "Python 3.10.8 64-bit",
   "language": "python",
   "name": "python3"
  },
  "language_info": {
   "codemirror_mode": {
    "name": "ipython",
    "version": 3
   },
   "file_extension": ".py",
   "mimetype": "text/x-python",
   "name": "python",
   "nbconvert_exporter": "python",
   "pygments_lexer": "ipython3",
   "version": "3.10.8"
  },
  "vscode": {
   "interpreter": {
    "hash": "6ef888e41b2dcc37ae80de0301c51e998172b445c6e5b7c6cf8fc3e0b77a5d1f"
   }
  }
 },
 "nbformat": 4,
 "nbformat_minor": 4
}
