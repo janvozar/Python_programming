{
 "cells": [
  {
   "cell_type": "markdown",
   "metadata": {},
   "source": [
    "### Boolean\n",
    "<br>\n",
    "\n",
    "Tento **datový typ** pomáhá rozhodovat, jestli je celý **zápis** (ohlášení) či **hodnota** (výraz) pravdivý a nebo nepravdivý.\n",
    "\n",
    "<br>\n",
    "\n",
    "Setkáme se s hodnotami:\n",
    "* `True` (~pravda),\n",
    "* `False`(~nepravda).\n",
    "\n",
    "<br>\n",
    "\n",
    "**Boolean** vychází z datového typu **integer** (~z celých čísel):\n",
    "* `True` odpovídá hodnotě `1`,\n",
    "* `False`odpovídá hodnotě `0`."
   ]
  },
  {
   "cell_type": "code",
   "execution_count": null,
   "metadata": {},
   "outputs": [],
   "source": [
    "bool(1)"
   ]
  },
  {
   "cell_type": "code",
   "execution_count": null,
   "metadata": {},
   "outputs": [],
   "source": [
    "bool(0)"
   ]
  },
  {
   "cell_type": "code",
   "execution_count": null,
   "metadata": {},
   "outputs": [],
   "source": [
    "probiha_akademie = True"
   ]
  },
  {
   "cell_type": "code",
   "execution_count": null,
   "metadata": {},
   "outputs": [],
   "source": [
    "print(probiha_akademie)"
   ]
  },
  {
   "cell_type": "code",
   "execution_count": null,
   "metadata": {},
   "outputs": [],
   "source": [
    "bool(\"Ahoj\")"
   ]
  },
  {
   "cell_type": "code",
   "execution_count": null,
   "metadata": {},
   "outputs": [],
   "source": [
    "bool(\"\")"
   ]
  },
  {
   "cell_type": "code",
   "execution_count": null,
   "metadata": {},
   "outputs": [],
   "source": [
    "bool([])"
   ]
  },
  {
   "cell_type": "code",
   "execution_count": null,
   "metadata": {},
   "outputs": [],
   "source": [
    "bool([\"test\", 1])"
   ]
  },
  {
   "cell_type": "markdown",
   "metadata": {},
   "source": [
    "Můžeme tedy prohlásit, že pokud vložím **neprázdnou hodnotu** (`str`, `int`, `list`), dostaneme hodnotu `True`. V opačném případě dostaneme `False`.\n",
    "\n",
    "<br>\n",
    "\n",
    "#### Srovnávací operátory\n",
    "\n",
    "---\n",
    "\n",
    "| Operátor | Význam |\n",
    "|:-:|:-|\n",
    "| `<` | menší než |\n",
    "| `>` | větší než |\n",
    "| `<=` | menší nebo rovno |\n",
    "| `>=` | větší nebo rovno |\n",
    "| `==` | rovnost |\n",
    "| `!=` | nerovnost |\n",
    "| `is` | totožná objektová identita |\n",
    "| `is not` | různá objektová identita |\n",
    "\n",
    "<br>\n",
    "\n",
    "Nejprve **klasické srovnává operátory**, které již známe:"
   ]
  },
  {
   "cell_type": "code",
   "execution_count": null,
   "metadata": {},
   "outputs": [],
   "source": [
    "bool(1 < 2)  "
   ]
  },
  {
   "cell_type": "code",
   "execution_count": null,
   "metadata": {},
   "outputs": [],
   "source": [
    "100 >= 99 # pokud je výsledkem výrazu boolean, není potřeba funkce bool"
   ]
  },
  {
   "cell_type": "markdown",
   "metadata": {},
   "source": [
    "<br>\n",
    "\n",
    "**Srovnání dvou hodnot** pomocí `==`a `!=`:"
   ]
  },
  {
   "cell_type": "code",
   "execution_count": null,
   "metadata": {},
   "outputs": [],
   "source": [
    "10 == 10"
   ]
  },
  {
   "cell_type": "code",
   "execution_count": null,
   "metadata": {},
   "outputs": [],
   "source": [
    "5 != 10"
   ]
  },
  {
   "cell_type": "code",
   "execution_count": null,
   "metadata": {},
   "outputs": [],
   "source": [
    "10 != 10"
   ]
  },
  {
   "cell_type": "markdown",
   "metadata": {},
   "source": [
    "<br>\n",
    "\n",
    "#### Logické operace\n",
    "\n",
    "---\n",
    "\n",
    "Tyto operace jsou spojené s **boolean operátory**:\n",
    "1. `and`\n",
    "2. `or`\n",
    "3. `not`\n",
    "\n",
    "#### Operátor `and`\n",
    "\n",
    "---"
   ]
  },
  {
   "cell_type": "code",
   "execution_count": null,
   "metadata": {},
   "outputs": [],
   "source": [
    "True and True"
   ]
  },
  {
   "cell_type": "code",
   "execution_count": null,
   "metadata": {},
   "outputs": [],
   "source": [
    "True and False"
   ]
  },
  {
   "cell_type": "code",
   "execution_count": null,
   "metadata": {},
   "outputs": [],
   "source": [
    "False and False"
   ]
  },
  {
   "cell_type": "code",
   "execution_count": null,
   "metadata": {},
   "outputs": [],
   "source": [
    "True and True and True"
   ]
  },
  {
   "cell_type": "markdown",
   "metadata": {},
   "source": [
    "<br>\n",
    "\n",
    "Pokud použijeme **boolean operátor** `and` a od jednotlivých výroků získám byť jednu hodnotu `False`, **celý výsledek** bude **nepravdivý**. Tedy `False`.\n",
    "\n",
    "<br>\n",
    "\n",
    "| `A` | `B` | `A and B` |\n",
    "|:---:|:---:|:---:|\n",
    "| ✔ | ✔ | ✔ |\n",
    "| ✔ | ❌ | ❌ |\n",
    "| ❌ | ✔ | ❌ |\n",
    "| ❌ | ❌ | ❌ |\n",
    "\n",
    "\n",
    "#### Operátor `or`\n",
    "\n",
    "---"
   ]
  },
  {
   "cell_type": "code",
   "execution_count": null,
   "metadata": {},
   "outputs": [],
   "source": [
    "True or True"
   ]
  },
  {
   "cell_type": "code",
   "execution_count": null,
   "metadata": {},
   "outputs": [],
   "source": [
    "True or False"
   ]
  },
  {
   "cell_type": "code",
   "execution_count": null,
   "metadata": {},
   "outputs": [],
   "source": [
    "False or False"
   ]
  },
  {
   "cell_type": "code",
   "execution_count": null,
   "metadata": {},
   "outputs": [],
   "source": [
    "False or False or True"
   ]
  },
  {
   "cell_type": "markdown",
   "metadata": {},
   "source": [
    "<br>\n",
    "\n",
    "Pokud použijeme **boolean operátor** `or` a od jednotlivých výroků získám byť jednu hodnotu `True`, **celý výsledek** bude **pravdivý**. Tedy `True`.\n",
    "\n",
    "<br>\n",
    "\n",
    "| `A` | `B` | `A or B` |\n",
    "|:---:|:---:|:---:|\n",
    "| ✔ | ✔ | ✔ |\n",
    "| ✔ | ❌ | ✔ |\n",
    "| ❌ | ✔ | ✔ |\n",
    "| ❌ | ❌ | ❌ |\n",
    "\n",
    "#### Operátor `not`\n",
    "\n",
    "---"
   ]
  },
  {
   "cell_type": "code",
   "execution_count": null,
   "metadata": {},
   "outputs": [],
   "source": [
    "not True"
   ]
  },
  {
   "cell_type": "code",
   "execution_count": null,
   "metadata": {},
   "outputs": [],
   "source": [
    "not False"
   ]
  },
  {
   "cell_type": "markdown",
   "metadata": {},
   "source": [
    "<br>\n",
    "\n",
    "Jde o operaci, kterou lze aplikovat na **jedinou** **boolean** hodnotu, kdy výsledkem je její obrácená hodnota.\n",
    "\n",
    "<br>\n",
    "\n",
    "| `A` | `not A` |\n",
    "|:---:|:---:|\n",
    "| ✔ | ❌ |\n",
    "| ❌ | ✔ |"
   ]
  },
  {
   "cell_type": "markdown",
   "metadata": {},
   "source": [
    "<br>\n",
    "\n",
    "#### Ověření členství (~membership testing)\n",
    "\n",
    "---"
   ]
  },
  {
   "cell_type": "code",
   "execution_count": null,
   "metadata": {},
   "outputs": [],
   "source": [
    "\"Mat\" in \"Matous\""
   ]
  },
  {
   "cell_type": "code",
   "execution_count": null,
   "metadata": {},
   "outputs": [],
   "source": [
    "\"@\" not in \"Matous\""
   ]
  },
  {
   "cell_type": "code",
   "execution_count": null,
   "metadata": {},
   "outputs": [],
   "source": [
    "numbers = [1,2,3]\n",
    "3 in numbers"
   ]
  },
  {
   "cell_type": "markdown",
   "metadata": {},
   "source": [
    "#### Srovnávání identit\n",
    "\n",
    "---\n",
    "\n",
    "Obecně platí, že všechno v Pythonu je **objekt**."
   ]
  },
  {
   "cell_type": "code",
   "execution_count": null,
   "metadata": {},
   "outputs": [],
   "source": [
    "jmeno_1 = \"Jan\"\n",
    "jmeno_2 = \"Jakub\"\n",
    "prijmeni_1 = \"Novak\"\n",
    "prijmeni_2 = \"Novak\""
   ]
  },
  {
   "cell_type": "code",
   "execution_count": null,
   "metadata": {},
   "outputs": [],
   "source": [
    "print(id(jmeno_1))"
   ]
  },
  {
   "cell_type": "code",
   "execution_count": null,
   "metadata": {},
   "outputs": [],
   "source": [
    "print(id(jmeno_2))"
   ]
  },
  {
   "cell_type": "code",
   "execution_count": null,
   "metadata": {},
   "outputs": [],
   "source": [
    "print(id(prijmeni_1))"
   ]
  },
  {
   "cell_type": "code",
   "execution_count": null,
   "metadata": {},
   "outputs": [],
   "source": [
    "print(id(prijmeni_2))"
   ]
  },
  {
   "cell_type": "code",
   "execution_count": null,
   "metadata": {},
   "outputs": [],
   "source": [
    "print(bool(prijmeni_1 is prijmeni_2))"
   ]
  },
  {
   "cell_type": "markdown",
   "metadata": {
    "tags": []
   },
   "source": [
    "<br>\n",
    "\n",
    "#### `is` nebo `==` ?\n",
    "\n",
    "---\n",
    "\n",
    "Opatrně na aplikaci operátorů porovnávání **identit** a **hodnot**:\n",
    "\n",
    "<br>\n",
    "\n",
    "* `==` a `!=` porovnávají hodnotu dvou objektů\n",
    "* `is` a `is not` porovnávají, jestli dvě proměnné ukazují v paměti počítače na stejný objekt"
   ]
  },
  {
   "cell_type": "code",
   "execution_count": null,
   "metadata": {},
   "outputs": [],
   "source": [
    "muj_seznam_3 = [1, 2, 3]\n",
    "muj_seznam_4 = [1, 2, 3]"
   ]
  },
  {
   "cell_type": "code",
   "execution_count": null,
   "metadata": {},
   "outputs": [],
   "source": [
    "print(muj_seznam_3 == muj_seznam_4)  # [1, 2, 3] == [1, 2, 3]"
   ]
  },
  {
   "cell_type": "code",
   "execution_count": null,
   "metadata": {},
   "outputs": [],
   "source": [
    "print(id(muj_seznam_3))"
   ]
  },
  {
   "cell_type": "code",
   "execution_count": null,
   "metadata": {},
   "outputs": [],
   "source": [
    "print(id(muj_seznam_4))\n"
   ]
  },
  {
   "cell_type": "code",
   "execution_count": null,
   "metadata": {},
   "outputs": [],
   "source": [
    "print(muj_seznam_3 is muj_seznam_4)"
   ]
  }
 ],
 "metadata": {
  "kernelspec": {
   "display_name": "Python 3.10.8 64-bit",
   "language": "python",
   "name": "python3"
  },
  "language_info": {
   "codemirror_mode": {
    "name": "ipython",
    "version": 3
   },
   "file_extension": ".py",
   "mimetype": "text/x-python",
   "name": "python",
   "nbconvert_exporter": "python",
   "pygments_lexer": "ipython3",
   "version": "3.10.8"
  },
  "vscode": {
   "interpreter": {
    "hash": "6ef888e41b2dcc37ae80de0301c51e998172b445c6e5b7c6cf8fc3e0b77a5d1f"
   }
  }
 },
 "nbformat": 4,
 "nbformat_minor": 4
}
