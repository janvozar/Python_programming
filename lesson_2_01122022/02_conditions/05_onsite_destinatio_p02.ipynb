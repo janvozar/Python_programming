{
 "cells": [
  {
   "cell_type": "markdown",
   "metadata": {
    "tags": []
   },
   "source": [
    "### Praktická úloha, Destinatio, část 2\n",
    "\n",
    "---\n",
    "\n",
    "* [Článěk k použití knihovny `whois` (ověřování domény)](https://www.thepythoncode.com/article/extracting-domain-name-information-in-python)\n",
    "* [Oficiální dokumentace knihovny `getpass` (python.org)](https://docs.python.org/3/library/getpass.html)\n",
    "* [Oficiální dokumentace knihovny `datetime` (python.org)](https://docs.python.org/3/library/datetime.html)\n",
    "\n",
    "---\n",
    "\n",
    "Opět si vyzkoušíme všechnu teorii, o které byla doposud řeč.\n",
    "\n",
    "<br>\n",
    "\n",
    "Vezmeme zápis po naší první lekci a zkusíme jej vylepšit pomocí konceptu rozhodování v Pythonu.\n",
    "\n",
    "<br>\n",
    "\n",
    "Program bude umět:\n",
    "1. **Vybrat pouze z nabídky** (1 - 6),\n",
    "2. **přepočítat cenu**, pokud bude sleva,\n",
    "3. **pracovat pouze s křestním jménem**,\n",
    "4. **ověřovat** mailové adresy.\n",
    "\n",
    "<br>\n",
    "\n",
    "#### Vstupní údaje, které použijeme\n",
    "\n",
    "---"
   ]
  },
  {
   "cell_type": "markdown",
   "metadata": {},
   "source": [
    "<br>\n",
    "\n",
    "<details>\n",
    "  <summary>▶️  Klikni zde pro zobrazení</summary>\n",
    "   \n",
    "```python\n",
    "# vstupni promenne\n",
    "mesta = [\n",
    "    \"Praha\", \"Viden\", \"Olomouc\",\n",
    "    \"Svitavy\", \"Zlin\", \"Ostrava\"\n",
    "]\n",
    "domeny = (\"gmail.com\", \"seznam.cz\", \"email.cz\")\n",
    "slevy = (\"Olomouc\", \"Svitavy\", \"Ostrava\")\n",
    "ceny = (150, 200, 120, 120, 100, 180)\n",
    "dvojita_cara = \"=\" * 35\n",
    "cara = \"-\" * 35\n",
    "nabidka = \\\n",
    "\"\"\"1 - Praha   | 150\n",
    "2 - Viden   | 200\n",
    "3 - Olomouc | 120\n",
    "4 - Svitavy | 120\n",
    "5 - Zlin    | 100\n",
    "6 - Ostrava | 180\"\"\"\n",
    "```\n",
    "</details>\n",
    "\n",
    "---"
   ]
  },
  {
   "cell_type": "markdown",
   "metadata": {},
   "source": [
    "<br>\n",
    "\n",
    "#### Výběr pouze z 6ti destinací\n",
    "\n",
    "---\n",
    "\n",
    "Chybná hodnota:\n",
    "```\n",
    "$ python destinatio_2.py\n",
    "CISLO DESTINACE: 9\n",
    "Vybrane cislo neexistuje! Ukoncuji..\n",
    "```\n",
    "\n",
    "<br>\n",
    "\n",
    "Správná hodnota:\n",
    "```\n",
    "$ python destinatio_2.py\n",
    "CISLO DESTINACE: 3\n",
    "Destinace: Olomouc\n",
    "...\n",
    "```"
   ]
  },
  {
   "cell_type": "code",
   "execution_count": null,
   "metadata": {},
   "outputs": [],
   "source": [
    "# Zapiš podmínku pro omezený výběr\n",
    "# Pokud uživatel zadá něco jiného než 1 - 6, ukonči program"
   ]
  },
  {
   "cell_type": "markdown",
   "metadata": {},
   "source": [
    "\n",
    "<br>\n",
    "\n",
    "<details>\n",
    "  <summary>▶️  Klikni zde pro zobrazení</summary>\n",
    "   \n",
    "```python\n",
    "mesta = [\n",
    "    \"Praha\", \"Viden\", \"Olomouc\",\n",
    "    \"Svitavy\", \"Zlin\", \"Ostrava\"\n",
    "]\n",
    "\n",
    "# ziskat vstupy od uzivatele\n",
    "destinace = input(\"CISLO DESTINACE:\")\n",
    "\n",
    "# overeni destinace\n",
    "if int(destinace) >= 1 and int(destinace) <= 6:\n",
    "    upravena_destinace = mesta[int(destinace) - 1]\n",
    "    print(cara)\n",
    "    print(f\"Destinace:{upravena_destinace}\")\n",
    "else:\n",
    "    print(cara)\n",
    "    print(f\"Vybrane cislo neexistuje. Ukoncuji..\")\n",
    "    quit()\n",
    "print(cara)\n",
    "```\n",
    "</details>\n",
    "\n",
    "---"
   ]
  },
  {
   "cell_type": "markdown",
   "metadata": {},
   "source": [
    "<br>\n",
    "\n",
    "#### Přepočet ceny po slevě\n",
    "\n",
    "---\n",
    "\n",
    "```\n",
    "$ python destinatio_2.py\n",
    "CISLO DESTINACE: 3\n",
    "Destinace: Olomouc\n",
    "-----------------------------------\n",
    "ZISKAVATE 25% SLEVU! CENA: 90,-\n",
    "-----------------------------------\n",
    "...\n",
    "```"
   ]
  },
  {
   "cell_type": "code",
   "execution_count": null,
   "metadata": {},
   "outputs": [],
   "source": [
    "# Zapiš podmínku pro výpočet slevy\n",
    "# Pokud se vybrabá destinace nachází v n-tici slevy, uživatel dostane 25% slevu (tzn. cena * 0.75)"
   ]
  },
  {
   "cell_type": "markdown",
   "metadata": {},
   "source": [
    "\n",
    "<br>\n",
    "\n",
    "<details>\n",
    "  <summary>▶️  Klikni zde pro zobrazení</summary>\n",
    "   \n",
    "```python\n",
    "mesta = [\n",
    "    \"Praha\", \"Viden\", \"Olomouc\",\n",
    "    \"Svitavy\", \"Zlin\", \"Ostrava\"\n",
    "]\n",
    "ceny = (150, 200, 120, 120, 100, 180)\n",
    "\n",
    "# ziskat vstupy od uzivatele\n",
    "destinace = input(\"CISLO DESTINACE:\")\n",
    "\n",
    "# overeni destinace\n",
    "if int(destinace) >= 1 and int(destinace) <= 6:\n",
    "    upravena_destinace = mesta[int(destinace) - 1]\n",
    "    print(cara)\n",
    "    print(f\"Destinace:{upravena_destinace}\")\n",
    "else:\n",
    "    print(cara)\n",
    "    print(f\"Vybrane cislo neexistuje. Ukoncuji..\")\n",
    "    quit()\n",
    "print(cara)\n",
    "\n",
    "# prepocet nove ceny\n",
    "if upravena_destinace in slevy:\n",
    "    nova_cena = 0.75 * ceny[int(destinace) - 1]\n",
    "    print(f\"ZISKAVATE 25% SLEVU! CENA:{nova_cena},-\")\n",
    "else:\n",
    "    nova_cena = ceny[int(destinace) - 1]\n",
    "print(cara)\n",
    "```\n",
    "</details>\n",
    "\n",
    "---"
   ]
  },
  {
   "cell_type": "markdown",
   "metadata": {},
   "source": [
    "<br>\n",
    "\n",
    "#### Validní jméno a příjmení\n",
    "\n",
    "---\n",
    "\n",
    "Správná hodnota:\n",
    "```\n",
    "$ python destinatio_2.py\n",
    "...\n",
    "JMENO: Matous\n",
    "PRIJMENI: Holinka\n",
    "-----------------------------------\n",
    "Cele jmeno: Matous Holinka\n",
    "-----------------------------------\n",
    "...\n",
    "```\n",
    "\n",
    "<br>\n",
    "\n",
    "Nesprávná hodnota:\n",
    "```\n",
    "$ python destinatio_2.py\n",
    "...\n",
    "JMENO: M@tous\n",
    "PRIJMENI: Holinka\n",
    "-----------------------------------\n",
    "Jmeno nebo prijmeni nejsou v poradku! Ukoncuji..\n",
    "-----------------------------------\n",
    "...\n",
    "```"
   ]
  },
  {
   "cell_type": "code",
   "execution_count": null,
   "metadata": {},
   "outputs": [],
   "source": [
    "# Zapiš podmínku pro správné jméno\n",
    "# Pokud jméno nebo příjmení bude obsahovat něco jiného než písmeno, ukonči program\n",
    "# NÁPOVĚDA:Co dělá metoda isalpha() ?"
   ]
  },
  {
   "cell_type": "markdown",
   "metadata": {},
   "source": [
    "\n",
    "<br>\n",
    "\n",
    "<details>\n",
    "  <summary>▶️  Klikni zde pro zobrazení</summary>\n",
    "   \n",
    "```python\n",
    "jmeno = input(\"JMENO:\")\n",
    "prijmeni = input(\"PRIJMENI:\")\n",
    "\n",
    "# overeni validniho jmena a prijmeni\n",
    "if jmeno.isalpha() and prijmeni.isalpha():\n",
    "    print(cara)\n",
    "    print(f\"Cele jmeno: {jmeno} {prijmeni}\")\n",
    "else:\n",
    "    print(cara)\n",
    "    print(\"Jmeno nebo prijmeni nejsou v poradku! Ukoncuji..\")\n",
    "    quit()\n",
    "print(cara)\n",
    "```\n",
    "</details>\n",
    "\n",
    "---"
   ]
  },
  {
   "cell_type": "markdown",
   "metadata": {},
   "source": [
    "<br>\n",
    "\n",
    "#### Validní email\n",
    "\n",
    "---"
   ]
  },
  {
   "cell_type": "code",
   "execution_count": null,
   "metadata": {},
   "outputs": [],
   "source": [
    "# Zapiš podmínku pro ověření validního emailu\n",
    "# Zkontroluj, že řetězec obsahuje @ a doména je v n-tici domény, jinak ukonči program"
   ]
  },
  {
   "cell_type": "markdown",
   "metadata": {},
   "source": [
    "\n",
    "<br>\n",
    "\n",
    "<details>\n",
    "  <summary>▶️  Klikni zde pro zobrazení</summary>\n",
    "   \n",
    "```python\n",
    "email = input(\"EMAIL:\")\n",
    "\n",
    "# overeni emailove adresy\n",
    "if \"@\" in email and email.split(\"@\")[1] in domeny:\n",
    "    print(cara)\n",
    "    print(\"Email je v poradku\")\n",
    "else:\n",
    "    print(cara)\n",
    "    print(\"Neplatny email!\")\n",
    "    quit()\n",
    "print(dvojita_cara)\n",
    "\n",
    "print(f\"\"\"DEKUJI, {jmeno} ZA OBJEDNAVKU,\n",
    "CIL. DESTINACE: {upravena_destinace}, CENA JIZDNEHO: {nova_cena},\n",
    "NA TVUJ MAIL {email} JSME TI POSLALI LISTEK.\"\"\")\n",
    "```\n",
    "</details>\n",
    "\n",
    "---"
   ]
  }
 ],
 "metadata": {
  "kernelspec": {
   "display_name": "Python 3.11.0 64-bit",
   "language": "python",
   "name": "python3"
  },
  "language_info": {
   "codemirror_mode": {
    "name": "ipython",
    "version": 3
   },
   "file_extension": ".py",
   "mimetype": "text/x-python",
   "name": "python",
   "nbconvert_exporter": "python",
   "pygments_lexer": "ipython3",
   "version": "3.11.0"
  },
  "vscode": {
   "interpreter": {
    "hash": "cd066ac09377f89a24ed9743f32ffbf343cab654b58785282a84775599740388"
   }
  }
 },
 "nbformat": 4,
 "nbformat_minor": 4
}
