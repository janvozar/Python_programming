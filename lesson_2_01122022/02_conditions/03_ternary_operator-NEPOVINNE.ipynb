{
 "cells": [
  {
   "cell_type": "markdown",
   "metadata": {},
   "source": [
    "### Ternární operátor\n",
    "\n",
    "---\n",
    "\n",
    "V Pythonu 2.5 byl přidán jednořádkový zápis pro jednoduchou podmínku `if/else`. Jde o pokročilejší variantu zápisu takové podmínky:\n",
    "\n",
    "```python\n",
    "X if Y else Z\n",
    "```\n",
    "* **X**, proveď pokud `True`\n",
    "* **Y**, podmínka\n",
    "* **Z**, proveď pokud `False`"
   ]
  },
  {
   "cell_type": "code",
   "execution_count": null,
   "metadata": {},
   "outputs": [],
   "source": [
    "rid_opravneni = True\n",
    "\n",
    "print(\"Muzu ridit\" if rid_opravneni else \"Nemuzu ridit\")"
   ]
  },
  {
   "cell_type": "code",
   "execution_count": null,
   "metadata": {},
   "outputs": [],
   "source": [
    "rid_opravneni = False\n",
    "\n",
    "print(\"Muzu ridit\" if rid_opravneni else \"Nemuzu ridit\")"
   ]
  },
  {
   "cell_type": "markdown",
   "metadata": {},
   "source": [
    "<br>\n",
    "\n",
    "Pokud je výraz za klíčovým slovem `if` vyhodnocený jako **pravdivý** (`True`), proveď `X` (resp. část zápisu před podmínkou).\n",
    "\n",
    "<br>\n",
    "\n",
    "V opačném případě proveď `Y`, tedy část zápisu za `else`."
   ]
  },
  {
   "cell_type": "code",
   "execution_count": null,
   "metadata": {},
   "outputs": [],
   "source": [
    "rid_opravneni = False\n",
    "\n",
    "if rid_opravneni:\n",
    "    status = \"Muzu ridit\"\n",
    "else:\n",
    "    status = \"Nemuzu ridit\""
   ]
  },
  {
   "cell_type": "markdown",
   "metadata": {},
   "source": [
    "<br>\n",
    "\n",
    "#### Netradiční podoba\n",
    "\n",
    "---\n",
    "\n",
    "Dokonce je možné na vyhodnocení výrazu použít celočíselnou hodnotu booleanu."
   ]
  },
  {
   "cell_type": "code",
   "execution_count": null,
   "metadata": {},
   "outputs": [],
   "source": [
    "rid_opravneni = True\n",
    "status = [\"Nemuzu ridit\", \"Muzu ridit\"][rid_opravneni]  # True -> 1, False -> 0\n",
    "print(status)"
   ]
  },
  {
   "cell_type": "code",
   "execution_count": null,
   "metadata": {},
   "outputs": [],
   "source": [
    "rid_opravneni = False\n",
    "status = [\"Nemuzu ridit\", \"Muzu ridit\"][rid_opravneni]  # True -> 1, False -> 0\n",
    "print(status)"
   ]
  },
  {
   "cell_type": "markdown",
   "metadata": {},
   "source": [
    "<br>\n",
    "\n",
    "Druhá hranatá závorka představuje indexovou část, díky které vybereme hodnotu v první závorce.\n",
    "\n",
    "<br>\n",
    "\n",
    "Nezapomeňme, že `True == 1` a `False == 0`.\n",
    "\n",
    "<br>\n",
    "\n",
    "Tato varianta je ale velice **nečitelná** , a proto se s ní ve skutečném zdrojovém kódu setkáte jen zřídka.\n",
    "\n",
    "---"
   ]
  }
 ],
 "metadata": {
  "kernelspec": {
   "display_name": "Python 3.10.8 64-bit",
   "language": "python",
   "name": "python3"
  },
  "language_info": {
   "codemirror_mode": {
    "name": "ipython",
    "version": 3
   },
   "file_extension": ".py",
   "mimetype": "text/x-python",
   "name": "python",
   "nbconvert_exporter": "python",
   "pygments_lexer": "ipython3",
   "version": "3.10.8"
  },
  "vscode": {
   "interpreter": {
    "hash": "6ef888e41b2dcc37ae80de0301c51e998172b445c6e5b7c6cf8fc3e0b77a5d1f"
   }
  }
 },
 "nbformat": 4,
 "nbformat_minor": 4
}
