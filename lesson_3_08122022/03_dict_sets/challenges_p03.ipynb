{
 "cells": [
  {
   "cell_type": "markdown",
   "metadata": {},
   "source": [
    "### Opakování po třetí lekci!\n",
    "---\n",
    "Trochu rozehřejeme šedou kůru mozkovou na závěr této lekce.\n",
    "\n",
    "<br>\n",
    "\n",
    "#### Ukázka #01\n",
    "\n",
    "---"
   ]
  },
  {
   "cell_type": "code",
   "execution_count": null,
   "metadata": {},
   "outputs": [],
   "source": [
    "muj_slovnik_1 = {1234: \"Matous\"}\n",
    "muj_slovnik_2 = {1122: \"Lukas\", 3344: \"Jan\"}"
   ]
  },
  {
   "cell_type": "code",
   "execution_count": null,
   "metadata": {},
   "outputs": [],
   "source": [
    "muj_slovnik_1.update(muj_slovnik_2)\n",
    "print(muj_slovnik_1)"
   ]
  },
  {
   "cell_type": "code",
   "execution_count": null,
   "metadata": {},
   "outputs": [],
   "source": [
    "set_a = {\"a\", \"b\"}\n",
    "set_b = {\"c\", \"d\"}\n",
    "set_a.union(set_b)"
   ]
  },
  {
   "cell_type": "markdown",
   "metadata": {},
   "source": [
    "<details>\n",
    "  <summary>▶️  Klikni zde pro zobrazení řešení</summary>\n",
    "   \n",
    "Pomocí metody slovníků `update` můžete vytvořit slovník a současně doplnit existující slovník o další slovník.\n",
    "</details>"
   ]
  },
  {
   "cell_type": "markdown",
   "metadata": {},
   "source": [
    "\n",
    "<br>\n",
    "\n",
    "#### Ukázka #02\n",
    "\n",
    "---"
   ]
  },
  {
   "cell_type": "code",
   "execution_count": null,
   "metadata": {},
   "outputs": [],
   "source": [
    "muj_set = set()\n",
    "muj_set.add(\"Matous\")\n",
    "print(muj_set)"
   ]
  },
  {
   "cell_type": "markdown",
   "metadata": {},
   "source": [
    "<details>\n",
    "  <summary>▶️  Klikni zde pro zobrazení řešení</summary>\n",
    "   \n",
    "Opatrně na tvoření setů. Prázdné složené závorky pracují pouze pro slovníky. Pokud chcete vytvořit prázdný set, musíme použít funkci `set()`.\n",
    "</details>"
   ]
  },
  {
   "cell_type": "markdown",
   "metadata": {},
   "source": [
    "<br>\n",
    "\n",
    "#### Ukázka #03\n",
    "\n",
    "---"
   ]
  },
  {
   "cell_type": "code",
   "execution_count": null,
   "metadata": {},
   "outputs": [],
   "source": [
    "muj_slovnik = {}\n",
    "muj_slovnik[\"jmeno\"] = \"Matous\"\n",
    "muj_slovnik[\"vek\"] = 50\n",
    "muj_slovnik[\"adresa\"] = \"U Potoka 27\""
   ]
  },
  {
   "cell_type": "code",
   "execution_count": null,
   "metadata": {},
   "outputs": [],
   "source": [
    "print(muj_slovnik)"
   ]
  },
  {
   "cell_type": "code",
   "execution_count": null,
   "metadata": {},
   "outputs": [],
   "source": [
    "# Jak odstranim posledni pridany par? :(\n",
    "muj_slovnik.popitem()"
   ]
  },
  {
   "cell_type": "markdown",
   "metadata": {},
   "source": [
    "<details>\n",
    "  <summary>▶️  Klikni zde pro zobrazení řešení</summary>\n",
    "\n",
    "Metoda slovníků `.popitem` funguje tak, že odstraní poslední přidaný pár klíč/hodnota.\n",
    "</details>"
   ]
  },
  {
   "cell_type": "markdown",
   "metadata": {},
   "source": [
    "<br>\n",
    "\n",
    "#### Ukázka #04\n",
    "\n",
    "---"
   ]
  },
  {
   "cell_type": "code",
   "execution_count": null,
   "metadata": {},
   "outputs": [],
   "source": [
    "muj_set_1 = {\"Matous\", \"Marek\", \"Lukas\", \"Jan\"}\n",
    "muj_set_2 = muj_set_1.copy()\n",
    "muj_set_3 = muj_set_2.copy()"
   ]
  },
  {
   "cell_type": "code",
   "execution_count": null,
   "metadata": {},
   "outputs": [],
   "source": [
    "muj_set_3.discard(\"Matous\")\n",
    "muj_set_3.discard(\"Marek\")"
   ]
  },
  {
   "cell_type": "code",
   "execution_count": null,
   "metadata": {},
   "outputs": [],
   "source": [
    "muj_set_3.difference_update(muj_set_1)"
   ]
  },
  {
   "cell_type": "code",
   "execution_count": null,
   "metadata": {},
   "outputs": [],
   "source": [
    "help(set.difference_update)"
   ]
  },
  {
   "cell_type": "code",
   "execution_count": null,
   "metadata": {},
   "outputs": [],
   "source": [
    "muj_set_3"
   ]
  },
  {
   "cell_type": "code",
   "execution_count": null,
   "metadata": {},
   "outputs": [],
   "source": [
    "muj_set_2.clear()"
   ]
  },
  {
   "cell_type": "code",
   "execution_count": null,
   "metadata": {},
   "outputs": [],
   "source": [
    "muj_set_2 == muj_set_3  # ?"
   ]
  },
  {
   "cell_type": "code",
   "execution_count": null,
   "metadata": {},
   "outputs": [],
   "source": [
    "muj_set_2 is muj_set_3  # ?"
   ]
  },
  {
   "cell_type": "markdown",
   "metadata": {},
   "source": [
    "<details>\n",
    "  <summary>▶️  Klikni zde pro zobrazení řešení</summary>\n",
    "   \n",
    "1. V prvním kroce jsme vytvořili 3 různé sety (každý má jiné `id`)\n",
    "2. Ze třetího setu odstraním hodnoty `Matous` a `Marek`\n",
    "3. Přepíšu hodnotu rozdílem mezi třetím setem a prvním setem (rozdíl neobsahuje žádnou hodnotu a proto bude třetí set prázdný\n",
    "4. Ve čtvrtém kroku odstraním všechny hodnoty z druhého setu\n",
    "```\n",
    "    \n",
    "</details>\n",
    "\n",
    "---"
   ]
  }
 ],
 "metadata": {
  "kernelspec": {
   "display_name": "Python 3.11.0 64-bit",
   "language": "python",
   "name": "python3"
  },
  "language_info": {
   "codemirror_mode": {
    "name": "ipython",
    "version": 3
   },
   "file_extension": ".py",
   "mimetype": "text/x-python",
   "name": "python",
   "nbconvert_exporter": "python",
   "pygments_lexer": "ipython3",
   "version": "3.11.0"
  },
  "vscode": {
   "interpreter": {
    "hash": "cd066ac09377f89a24ed9743f32ffbf343cab654b58785282a84775599740388"
   }
  }
 },
 "nbformat": 4,
 "nbformat_minor": 4
}
