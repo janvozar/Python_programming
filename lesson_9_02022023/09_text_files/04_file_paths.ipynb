{
 "cells": [
  {
   "attachments": {},
   "cell_type": "markdown",
   "metadata": {},
   "source": [
    "### Cesty (~File paths)\n",
    "\n",
    "\n",
    "#### Relativní cesta\n",
    "\n",
    "---\n",
    "\n",
    "\n",
    "Použiju tehdy, pokud mám potřebný soubor v aktuálním adresáři (~*složce*).\n",
    "\n",
    "<br>\n",
    "\n",
    "Stačí je zapsat jméno souboru s příponou pomocí `str`."
   ]
  },
  {
   "cell_type": "code",
   "execution_count": null,
   "metadata": {},
   "outputs": [],
   "source": [
    "!dir /b"
   ]
  },
  {
   "cell_type": "code",
   "execution_count": null,
   "metadata": {},
   "outputs": [],
   "source": [
    "with open(\"data/data_1.txt\") as txt_soubor:\n",
    "    print(txt_soubor.readlines())"
   ]
  },
  {
   "cell_type": "markdown",
   "metadata": {},
   "source": [
    "<br>\n",
    "\n",
    "Relativní se jmenuje vzhledem k mému současnému umístění `akt_slozka/novy.txt`."
   ]
  },
  {
   "cell_type": "markdown",
   "metadata": {},
   "source": [
    "#### Absolutní cesta\n",
    "---\n",
    "\n",
    "Pokud budeme potřebovat se soubory mimo moje aktuální umístění, potřebujeme zápis absolutní cesty.\n",
    "\n",
    "<br>\n",
    "\n",
    "Za absolutní cestu je označováno umístění souboru vzhledem:\n",
    "1. Windows - ke **konkrétnímu disku** (C, D, ..),\n",
    "2. Linux, macOS - k **rootu**\n",
    "\n",
    "<br>\n",
    "\n",
    "##### Ukázky absolutních cest\n",
    "---\n",
    "1. Windows\n",
    "```\n",
    "C:\\Dokumenty\\matous\\projects\\python-academy\\novy.txt\"\n",
    "```\n",
    "\n",
    "2. Linux, macOS\n",
    "```\n",
    "/home/matous/projects/python-academy/materials/09_text_files/novy.txt\"\n",
    "```"
   ]
  },
  {
   "cell_type": "code",
   "execution_count": null,
   "metadata": {},
   "outputs": [],
   "source": [
    "with open(\"/home/matous/projects/python-academy-2021/materials/09_text_files/novy.txt\") as txt_soubor:\n",
    "    print(txt_soubor.readlines())"
   ]
  },
  {
   "cell_type": "code",
   "execution_count": null,
   "metadata": {},
   "outputs": [],
   "source": [
    "# Windows\n",
    "with open(r\"C:\\Users\\windu\\Drive\\Engeto\\engeto_lecturers\\notebooks\\09_text_files\\novy.txt\") as txt_soubor:\n",
    "    print(txt_soubor.readlines())"
   ]
  },
  {
   "attachments": {},
   "cell_type": "markdown",
   "metadata": {},
   "source": [
    "\n",
    "<br>\n",
    "\n",
    "#### Python a různé operační systémy\n",
    "---\n",
    "Pokud pracujete na různých operačních systémech, práce s cestami se může zdát jako komplikovaný proces.\n",
    "\n",
    "<br>\n",
    "\n",
    "Máme naštěstí knihovny, které nám práci s různým zápisem cest, usnadní.\n",
    "\n",
    "1. `os` - oblíbenější pro nováčky\n",
    "2. `pathlib` - další řešení (složitější proces na pozadí, tzv. generátory)\n"
   ]
  },
  {
   "cell_type": "code",
   "execution_count": null,
   "metadata": {},
   "outputs": [],
   "source": [
    "import os"
   ]
  },
  {
   "cell_type": "code",
   "execution_count": null,
   "metadata": {},
   "outputs": [],
   "source": [
    "soubory = os.listdir()\n",
    "# type(soubory)\n",
    "for soubor in soubory:\n",
    "    print(soubor)"
   ]
  },
  {
   "cell_type": "code",
   "execution_count": null,
   "metadata": {},
   "outputs": [],
   "source": [
    "os.path.isfile(\"novy.txt\")"
   ]
  },
  {
   "cell_type": "code",
   "execution_count": null,
   "metadata": {},
   "outputs": [],
   "source": [
    "os.path.isdir(\"solution\")"
   ]
  },
  {
   "cell_type": "code",
   "execution_count": null,
   "metadata": {},
   "outputs": [],
   "source": [
    "os.sep"
   ]
  },
  {
   "cell_type": "code",
   "execution_count": null,
   "metadata": {},
   "outputs": [],
   "source": [
    "f\"C:{os.sep}uzivatel{os.sep}projekty\""
   ]
  },
  {
   "cell_type": "code",
   "execution_count": null,
   "metadata": {},
   "outputs": [],
   "source": [
    "!cd"
   ]
  },
  {
   "cell_type": "code",
   "execution_count": null,
   "metadata": {},
   "outputs": [],
   "source": [
    "os.getcwd()"
   ]
  },
  {
   "cell_type": "code",
   "execution_count": null,
   "metadata": {},
   "outputs": [],
   "source": [
    "f\"{os.getcwd()}{os.sep}novy.txt\""
   ]
  },
  {
   "cell_type": "code",
   "execution_count": null,
   "metadata": {},
   "outputs": [],
   "source": [
    "os.path.join(os.getcwd(), \"novy.txt\")"
   ]
  },
  {
   "cell_type": "code",
   "execution_count": null,
   "metadata": {},
   "outputs": [],
   "source": [
    "import os\n",
    "import sys\n",
    "\n",
    "if sys.platform == \"linux\":\n",
    "    print(\"Jsem linux\")\n",
    "else:\n",
    "    print(\"Jsem windows\")"
   ]
  },
  {
   "cell_type": "markdown",
   "metadata": {},
   "source": [
    "---"
   ]
  }
 ],
 "metadata": {
  "kernelspec": {
   "display_name": "Python 3",
   "language": "python",
   "name": "python3"
  },
  "language_info": {
   "codemirror_mode": {
    "name": "ipython",
    "version": 3
   },
   "file_extension": ".py",
   "mimetype": "text/x-python",
   "name": "python",
   "nbconvert_exporter": "python",
   "pygments_lexer": "ipython3",
   "version": "3.11.0"
  },
  "vscode": {
   "interpreter": {
    "hash": "cd066ac09377f89a24ed9743f32ffbf343cab654b58785282a84775599740388"
   }
  }
 },
 "nbformat": 4,
 "nbformat_minor": 4
}
