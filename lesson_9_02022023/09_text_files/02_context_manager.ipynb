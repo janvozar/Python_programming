{
 "cells": [
  {
   "attachments": {},
   "cell_type": "markdown",
   "metadata": {},
   "source": [
    "### Kontextový manažer (~context manager)\n"
   ]
  },
  {
   "attachments": {},
   "cell_type": "markdown",
   "metadata": {},
   "source": [
    "\n",
    "Pokud nechcete hlídat zavírání jednotlových souborů, můžeme použít syntaxi s `with` (tedy kontextový manažer).\n",
    "\n",
    "<br> \n",
    "\n",
    "Jeho použití spočívá v tom, že pomocí různých volatelných objektů v Pythonu (jako jsou funkce, př. `open`) spustí konkrétní proces. \n",
    "\n",
    "<br>\n",
    "\n",
    "Ihned potom umí automaticky ukončit celý proces, pokud interpret nenajde žádné další odsazené ohlášení."
   ]
  },
  {
   "cell_type": "code",
   "execution_count": 1,
   "metadata": {},
   "outputs": [],
   "source": [
    "with open(\"novy.txt\", mode=\"a\") as muj_existujici_soubor:\n",
    "    muj_existujici_soubor.write(\"\\nPosledni radek z kont. manazera!\")\n",
    "\n",
    "# Dalsi kod"
   ]
  },
  {
   "cell_type": "code",
   "execution_count": 2,
   "metadata": {},
   "outputs": [
    {
     "data": {
      "text/plain": [
       "True"
      ]
     },
     "execution_count": 2,
     "metadata": {},
     "output_type": "execute_result"
    }
   ],
   "source": [
    "muj_existujici_soubor.closed"
   ]
  },
  {
   "cell_type": "markdown",
   "metadata": {},
   "source": [
    "---"
   ]
  }
 ],
 "metadata": {
  "kernelspec": {
   "display_name": "Python 3",
   "language": "python",
   "name": "python3"
  },
  "language_info": {
   "codemirror_mode": {
    "name": "ipython",
    "version": 3
   },
   "file_extension": ".py",
   "mimetype": "text/x-python",
   "name": "python",
   "nbconvert_exporter": "python",
   "pygments_lexer": "ipython3",
   "version": "3.11.1"
  },
  "vscode": {
   "interpreter": {
    "hash": "1a1af0ee75eeea9e2e1ee996c87e7a2b11a0bebd85af04bb136d915cefc0abce"
   }
  }
 },
 "nbformat": 4,
 "nbformat_minor": 4
}
