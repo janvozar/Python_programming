{
 "cells": [
  {
   "cell_type": "markdown",
   "metadata": {},
   "source": [
    "### Opakování po deváté lekci!\n",
    "\n",
    "---\n",
    "\n",
    "Trochu rozehřejeme šedou kůru mozkovou s opakováním po lekci textové i/o.\n",
    "\n",
    "<br>\n",
    "\n",
    "#### Ukázka #01\n",
    "\n",
    "---"
   ]
  },
  {
   "cell_type": "code",
   "execution_count": 1,
   "metadata": {},
   "outputs": [],
   "source": [
    "# Proces práce s textovými soubory\n",
    "# Zápis\n",
    "\n",
    "# Čtení"
   ]
  },
  {
   "cell_type": "markdown",
   "metadata": {},
   "source": [
    "<details>\n",
    "  <summary>▶️  Klikni zde pro zobrazení řešení</summary>\n",
    "\n",
    "Pro vytvoření nového textového souboru použiješ funkci `open` v režimu pro zápis `\"w\"`.\n",
    "```python\n",
    "muj_txt_soubor = open(\"cvicny_txt.txt\", mode=\"w\")\n",
    "muj_txt_soubor.write(text)\n",
    "muj_txt_soubor.close()\n",
    "```\n",
    "\n",
    "<br>\n",
    "    \n",
    "Pro následné čtení stačí funkce `open` v defaultním režimu (tedy čtení):\n",
    "```python\n",
    "muj_existujici_txt = open(\"cvicny_txt.txt\")\n",
    "obsah_txt = muj_existujici_txt.read()\n",
    "muj_existujici_txt.close()  \n",
    "```\n",
    "</details>"
   ]
  },
  {
   "cell_type": "markdown",
   "metadata": {},
   "source": [
    "<br>\n",
    "\n",
    "#### Ukázka #02\n",
    "\n",
    "---"
   ]
  },
  {
   "cell_type": "code",
   "execution_count": 2,
   "metadata": {},
   "outputs": [],
   "source": [
    "# Kontextový manažer"
   ]
  },
  {
   "cell_type": "markdown",
   "metadata": {},
   "source": [
    "<details>\n",
    "  <summary>▶️  Klikni zde pro zobrazení řešení</summary>\n",
    "\n",
    "Alternativa pro *file io* je použití kontextového manažeru:\n",
    "```python\n",
    "with open(\"cvicny_txt.txt\") as txt:\n",
    "    obsah = txt.read()\n",
    "\n",
    "print(obsah)\n",
    "```\n",
    "</details>"
   ]
  },
  {
   "cell_type": "markdown",
   "metadata": {},
   "source": [
    "<br>\n",
    "\n",
    "#### Ukázka #03\n",
    "\n",
    "---"
   ]
  },
  {
   "cell_type": "code",
   "execution_count": null,
   "metadata": {},
   "outputs": [],
   "source": [
    "# Režim přidávání do .txt souboru"
   ]
  },
  {
   "cell_type": "markdown",
   "metadata": {},
   "source": [
    "<details>\n",
    "  <summary>▶️  Klikni zde pro zobrazení řešení</summary>\n",
    "\n",
    "Pokud chceme textový soubor použít opakovaně s cílem zápisu, potom je vhodné zvolit režim `\"a\"` (~*append*), abychom nepřepsali původní obsah souboru. \n",
    "```python\n",
    "dalsi_text = \"\\npridavam text na druhy radek!\"\n",
    "\n",
    "muj_txt_soubor = open(\"cvicny_txt.txt\", mode=\"a\")\n",
    "muj_txt_soubor.write(dalsi_text)\n",
    "muj_txt_soubor.close()\n",
    "```\n",
    "</details>"
   ]
  },
  {
   "cell_type": "markdown",
   "metadata": {},
   "source": [
    "<br>\n",
    "\n",
    "#### Ukázka #04\n",
    "\n",
    "---"
   ]
  },
  {
   "cell_type": "code",
   "execution_count": null,
   "metadata": {},
   "outputs": [],
   "source": [
    "# Naformátuj string\n",
    "\"\"\"\n",
    "|  DATUM   | BODY  |\n",
    "|11.11.2010|  135  |\n",
    "|11.11.2015|  130  |\n",
    "|11.11.2020|  133  |\n",
    "\"\"\"\n",
    "\n",
    "vysledky = {\n",
    "    \"11.11.2010\": 135,\n",
    "    \"11.11.2015\": 130,\n",
    "    \"11.11.2020\": 133,\n",
    "}"
   ]
  },
  {
   "cell_type": "markdown",
   "metadata": {},
   "source": [
    "<details>\n",
    "  <summary>▶️  Klikni zde pro zobrazení řešení</summary>\n",
    "\n",
    "Možností jak naformátovat string je několik. Nejrychlejší je ovšem varianta pomocí formatovaného stringu (tedy f-string).\n",
    "    \n",
    "```python\n",
    "for index, data in enumerate(vysledky.items()):\n",
    "    if index == 0:\n",
    "        print(f\"|{'DATUM': ^10}| {'BODY': ^5} |\")\n",
    "    print(f\"|{data[0]:<10}| {data[1]:^5} |\")\n",
    "```\n",
    "</details>"
   ]
  }
 ],
 "metadata": {
  "kernelspec": {
   "display_name": "Python 3",
   "language": "python",
   "name": "python3"
  },
  "language_info": {
   "codemirror_mode": {
    "name": "ipython",
    "version": 3
   },
   "file_extension": ".py",
   "mimetype": "text/x-python",
   "name": "python",
   "nbconvert_exporter": "python",
   "pygments_lexer": "ipython3",
   "version": "3.11.0"
  },
  "vscode": {
   "interpreter": {
    "hash": "cd066ac09377f89a24ed9743f32ffbf343cab654b58785282a84775599740388"
   }
  }
 },
 "nbformat": 4,
 "nbformat_minor": 4
}
