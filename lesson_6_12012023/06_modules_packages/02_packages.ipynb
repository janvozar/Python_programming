{
 "cells": [
  {
   "cell_type": "markdown",
   "metadata": {},
   "source": [
    "### Knihovny v Pythonu (~libraries)\n",
    "---\n",
    "\n",
    "Podle struktury můžeme knihovny v Pythonu rozdělit obecně na:\n",
    "1. **Moduly**\n",
    "2. **Balíky**\n",
    "\n",
    "<br>\n",
    "\n",
    "Některé máte k dispozi od chvíle, kdy jste si nainstalovali interpret Pythonu.\n",
    "\n",
    "<br>\n",
    "\n",
    "Jednotlivé verze Pythonu mohou nabízet trochu obměněné verze, případně knihovny.\n",
    "\n",
    "---\n",
    "\n",
    "<br>\n",
    "\n",
    "#### Balíky (~packages)\n",
    "Balík je v podstatě **sbírka několika modulů** (tedy souboru `py`).\n",
    "\n",
    "<br>\n",
    "\n",
    "Najdeme je společně umístěné v jednom adresáři (nebo podadresáři). Kromě modulů obsahují tyto speciální soubory:\n",
    "1. `__init__.py`,\n",
    "2. `__pycache__`.\n",
    "\n",
    "---\n",
    "\n",
    "<br>\n",
    "\n",
    "<img src=\"https://i.imgur.com/E2RP3QA.png\" width=\"800\">\n",
    "\n",
    "<br>\n",
    "\n",
    "#### Soubor `__init__.py`\n",
    "\n",
    "Soubor, který interpretu pomáhá najít knihovny Pythonu.\n",
    "\n",
    "<br>\n",
    "\n",
    "Může (ale nemusí) být prázdný. Někdy obsahuje dokumentace, závislosti, aj.\n",
    "\n",
    "<br>\n",
    "\n",
    "#### Adresář `__pycache__`\n",
    "Tato složka vzniká, pokud spustíme soubor a interpret jej zkompiluje na *bytecode*.\n",
    "\n",
    "<br>\n",
    "\n",
    "Zkompilovaný soubor poté nechává s příponou `.pyc` uložený v tomto adresáři pro budoucí spuštění.\n",
    "\n",
    "---\n",
    "\n",
    "<br>"
   ]
  },
  {
   "attachments": {},
   "cell_type": "markdown",
   "metadata": {
    "tags": []
   },
   "source": [
    "#### Vlastní balíček\n",
    "1. Vytvoříme si adresář `muj_projekt_pozdrav`,\n",
    "\n",
    "<br>\n",
    "\n",
    "2. uvnitř adresáře `muj_projekt_pozdrav` vytvoříme adresář `muj_balicek`,\n",
    "\n",
    "<br>\n",
    "\n",
    "3. do `muj_balicek` zapíšeme soubor `jmena.py` se setem: `uzivatelska_jmena = {\"Matous\", \"Petr\", \"Lukas\"}` a uložíme jej,\n",
    "\n",
    "<br>\n",
    "\n",
    "4. uvnitř adresáře `muj_projekt_pozdrav` zapíšeme soubor `pozdrav_uzivatele.py` se smyčkou, která pozdraví všechny uživatele v setu.\n",
    "\n",
    "---\n",
    "\n",
    "<br>\n",
    "\n",
    "#### Soubor `jmena.py`\n",
    "\n",
    "```uzivatelska_jmena = {\"Matous\", \"Petr\", \"Lukas\"}```\n",
    "\n",
    "<br>\n",
    "\n",
    "#### Soubor `pozdrav.py`\n",
    "\n",
    "```\n",
    "from muj_balicek import jmena\n",
    "\n",
    "for jmeno in jmena.uzivatelska_jmena:\n",
    "    print(f\"Ahoj, {jmeno}\")\n",
    "```\n",
    "\n",
    "<br>\n",
    "\n",
    "#### Struktura projektu\n",
    "\n",
    "<img src=\"https://i.imgur.com/SceZyxy.png\" width=\"400\">\n",
    "\n",
    "<br>\n",
    "\n"
   ]
  },
  {
   "cell_type": "markdown",
   "metadata": {},
   "source": [
    "---\n",
    "\n",
    "<br>\n",
    "\n",
    "### Souhrn\n",
    "1. **Balíky** jsou v podstatě **adresáře**, zatímco **moduly** jsou **soubory**,\n",
    "2. Díky knihovnám obecně nemusíme tvořit & přepisovat stejný zápis,\n",
    "3. Opakované použití na různých místech & v různých souborech,\n",
    "4. Přehlednější kód"
   ]
  }
 ],
 "metadata": {
  "kernelspec": {
   "display_name": "Python 3",
   "language": "python",
   "name": "python3"
  },
  "language_info": {
   "codemirror_mode": {
    "name": "ipython",
    "version": 3
   },
   "file_extension": ".py",
   "mimetype": "text/x-python",
   "name": "python",
   "nbconvert_exporter": "python",
   "pygments_lexer": "ipython3",
   "version": "3.11.0 (main, Oct 24 2022, 18:26:48) [MSC v.1933 64 bit (AMD64)]"
  },
  "vscode": {
   "interpreter": {
    "hash": "cd066ac09377f89a24ed9743f32ffbf343cab654b58785282a84775599740388"
   }
  }
 },
 "nbformat": 4,
 "nbformat_minor": 4
}
