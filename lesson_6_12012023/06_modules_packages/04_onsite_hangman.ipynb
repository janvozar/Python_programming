{
 "cells": [
  {
   "cell_type": "markdown",
   "metadata": {},
   "source": [
    "### Praktická úloha, `Hangman`\n",
    "\n",
    "---\n",
    "\n",
    "Nejprve si společne zapíšeme řešení svépomocí. Budeme tvořit hru `oběšenec` (*šibenice* ~ *hangman*).\n",
    "\n",
    "<br>\n",
    "\n",
    "Následně si vyzkoušíme zjednodušit celou situaci pomocí existujících modulů.\n",
    "\n",
    "<br>\n",
    "\n",
    "Hra stojí na zadání tajného slova, které uživatel skrze tajenku vyplňuje buď po písmenech, nebo může uhádnout celé slovo.\n",
    "\n",
    "<br>\n",
    "\n",
    "Pokud hráči dojdou pokusy, prohrává.\n",
    "\n",
    "<br>\n",
    "\n",
    "Krok za krokem vyřešíme tyto body:\n",
    "1. Zapiš **hrubý průběh** hry,\n",
    "2. vyhodnocení **hádání celého slova** a **neúspěchu**,\n",
    "3. **vyhodnocení hry**,\n",
    "4. hádání **více slov**,\n",
    "5. **přepisování** (překreslování) figurky oběšence,\n",
    "6. hádání **po písmenech**.\n",
    "\n",
    "<br>\n",
    "\n",
    "#### Úspěch\n",
    "<a href=\"https://imgur.com/bVsDvqg\"><img src=\"https://i.imgur.com/bVsDvqg.gif\" title=\"source: imgur.com\" /></a>\n",
    "\n",
    "<br>\n",
    "\n",
    "#### Neúspěch\n",
    "<a href=\"https://imgur.com/6hnwi4y\"><img src=\"https://i.imgur.com/6hnwi4y.gif\" title=\"source: imgur.com\" /></a>"
   ]
  },
  {
   "cell_type": "markdown",
   "metadata": {},
   "source": [
    "<br>\n",
    "\n",
    "---\n",
    "\n",
    "#### Vstupní údaje"
   ]
  },
  {
   "cell_type": "code",
   "execution_count": null,
   "metadata": {},
   "outputs": [],
   "source": [
    "# Zapiš vstupní hodnoty"
   ]
  },
  {
   "cell_type": "markdown",
   "metadata": {},
   "source": [
    "<details>\n",
    "  <summary>▶️  Klikni zde pro zobrazení</summary>\n",
    "   \n",
    "```python\n",
    "zivoty = 7\n",
    "hra_bezi = True\n",
    "slovo = \"obesenec\"\n",
    "tajenka = len(slovo) * [\"_\"]\n",
    "```\n",
    "</details>\n",
    "\n",
    "---"
   ]
  },
  {
   "cell_type": "markdown",
   "metadata": {},
   "source": [
    "<br>\n",
    "\n",
    "---\n",
    "\n",
    "#### Průběh hry\n",
    "\n",
    "<br>\n",
    "\n",
    "Celé slovo:\n",
    "```\n",
    "Tajenka: _ _ _ _ _ _ _ _\n",
    "Hadej pismeno/slovo:obesenec\n",
    "super!\n",
    "```\n",
    "\n",
    "<br>\n",
    "\n",
    "Jedno písmeno:\n",
    "```\n",
    "Tajenka: _ _ _ _ _ _ _ _\n",
    "Hadej pismeno/slovo:o\n",
    "Uhodls pismeno!\n",
    "Tajenka: _ _ _ _ _ _ _ _\n",
    "...\n",
    "```\n",
    "\n",
    "<br>\n",
    "\n",
    "Špatné hádání:\n",
    "```\n",
    "Tajenka: _ _ _ _ _ _ _ _\n",
    "Hadej pismeno/slovo:a\n",
    "chybka!\n",
    "Tajenka: _ _ _ _ _ _ _ _\n",
    "...\n",
    "```"
   ]
  },
  {
   "cell_type": "code",
   "execution_count": null,
   "metadata": {
    "scrolled": true
   },
   "outputs": [],
   "source": [
    "# Zapiš průběh hry"
   ]
  },
  {
   "cell_type": "markdown",
   "metadata": {},
   "source": [
    "<details>\n",
    "  <summary>▶️  Klikni zde pro zobrazení</summary>\n",
    "   \n",
    "```python\n",
    "zivoty = 7\n",
    "hra_bezi = True\n",
    "slovo = \"obesenec\"\n",
    "tajenka = len(slovo) * [\"_\"]\n",
    "    \n",
    "while hra_bezi and zivoty > 0:\n",
    "    print(f\"Tajenka: {tajenka}\")\n",
    "    hadani = input(\"Hadej pismeno/slovo:\")\n",
    "    \n",
    "    if hadani == slovo:\n",
    "        print(\"super!\")           # dočasné\n",
    "        hra_bezi = False\n",
    "    elif len(hadani) == 1 and hadani in slovo:\n",
    "        print(\"Uhodls pismeno!\")  # dočasné\n",
    "    else:\n",
    "        zivoty = zivoty - 1\n",
    "        print(\"chybka!\")          # dočasné\n",
    "```\n",
    "</details>\n",
    "\n",
    "---"
   ]
  },
  {
   "cell_type": "markdown",
   "metadata": {},
   "source": [
    "<br>\n",
    "\n",
    "#### Vyhodnocení hry\n",
    "\n",
    "<br>\n",
    "\n",
    "Úspěch:\n",
    "```\n",
    "Tajenka: _ _ _ _ _ _ _ _\n",
    "Hadej pismeno/slovo:obesenec\n",
    "Tajenka: obesenec\n",
    "Vyhráls! Gratulace..\n",
    "```\n",
    "\n",
    "<br>\n",
    "\n",
    "Neúspěch:\n",
    "```\n",
    "...\n",
    "chybka!\n",
    "Tajenka: _ _ _ _ _ _ _ _\n",
    "Hadej pismeno/slovo:a\n",
    "chybka!\n",
    "Prohráls:( snad příště\n",
    "Hledané slovo: *obesenec*\n",
    "...\n",
    "```"
   ]
  },
  {
   "cell_type": "code",
   "execution_count": null,
   "metadata": {
    "scrolled": true
   },
   "outputs": [],
   "source": [
    "# Zapiš vyhodnocení hry"
   ]
  },
  {
   "cell_type": "markdown",
   "metadata": {},
   "source": [
    "<details>\n",
    "  <summary>▶️  Klikni zde pro zobrazení</summary>\n",
    "   \n",
    "```python\n",
    "slovo = \"obesenec\"\n",
    "tajenka = len(slovo) * [\"_\"]|\n",
    "zivoty = 7\n",
    "hra_bezi = True\n",
    "\n",
    "while hra_bezi and zivoty > 0:\n",
    "    print(f\"Tajenka: {' '.join(tajenka)}\")\n",
    "    hadani = input(\"Hadej pismeno/slovo:\")\n",
    "    \n",
    "    if hadani == slovo:\n",
    "        hra_bezi = False\n",
    "    elif len(hadani) == 1 and hadani in slovo:\n",
    "        print(\"Uhodls pismeno!\")\n",
    "    else:\n",
    "        zivoty = zivoty - 1\n",
    "        print(\"chybka!\")\n",
    "        \n",
    "else:\n",
    "    if not hra_bezi:  # hra_bezi == False\n",
    "        print(f\"Tajenka: {slovo}\", \"Vyhráls! Gratulace..\", sep=\"\\n\")\n",
    "    else:             # hra_bezi == True\n",
    "        print(f\"Prohráls:( snad příště\", f\"Hledané slovo: *{slovo}*\", sep=\"\\n\")\n",
    "```\n",
    "</details>\n",
    "\n",
    "---"
   ]
  },
  {
   "cell_type": "markdown",
   "metadata": {},
   "source": [
    "#### 02 - Hra s více slovy"
   ]
  },
  {
   "cell_type": "markdown",
   "metadata": {},
   "source": [
    "#### modul `random`"
   ]
  },
  {
   "cell_type": "code",
   "execution_count": null,
   "metadata": {},
   "outputs": [],
   "source": [
    "import random"
   ]
  },
  {
   "cell_type": "code",
   "execution_count": null,
   "metadata": {},
   "outputs": [],
   "source": [
    "help(random)"
   ]
  },
  {
   "cell_type": "code",
   "execution_count": null,
   "metadata": {},
   "outputs": [],
   "source": [
    "random.randint(10, 20) # -> <10, 20>"
   ]
  },
  {
   "cell_type": "code",
   "execution_count": null,
   "metadata": {},
   "outputs": [],
   "source": [
    "random.sample({\"Matous\", \"Marek\", \"Lukas\", \"Jan\"}, 3)"
   ]
  },
  {
   "cell_type": "code",
   "execution_count": null,
   "metadata": {},
   "outputs": [],
   "source": [
    "random.choice((1, 2, 3, 4))"
   ]
  },
  {
   "cell_type": "code",
   "execution_count": null,
   "metadata": {},
   "outputs": [],
   "source": [
    "# najdi náhodná slova"
   ]
  },
  {
   "cell_type": "code",
   "execution_count": null,
   "metadata": {},
   "outputs": [],
   "source": [
    "# zapiš řešení s více slovy"
   ]
  },
  {
   "cell_type": "markdown",
   "metadata": {},
   "source": [
    "#### Výsledné řešení:"
   ]
  },
  {
   "cell_type": "markdown",
   "metadata": {},
   "source": [
    "<details>\n",
    "  <summary>▶️  Klikni zde pro zobrazení</summary>\n",
    "   \n",
    "```python\n",
    "import random\n",
    "\n",
    "slova = [\n",
    "     'cry',\n",
    "     'proposal',\n",
    "     # ...\n",
    "     'circle'\n",
    "]\n",
    "zivoty = 7\n",
    "hra_bezi = True\n",
    "slovo = random.choice(slova)\n",
    "tajenka = len(slovo) * [\"_\"]\n",
    "    \n",
    "while hra_bezi and zivoty > 0:\n",
    "    print(f\"Tajenka: {' '.join(tajenka)}\")\n",
    "    hadani = input(\"Hadej pismeno/slovo:\")\n",
    "\n",
    "    if hadani == slovo:\n",
    "        hra_bezi = False\n",
    "    elif len(hadani) == 1 and hadani in slovo:\n",
    "        print(\"Uhodls pismeno!\")\n",
    "    else:\n",
    "        zivoty = zivoty - 1\n",
    "\n",
    "else:\n",
    "    if not hra_bezi:\n",
    "        print(f\"Tajenka: {slovo}\", \"Vyhráls! Gratulace..\", sep=\"\\n\")\n",
    "    else:\n",
    "        print(f\"Prohráls:( snad příště\", f\"Hledané slovo: *{slovo}*\", sep=\"\\n\")\n",
    "```\n",
    "</details>\n",
    "\n",
    "---"
   ]
  },
  {
   "cell_type": "markdown",
   "metadata": {},
   "source": [
    "#### Vykreslení figurky oběšence\n",
    "\n",
    "```\n",
    "Hadej pismeno/slovo:e\n",
    "chybka!\n",
    "Tajenka: _ _ _ _\n",
    "\n",
    "    -------^\n",
    "    |      |\n",
    "           |\n",
    "           |\n",
    "           |\n",
    "           |\n",
    "    -------o\n",
    "    \n",
    "Hadej pismeno/slovo:e\n",
    "chybka!\n",
    "Tajenka: _ _ _ _\n",
    "\n",
    "    -------^\n",
    "    |      |\n",
    "    O      |\n",
    "           |\n",
    "           |\n",
    "           |\n",
    "    -------o\n",
    "```\n",
    "\n",
    "<br>\n",
    "\n",
    "Při nahrávání několika knihoven je nutné hlídat si pořadí. Doporučené pořadí:\n",
    "\n",
    "1. Standartní knihovny\n",
    "2. Knihovny třetích stran\n",
    "3. **Vlastní knihovny**"
   ]
  },
  {
   "cell_type": "code",
   "execution_count": null,
   "metadata": {},
   "outputs": [],
   "source": [
    "# vyřešíme zobrazování po špatných pokusech"
   ]
  },
  {
   "cell_type": "markdown",
   "metadata": {},
   "source": [
    "#### Výsledné řešení:"
   ]
  },
  {
   "cell_type": "markdown",
   "metadata": {},
   "source": [
    "<details>\n",
    "  <summary>▶️  Klikni zde pro zobrazení</summary>\n",
    "   \n",
    "```python\n",
    "import random\n",
    "\n",
    "from solution.figurka import hangman \n",
    "\n",
    "slova = [\n",
    "     'cry',\n",
    "     'proposal',\n",
    "     # ...\n",
    "     'circle'\n",
    "]\n",
    "zivoty = 7\n",
    "hra_bezi = True\n",
    "slovo = random.choice(slova)\n",
    "tajenka = len(slovo) * [\"_\"]\n",
    "\n",
    "while hra_bezi and zivoty > 0:\n",
    "    print(\n",
    "        f\"Tajenka: {' '.join(tajenka)}; zivoty: {zivoty}\",\n",
    "        hangman[7 - zivoty],\n",
    "        sep=\"\\n\"\n",
    "    )\n",
    "    hadani = input(\"Hadej pismeno/slovo:\")\n",
    "    \n",
    "    if hadani == slovo:\n",
    "        hra_bezi = False\n",
    "    elif len(hadani) == 1 and hadani in slovo:\n",
    "        print(\"Uhodls pismeno!\")\n",
    "    else:\n",
    "        zivoty = zivoty - 1\n",
    "        \n",
    "else:\n",
    "    if not hra_bezi:\n",
    "        print(f\"Tajenka: {slovo}\", \"Vyhráls! Gratulace..\", sep=\"\\n\")\n",
    "    else:\n",
    "        print(f\"Prohráls:( snad příště\", f\"Hledané slovo: *{slovo}*\", sep=\"\\n\")\n",
    "        print(hangman[7 - zivoty])\n",
    "```\n",
    "</details>\n",
    "\n",
    "---"
   ]
  },
  {
   "cell_type": "markdown",
   "metadata": {},
   "source": [
    "#### Po každém hádání přepiš výstup\n",
    "\n",
    "```\n",
    "Tajenka: _ _ _ _ _ _ _ _\n",
    "\n",
    "    -------^\n",
    "    |      |\n",
    "    O      |\n",
    "   /|\\     |\n",
    "   /       |\n",
    "           |\n",
    "    -------o\n",
    "    \n",
    "Hadej pismeno/slovo:a\n",
    "chybka!\n",
    "Prohráls:( snad příště\n",
    "Hledané slovo: *sickness*\n",
    "\n",
    "    -------^\n",
    "    |      |\n",
    "   *_*     |\n",
    "   /|\\     |\n",
    "   / \\     |\n",
    "           |\n",
    "    -------o\n",
    "```"
   ]
  },
  {
   "cell_type": "code",
   "execution_count": null,
   "metadata": {},
   "outputs": [],
   "source": [
    "# vyřešíme zobrazování po špatných pokusech"
   ]
  },
  {
   "cell_type": "markdown",
   "metadata": {},
   "source": [
    "#### Výsledné řešení:"
   ]
  },
  {
   "cell_type": "markdown",
   "metadata": {},
   "source": [
    "<details>\n",
    "  <summary>▶️  Klikni zde pro zobrazení</summary>\n",
    "   \n",
    "```python\n",
    "import os # os.system(\"clear\")/os.system(\"cls\")\n",
    "import random\n",
    "\n",
    "from IPython.display import clear_output  # clear_output() -> pro jupyter nb\n",
    "\n",
    "from solution.figurka import hangman \n",
    "\n",
    "slova = [\n",
    "     'cry',\n",
    "     'proposal',\n",
    "     # ...\n",
    "     'circle'\n",
    "]\n",
    "zivoty = 7\n",
    "hra_bezi = True\n",
    "slovo = random.choice(slova)\n",
    "tajenka = len(slovo) * [\"_\"]\n",
    "\n",
    "while hra_bezi and zivoty > 0:\n",
    "    clear_output()\n",
    "    print(\n",
    "        f\"Tajenka: {' '.join(tajenka)}; zivoty: {zivoty}\",\n",
    "        hangman[7 - zivoty],\n",
    "        sep=\"\\n\"\n",
    "    )\n",
    "    hadani = input(\"Hadej pismeno/slovo:\")\n",
    "    \n",
    "    if hadani == slovo:\n",
    "        hra_bezi = False\n",
    "    elif len(hadani) == 1 and hadani in slovo:\n",
    "        print(\"Uhodls pismeno!\")\n",
    "    else:\n",
    "        zivoty = zivoty - 1\n",
    "        \n",
    "else:\n",
    "    if not hra_bezi:\n",
    "        clear_output()\n",
    "        print(f\"Tajenka: {slovo}\", \"Vyhráls! Gratulace..\", sep=\"\\n\")\n",
    "    else:\n",
    "        clear_output()\n",
    "        print(f\"Prohráls:( snad příště\", f\"Hledané slovo: *{slovo}*\", sep=\"\\n\")\n",
    "        print(hangman[7 - zivoty])\n",
    "```\n",
    "</details>\n",
    "\n",
    "---"
   ]
  },
  {
   "cell_type": "markdown",
   "metadata": {},
   "source": [
    "#### Hádání po písmenech"
   ]
  },
  {
   "cell_type": "code",
   "execution_count": null,
   "metadata": {},
   "outputs": [],
   "source": [
    "# zapiš celé řešení"
   ]
  },
  {
   "cell_type": "markdown",
   "metadata": {},
   "source": [
    "#### Výsledné řešení:"
   ]
  },
  {
   "cell_type": "markdown",
   "metadata": {},
   "source": [
    "<details>\n",
    "  <summary>▶️  Klikni zde pro zobrazení</summary>\n",
    "   \n",
    "```python\n",
    "# zapiš řešení\n",
    "import os # os.system(\"clear\")/os.system(\"cls\")\n",
    "import random\n",
    "\n",
    "from IPython.display import clear_output  # clear_output() -> pro jupyter nb\n",
    "\n",
    "from solution.figurka import hangman \n",
    "\n",
    "slova = [\n",
    "     'cry',\n",
    "     'proposal',\n",
    "     # ...\n",
    "     'circle'\n",
    "]\n",
    "zivoty = 7\n",
    "hra_bezi = True\n",
    "slovo = random.choice(slova)\n",
    "tajenka = len(slovo) * [\"_\"]\n",
    "\n",
    "while hra_bezi and zivoty > 0:\n",
    "    clear_output()\n",
    "    print(f\"Tajenka: {' '.join(tajenka)}\")\n",
    "    print(hangman[7 - zivoty])\n",
    "    hadani = input(\"Hadej pismeno/slovo:\")\n",
    "    \n",
    "    if hadani == slovo:\n",
    "        hra_bezi = False\n",
    "    elif len(hadani) == 1 and hadani in slovo:\n",
    "        for index, symbol in enumerate(slovo):\n",
    "            if symbol == hadani:\n",
    "                tajenka[index] = hadani\n",
    "        hra_bezi = False if \"_\" not in tajenka else True\n",
    "    else:\n",
    "        zivoty = zivoty - 1\n",
    "        \n",
    "else:\n",
    "    if not hra_bezi:\n",
    "        clear_output()\n",
    "        print(f\"Tajenka: {slovo}\", \"Vyhráls! Gratulace..\", sep=\"\\n\")\n",
    "    else:\n",
    "        clear_output()\n",
    "        print(f\"Prohráls:( snad příště\", f\"Hledané slovo: *{slovo}*\", sep=\"\\n\")\n",
    "        print(hangman[7 - zivoty])\n",
    "```\n",
    "</details>\n",
    "\n",
    "---"
   ]
  }
 ],
 "metadata": {
  "kernelspec": {
   "display_name": "Python 3 (ipykernel)",
   "language": "python",
   "name": "python3"
  },
  "language_info": {
   "codemirror_mode": {
    "name": "ipython",
    "version": 3
   },
   "file_extension": ".py",
   "mimetype": "text/x-python",
   "name": "python",
   "nbconvert_exporter": "python",
   "pygments_lexer": "ipython3",
   "version": "3.9.5"
  }
 },
 "nbformat": 4,
 "nbformat_minor": 4
}
