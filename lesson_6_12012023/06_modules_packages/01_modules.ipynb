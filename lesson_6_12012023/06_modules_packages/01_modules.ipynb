{
 "cells": [
  {
   "cell_type": "markdown",
   "metadata": {},
   "source": [
    "### Knihovny v Pythonu (~libraries)\n",
    "---\n",
    "\n",
    "Podle struktury můžeme knihovny v Pythonu rozdělit obecně na:\n",
    "1. **Moduly**\n",
    "2. **Balíky**\n",
    "\n",
    "<br>\n",
    "\n",
    "Některé máte k dispozi od chvíle, kdy jste si nainstalovali interpret Pythonu.\n",
    "\n",
    "<br>\n",
    "\n",
    "Jednotlivé verze Pythonu mohou nabízet trochu obměněné verze, případně knihovny.\n",
    "\n",
    "---\n",
    "\n",
    "<br>"
   ]
  },
  {
   "cell_type": "markdown",
   "metadata": {},
   "source": [
    "#### Moduly (~modules)\n",
    "Modulem je v podstatě každý soubor, který nese příponu `.py` (tedy soubor Pythonu).\n",
    "\n",
    "<br>\n",
    "\n",
    "Stejně jako jiné soubory i moduly obsahují proměnné, podmínky, funkce, třídy, aj.\n",
    "\n",
    "---\n",
    "\n",
    "<br>\n",
    "\n",
    "#### Soubor `muj_modul.py`"
   ]
  },
  {
   "cell_type": "code",
   "execution_count": null,
   "metadata": {},
   "outputs": [],
   "source": [
    "udaje_uzivatele = {\n",
    "    \"jmeno\": \"Matous\",\n",
    "    \"email\": \"matous@matous.cz\"\n",
    "}"
   ]
  },
  {
   "cell_type": "markdown",
   "metadata": {},
   "source": [
    "---\n",
    "\n",
    "<br>\n",
    "\n",
    "#### Soubor `hlavni.py`"
   ]
  },
  {
   "cell_type": "code",
   "execution_count": null,
   "metadata": {},
   "outputs": [],
   "source": [
    "print(\n",
    "    f\"Jmeno: {muj_modul.udaje_uzivatele['jmeno']}\",\n",
    "    f\"email: {muj_modul.udaje_uzivatele['email']}\",\n",
    "    sep=\"\\n\"\n",
    ")"
   ]
  },
  {
   "cell_type": "markdown",
   "metadata": {},
   "source": [
    "<br>\n",
    "\n",
    "Spojení souboru `hlavni.py` a modulu `muj_modul.py` nebude takhle fungovat.\n",
    "\n",
    "<br>\n",
    "\n",
    "Vynechali jsme totiž stěžejní krok, **náhratí modulu**. Tudíž můžeme očekávat výjimku `NameError`."
   ]
  },
  {
   "cell_type": "markdown",
   "metadata": {},
   "source": [
    "---\n",
    "\n",
    "<br>\n",
    "\n",
    "#### Opravený soubor `hlavni.py`"
   ]
  },
  {
   "cell_type": "code",
   "execution_count": null,
   "metadata": {},
   "outputs": [],
   "source": [
    "import muj_modul\n",
    "\n",
    "print(\n",
    "    f\"Jmeno: {muj_modul.udaje_uzivatele['jmeno']}\",\n",
    "    f\"email: {muj_modul.udaje_uzivatele['email']}\",\n",
    "    sep=\"\\n\"\n",
    ")"
   ]
  },
  {
   "cell_type": "markdown",
   "metadata": {},
   "source": [
    "---\n",
    "\n",
    "<br>\n",
    "\n",
    "*poznámka*. pomocí ohlášení `import` interpretu sdělím, že chci **nahrát** jiný soubor pythonu (modul `muj_modul`), který obsahuje slovník `udaje`.\n"
   ]
  },
  {
   "cell_type": "markdown",
   "metadata": {},
   "source": [
    "---\n",
    "\n",
    "<br>\n",
    "\n",
    "#### Modul `pprint`"
   ]
  },
  {
   "cell_type": "code",
   "execution_count": 1,
   "metadata": {},
   "outputs": [],
   "source": [
    "udaje_uzivatele = {\n",
    "    \"jmeno\": \"Matous\",\n",
    "    \"prijmeni\": \"Holinka\",\n",
    "    \"email\": \"matous@matous.cz\",\n",
    "    \"adresa\": \"Kocourkov, U Potoka 28\"\n",
    "}"
   ]
  },
  {
   "cell_type": "code",
   "execution_count": 2,
   "metadata": {},
   "outputs": [
    {
     "name": "stdout",
     "output_type": "stream",
     "text": [
      "{'jmeno': 'Matous', 'prijmeni': 'Holinka', 'email': 'matous@matous.cz', 'adresa': 'Kocourkov, U Potoka 28'}\n"
     ]
    }
   ],
   "source": [
    "print(udaje_uzivatele)"
   ]
  },
  {
   "cell_type": "code",
   "execution_count": 3,
   "metadata": {},
   "outputs": [],
   "source": [
    "import pprint"
   ]
  },
  {
   "cell_type": "code",
   "execution_count": null,
   "metadata": {},
   "outputs": [],
   "source": [
    "pprint.pprint(udaje_uzivatele)"
   ]
  },
  {
   "cell_type": "markdown",
   "metadata": {},
   "source": [
    "#### Modul `random`"
   ]
  },
  {
   "cell_type": "code",
   "execution_count": null,
   "metadata": {},
   "outputs": [],
   "source": [
    "import random"
   ]
  },
  {
   "cell_type": "code",
   "execution_count": null,
   "metadata": {},
   "outputs": [],
   "source": [
    "random.seed(0)\n",
    "for i in range(5):\n",
    "    print(i, \":\", random.randint(1, 6))"
   ]
  }
 ],
 "metadata": {
  "kernelspec": {
   "display_name": "Python 3",
   "language": "python",
   "name": "python3"
  },
  "language_info": {
   "codemirror_mode": {
    "name": "ipython",
    "version": 3
   },
   "file_extension": ".py",
   "mimetype": "text/x-python",
   "name": "python",
   "nbconvert_exporter": "python",
   "pygments_lexer": "ipython3",
   "version": "3.11.1"
  },
  "vscode": {
   "interpreter": {
    "hash": "1a1af0ee75eeea9e2e1ee996c87e7a2b11a0bebd85af04bb136d915cefc0abce"
   }
  }
 },
 "nbformat": 4,
 "nbformat_minor": 4
}
