{
 "cells": [
  {
   "cell_type": "markdown",
   "metadata": {},
   "source": [
    "### Opakování po šesté lekci!\n",
    "\n",
    "<br>\n",
    "\n",
    "Trochu rozehřejeme šedou kůru mozkovou s opakováním po kapitole o knihovnách.\n",
    "\n",
    "---\n",
    "\n",
    "<br>\n",
    "\n",
    "#### Ukázka #01"
   ]
  },
  {
   "cell_type": "code",
   "execution_count": null,
   "metadata": {},
   "outputs": [],
   "source": [
    "# Potřebuji získat přesnou hodnotu pí\n",
    "# -----------------------------------\n",
    "# Nahrajeme knihovnu 'math' do souboru\n",
    "\n",
    "# Ověříme dostupné metody a proměnné\n",
    "\n",
    "# Zpřístupníme proměnnou 'pi'\n"
   ]
  },
  {
   "cell_type": "markdown",
   "metadata": {},
   "source": [
    "<details>\n",
    "  <summary>❓ Klikni zde pro vysvětlivky</summary>\n",
    "\n",
    "<br>\n",
    "    \n",
    "Než začnu psát, zkusím pohledat, jestli stávající **built-in funkce** nenabízejí nějaké pomocné řešení, které již někdo vytvořil.\n",
    "\n",
    "<br>\n",
    "\n",
    "V tomto případě knihovna `math`.\n",
    "\n",
    "</details>\n",
    "\n",
    "---"
   ]
  },
  {
   "cell_type": "markdown",
   "metadata": {
    "tags": []
   },
   "source": [
    "#### Ukázka #02"
   ]
  },
  {
   "cell_type": "code",
   "execution_count": null,
   "metadata": {
    "tags": []
   },
   "outputs": [],
   "source": [
    "# Je knihovna použitá knihovna 'math' modul nebo balíček?\n",
    "import math\n",
    "help(math)"
   ]
  },
  {
   "cell_type": "markdown",
   "metadata": {},
   "source": [
    "<details>\n",
    "  <summary>❓ Klikni zde pro vysvětlivky</summary>\n",
    "\n",
    "<br>\n",
    "    \n",
    "Většinou nám stačí zjistit odpověď pomocí napovědy ve funkci `help`. Na prvním řádku obvykle stojí specifikace knihovny.\n",
    "\n",
    "<br>\n",
    "\n",
    "</details>\n",
    "\n",
    "---"
   ]
  },
  {
   "cell_type": "markdown",
   "metadata": {},
   "source": [
    "#### Ukázka #03"
   ]
  },
  {
   "cell_type": "code",
   "execution_count": null,
   "metadata": {},
   "outputs": [],
   "source": [
    "# Jak ideálně uspořádat knihovny?\n",
    "import socket\n",
    "import os\n",
    "import random\n",
    "import datetime\n",
    "import time\n",
    "import re\n",
    "import urllib.parse\n",
    "from email._parseaddr import AddressList\n",
    "from email._parseaddr import quote as q\n",
    "from email._parseaddr import mktime_tz as mk_tz\n",
    "from email._parseaddr import parsedate, parsedate_tz, _parsedate_tz\n",
    "\n",
    "from bs4 import BeautifulSoup as bs\n",
    "\n",
    "from muj_uzasny_balicek.modul import moje_promenna"
   ]
  },
  {
   "cell_type": "markdown",
   "metadata": {},
   "source": [
    "<details>\n",
    "  <summary>❓ Klikni zde pro vysvětlivky</summary>\n",
    "\n",
    "<br>\n",
    "    \n",
    "Podle doporučení dle [pep8]() nejprve zapisujeme knihovny standartní, dále třetích stran a nakonec lokální knihovny.\n",
    "\n",
    "<br>\n",
    "\n",
    "Mezi každou skupinou zapíšeme volný řádek, abychom je vizuálně oddělili.\n",
    "</details>\n",
    "\n",
    "---"
   ]
  },
  {
   "cell_type": "markdown",
   "metadata": {},
   "source": [
    "#### Ukázka #04"
   ]
  },
  {
   "cell_type": "code",
   "execution_count": null,
   "metadata": {},
   "outputs": [],
   "source": [
    "# Jsou nějaká další obecná pravidla?"
   ]
  },
  {
   "cell_type": "markdown",
   "metadata": {},
   "source": [
    "<details>\n",
    "  <summary>❓ Klikni zde pro vysvětlivky</summary>\n",
    "\n",
    "<br>\n",
    "    \n",
    "Obecně je dobré naučit se tyto pravidla [pep8](https://www.python.org/dev/peps/pep-0008/):\n",
    "1. Nahrané knihovny je dobré mít na začátku souboru,\n",
    "2. Každé knihovna je zapsaná na vlastní řádku,\n",
    "3. Organizuje nahrané knihovny do skupin: I. standartní, II. třetí strany, III. lokální\n",
    "4. Vyhýbej se nahrávání s hvězdičkou (wildcart)\n",
    "\n",
    "</details>\n",
    "\n",
    "---"
   ]
  },
  {
   "cell_type": "code",
   "execution_count": null,
   "metadata": {},
   "outputs": [],
   "source": [
    "import os"
   ]
  },
  {
   "cell_type": "code",
   "execution_count": null,
   "metadata": {},
   "outputs": [],
   "source": [
    "soubory = os.listdir()\n",
    "print(soubory)"
   ]
  },
  {
   "cell_type": "code",
   "execution_count": null,
   "metadata": {},
   "outputs": [],
   "source": [
    "[f for f in soubory if f.endswith(\".ipynb\")]"
   ]
  },
  {
   "cell_type": "code",
   "execution_count": null,
   "metadata": {},
   "outputs": [],
   "source": [
    "#Vytváříme novou složku.\n",
    "\n",
    "# os.mkdir('test')\n",
    "\n",
    "#Díváme se, jestli se složka vytvořila.\n",
    "\n",
    "print(os.listdir())"
   ]
  }
 ],
 "metadata": {
  "kernelspec": {
   "display_name": "Python 3",
   "language": "python",
   "name": "python3"
  },
  "language_info": {
   "codemirror_mode": {
    "name": "ipython",
    "version": 3
   },
   "file_extension": ".py",
   "mimetype": "text/x-python",
   "name": "python",
   "nbconvert_exporter": "python",
   "pygments_lexer": "ipython3",
   "version": "3.11.0 (main, Oct 24 2022, 18:26:48) [MSC v.1933 64 bit (AMD64)]"
  },
  "vscode": {
   "interpreter": {
    "hash": "cd066ac09377f89a24ed9743f32ffbf343cab654b58785282a84775599740388"
   }
  }
 },
 "nbformat": 4,
 "nbformat_minor": 4
}
