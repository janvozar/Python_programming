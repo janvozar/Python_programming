{
 "cells": [
  {
   "attachments": {},
   "cell_type": "markdown",
   "metadata": {},
   "source": [
    "### Odstraňování chyb (~debugging)\n",
    "\n",
    "---\n"
   ]
  },
  {
   "cell_type": "markdown",
   "metadata": {},
   "source": [
    "#### Jak postupovat při odstranění chyb (metody debugování)\n",
    "\n",
    "---\n",
    "\n",
    "Zatím co, odchytaní výjimek pomocí `try/except/else` (**error handling**) může zabránit **běhovým** chybám efektivně, zabránit **logickým** chybám může být obtížnější.\n",
    "\n",
    "<br>\n",
    "\n",
    "#### Odstraňování chyb pomocí `print` funkce\n",
    "\n",
    "---\n",
    "\n",
    "Prvním a nejjednodušším krokem v situaci, kdy náš program nepracuje tak jak má, je výpis některých proměnných, datových typů, atp.\n",
    "\n",
    "<br>"
   ]
  },
  {
   "cell_type": "code",
   "execution_count": null,
   "metadata": {},
   "outputs": [],
   "source": [
    "def vrat_polovinu(cislo: int) -> float:\n",
    "    return cislo / 2"
   ]
  },
  {
   "cell_type": "code",
   "execution_count": null,
   "metadata": {},
   "outputs": [],
   "source": [
    "for cislo in (1, 2, 3, \"A\", 5):\n",
    "    vrat_polovinu(cislo)"
   ]
  },
  {
   "cell_type": "markdown",
   "metadata": {},
   "source": [
    "<br>\n",
    "\n",
    "Ačkoliv jde o docela jednoduchou funkci, může nám snadno pomoci/napovědět, proč se program chová nelogicky.\n",
    "\n",
    "<br>"
   ]
  },
  {
   "cell_type": "markdown",
   "metadata": {},
   "source": [
    "#### Odstraňování chyb pomocí funkce `vars`\n",
    "\n",
    "---\n",
    "\n",
    "Další pomocnou funkcí je funkce `vars`, která umí vypsat všechna jména proměnných (tedy odkazů) a jejich hodnoty."
   ]
  },
  {
   "cell_type": "code",
   "execution_count": null,
   "metadata": {},
   "outputs": [],
   "source": [
    "x = 5\n",
    "y = [1,2,3]\n",
    "slovnik = {\"jmeno\":\"Karel\"}\n",
    "vars()"
   ]
  },
  {
   "cell_type": "code",
   "execution_count": null,
   "metadata": {},
   "outputs": [],
   "source": [
    "def vypisovaci_fce(pomocna = \"index\", *args) -> None:\n",
    "    for arg in args:\n",
    "        vysledek = f\"index_{arg}\"\n",
    "    print(vars())"
   ]
  },
  {
   "cell_type": "code",
   "execution_count": null,
   "metadata": {},
   "outputs": [],
   "source": [
    "vypisovaci_fce(1, 2, 3)"
   ]
  },
  {
   "cell_type": "markdown",
   "metadata": {},
   "source": [
    "<br>\n",
    "\n",
    "Dalšími pomocným funkcemi mohou mít například funkce `globals` a `locals` i některé další zabudované funkce."
   ]
  }
 ],
 "metadata": {
  "kernelspec": {
   "display_name": "Python 3",
   "language": "python",
   "name": "python3"
  },
  "language_info": {
   "codemirror_mode": {
    "name": "ipython",
    "version": 3
   },
   "file_extension": ".py",
   "mimetype": "text/x-python",
   "name": "python",
   "nbconvert_exporter": "python",
   "pygments_lexer": "ipython3",
   "version": "3.11.0 (main, Oct 24 2022, 18:26:48) [MSC v.1933 64 bit (AMD64)]"
  },
  "vscode": {
   "interpreter": {
    "hash": "cd066ac09377f89a24ed9743f32ffbf343cab654b58785282a84775599740388"
   }
  }
 },
 "nbformat": 4,
 "nbformat_minor": 4
}
