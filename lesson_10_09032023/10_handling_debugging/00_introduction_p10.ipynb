{
 "cells": [
  {
   "cell_type": "markdown",
   "metadata": {},
   "source": [
    "### Lekce #10, Python akademie\n",
    "\n",
    "---\n"
   ]
  },
  {
   "cell_type": "markdown",
   "metadata": {},
   "source": [
    "#### Debugování\n",
    "---\n",
    "\n",
    "Proces odstranění **chyb** v našem zápise.\n",
    "\n",
    "<br>\n",
    "\n",
    "#### Chyby v Pythonu\n",
    "\n",
    "---\n",
    "\n",
    "Splést se, tedy udělat chybu, může každý. Ani programátoři nejsou výjimkou. Chyba v našem zápisu způsobí, že program buď **selže**, nebo **nebude fungovat** tak, jak jsme původně zamýšleli.\n",
    "\n",
    "<br>\n",
    "\n",
    "Obecně řečeno se chyby v některých (OOP) programovacích jazycích označují jako **výjimky**, z anglického _exceptions_ (údajně protože programátoři chybují jen výjimečně).\n",
    "\n",
    "<br>\n",
    "\n",
    "Podle některých kritérií můžeme chyby v Pythonu rozlišit na 3 typy:\n",
    "1. **Syntaktické chyby** - nedodržení předpisu jazyka Python\n",
    "2. **Běhové chyby** - chyba se projeví až při interpretování našeho zápisu,\n",
    "3. **Logické chyby** - kód funguje jinak než bylo zamýšleno."
   ]
  },
  {
   "cell_type": "markdown",
   "metadata": {},
   "source": [
    "<br>\n",
    "\n",
    "#### Syntaktické chyby\n",
    "\n",
    "---\n",
    "\n",
    "Čím více řádků kódu napíšeme, tím rychleji se naučíme tomuto typu chyb zabránit.\n",
    "\n",
    "<br>\n",
    "\n",
    "Další velice efektivní pomůckou jsou speciální nástroje do našich editorů (v podstatě jde o zvýrazňovače, původně _linter tool_)(např. **pylint**, **flake8**, atd.).\n",
    "\n",
    "<br>\n",
    "\n",
    "PyCharm takový zabudovaný _linter_ naštěstí má, takže by nám tento nástroj neměl být úplně cizí."
   ]
  },
  {
   "cell_type": "code",
   "execution_count": null,
   "metadata": {},
   "outputs": [],
   "source": [
    "x,y,z = [1, 2, 2, 4]"
   ]
  },
  {
   "cell_type": "code",
   "execution_count": null,
   "metadata": {},
   "outputs": [],
   "source": [
    "if \"@\" in \"jan@novak.cz\"\n",
    "    print(\"Pravda\")\n",
    "else:\n",
    "    print(\"Neni pravda\")"
   ]
  },
  {
   "cell_type": "markdown",
   "metadata": {},
   "source": [
    "<br>\n",
    "\n",
    "#### Běhové chyby\n",
    "\n",
    "---\n",
    "\n",
    "S běhovou chybou se setkáme, pokud náš zápis dostatečně neošetříme. Většinu času bude fungovat jak má, ale může se stát, že za jistých podmínek selže."
   ]
  },
  {
   "cell_type": "code",
   "execution_count": null,
   "metadata": {},
   "outputs": [],
   "source": [
    "def vrat_polovinu(cislo: int) -> float:\n",
    "    return float(cislo) / 2"
   ]
  },
  {
   "cell_type": "code",
   "execution_count": null,
   "metadata": {},
   "outputs": [],
   "source": [
    "for cislo in (1, 2, 3, 4, 5):\n",
    "    print(vrat_polovinu(cislo))"
   ]
  },
  {
   "cell_type": "code",
   "execution_count": null,
   "metadata": {},
   "outputs": [],
   "source": [
    "for cislo in (1, 2, 3, \"A\", 5):\n",
    "    print(vrat_polovinu(cislo))"
   ]
  },
  {
   "cell_type": "markdown",
   "metadata": {},
   "source": [
    "<br>\n",
    "\n",
    "#### Logické chyby\n",
    "\n",
    "---\n",
    "\n",
    "Logickou chybu **nepoznáme** tak snadno. Program totiž spustíme bez zbytečných komplikací. Teprve až po kontrole nějakých hodnot, případně výstupu si můžeme všimnout nesrovanalostí."
   ]
  },
  {
   "cell_type": "code",
   "execution_count": null,
   "metadata": {},
   "outputs": [],
   "source": [
    "x = 3\n",
    "y = 5\n",
    "\n",
    "prumer = (x + y) / 2\n",
    "print(prumer)"
   ]
  },
  {
   "cell_type": "code",
   "execution_count": null,
   "metadata": {},
   "outputs": [],
   "source": []
  }
 ],
 "metadata": {
  "kernelspec": {
   "display_name": "Python 3",
   "language": "python",
   "name": "python3"
  },
  "language_info": {
   "codemirror_mode": {
    "name": "ipython",
    "version": 3
   },
   "file_extension": ".py",
   "mimetype": "text/x-python",
   "name": "python",
   "nbconvert_exporter": "python",
   "pygments_lexer": "ipython3",
   "version": "3.11.1"
  },
  "vscode": {
   "interpreter": {
    "hash": "1a1af0ee75eeea9e2e1ee996c87e7a2b11a0bebd85af04bb136d915cefc0abce"
   }
  }
 },
 "nbformat": 4,
 "nbformat_minor": 4
}
