{
 "cells": [
  {
   "cell_type": "markdown",
   "metadata": {},
   "source": [
    "### Odchytávání výjimek (~error handling)\n",
    "\n",
    "---\n",
    "\n",
    "Jde o proces, kdy se snažíme bránit výskytu jednotlivých typů výjimek.\n",
    "\n",
    "<br>\n",
    "\n",
    "#### Postupy pro ošetření zápisu před výjimkami\n",
    "\n",
    "---\n",
    "\n",
    "1. Syntaxe **podmínkového stromu** `if`/`elif`/`else`,\n",
    "2. Syntaxe **error handling** `try`/`except`/`else`(/`finally`)\n",
    "\n",
    "<br>\n",
    "\n",
    "#### Podmínkový strom\n",
    "\n",
    "---"
   ]
  },
  {
   "cell_type": "code",
   "execution_count": 1,
   "metadata": {},
   "outputs": [
    {
     "name": "stdout",
     "output_type": "stream",
     "text": [
      "Super, tvoje cislo je: 2\n",
      "Pokracujeme dal..\n"
     ]
    }
   ],
   "source": [
    "cislo = int(input(\"Zadej libovolne cislo:\"))\n",
    "print(f\"Super, tvoje cislo je: {cislo}\")\n",
    "print(\"Pokracujeme dal..\")"
   ]
  },
  {
   "cell_type": "markdown",
   "metadata": {},
   "source": [
    "<br>\n",
    "\n",
    "Nesprávně sestaveným zápisem jsme získali scénář končící výjimkou `ValueError`.\n",
    "\n",
    "<br>\n",
    "\n",
    "Jak tomuto nedopatření předcházet:"
   ]
  },
  {
   "cell_type": "code",
   "execution_count": 2,
   "metadata": {},
   "outputs": [
    {
     "name": "stdout",
     "output_type": "stream",
     "text": [
      "Super, tvoje cislo je: 4\n",
      "Pokracujeme dal..\n"
     ]
    }
   ],
   "source": [
    "while True:\n",
    "    cislo = input(\"Zadej libovolne cislo:\")\n",
    "\n",
    "    if cislo.isnumeric():\n",
    "        print(f\"Super, tvoje cislo je: {int(cislo)}\")\n",
    "        print(\"Pokracujeme dal..\")\n",
    "        break\n",
    "    else:\n",
    "        print(\"Tebou zadana hodnota neni cislo!\")"
   ]
  },
  {
   "attachments": {},
   "cell_type": "markdown",
   "metadata": {},
   "source": [
    "\n",
    "#### Syntaxe try, except, else, finally\n",
    "\n",
    "---"
   ]
  },
  {
   "cell_type": "code",
   "execution_count": 3,
   "metadata": {},
   "outputs": [
    {
     "name": "stdout",
     "output_type": "stream",
     "text": [
      "Bohuzel jsi nezadal cislo :(\n",
      "5.0\n",
      "Pokracujeme dal..\n",
      "Dalsi kod\n"
     ]
    }
   ],
   "source": [
    "while True:\n",
    "    try:\n",
    "        cislo = int(input(\"Zadej cislo k deleni 10/cislo :\"))\n",
    "        print(10 / cislo)\n",
    "    except ValueError:\n",
    "        print(f\"Bohuzel jsi nezadal cislo :(\")\n",
    "    except ZeroDivisionError:\n",
    "        print(\"Nelze delit nulou\")\n",
    "    else:\n",
    "        print(\"Pokracujeme dal..\")\n",
    "        break\n",
    "print(\"Dalsi kod\")"
   ]
  },
  {
   "cell_type": "markdown",
   "metadata": {},
   "source": [
    "Pomocí této zachytávací konstrukce můžeme využít tyto větve:\n",
    "1. `try` - zkus zápis v této větvi,\n",
    "2. `except` - pokud nastane chyba, upozorni mě,\n",
    "3. `else` - pokud nenastane chyba, proveď obsah této větve,\n",
    "4. `finally` - ať už chyba nastane nebo ne, proveď obsah této větve."
   ]
  },
  {
   "cell_type": "code",
   "execution_count": 5,
   "metadata": {},
   "outputs": [
    {
     "name": "stdout",
     "output_type": "stream",
     "text": [
      "50.0\n",
      "Pokracujeme dal..\n",
      "Ukoncuji zapis\n"
     ]
    }
   ],
   "source": [
    "while True:\n",
    "    try:\n",
    "        cislo = int(input(\"Zadej libovolne cislo:\"))\n",
    "        print(100/cislo)\n",
    "        \n",
    "    except ValueError:\n",
    "        print(f\"Bohuzel jsi nezadal cislo :(\")\n",
    "    except ZeroDivisionError:\n",
    "        print(f\"Bohuzel, vyber jine cislo nez 0 :(\")\n",
    "    else:\n",
    "        print(10 / cislo)\n",
    "        print(\"Pokracujeme dal..\")\n",
    "        break\n",
    "    finally:\n",
    "        print(\"Ukoncuji zapis\")\n",
    "        \n",
    "    print(\"Kdy se vytiskne tato část?\")"
   ]
  },
  {
   "cell_type": "code",
   "execution_count": 5,
   "metadata": {},
   "outputs": [
    {
     "name": "stdout",
     "output_type": "stream",
     "text": [
      "Index je mimo rozsah seznamu.\n",
      "Konec programu.\n"
     ]
    }
   ],
   "source": [
    "lst = [1, 2, 3, 4, 5]\n",
    "\n",
    "try:\n",
    "  index = int(input(\"Zadej index seznamu: \"))\n",
    "  vysledek = lst[index]\n",
    "except ValueError:\n",
    "  print(\"Neplatný vstup, zadej číslo.\")\n",
    "except IndexError:\n",
    "  print(\"Index je mimo rozsah seznamu.\")\n",
    "except:\n",
    "  print(\"Došlo k neočekávané chybě.\") # odchytne vše ostatní, raději nedělat\n",
    "else:\n",
    "  print(\"Prvek na pozici\", index, \"je\", vysledek)\n",
    "finally:\n",
    "  print(\"Konec programu.\")\n"
   ]
  },
  {
   "cell_type": "markdown",
   "metadata": {},
   "source": [
    "#### Shrnutí\n",
    "\n",
    "---\n",
    "\n",
    "1. Ve větvi `try` chceme mít co nejméně zkoušeného zápisu,\n",
    "2. můžeme mít několik různých větví `except`,\n",
    "3. větev `finally` se nemusí hodit vždy (pokud ukončuji spojení se serverem, query, práci se souborem, aj.)\n",
    "4. odchytávání chyb slouží často pro účely _logování_, tedy záznamech o průběhu našeho programu,\n",
    "5. nepoužívat zbytečně (pokud nepotřebuji pracovat s výjimkami, nemá význam)\n",
    "\n",
    "<br>"
   ]
  }
 ],
 "metadata": {
  "kernelspec": {
   "display_name": "Python 3",
   "language": "python",
   "name": "python3"
  },
  "language_info": {
   "codemirror_mode": {
    "name": "ipython",
    "version": 3
   },
   "file_extension": ".py",
   "mimetype": "text/x-python",
   "name": "python",
   "nbconvert_exporter": "python",
   "pygments_lexer": "ipython3",
   "version": "3.11.1"
  },
  "vscode": {
   "interpreter": {
    "hash": "1a1af0ee75eeea9e2e1ee996c87e7a2b11a0bebd85af04bb136d915cefc0abce"
   }
  }
 },
 "nbformat": 4,
 "nbformat_minor": 4
}
