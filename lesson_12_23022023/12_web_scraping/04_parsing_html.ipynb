{
 "cells": [
  {
   "cell_type": "markdown",
   "metadata": {},
   "source": [
    "### Beautifulsoup\n",
    "\n",
    "---\n",
    "\n",
    "Asi jeden z těch nejznámějších parserů určených k rozdělování `html`, `xml` atd. Opět musíme nejprve nainstalovat (jedná se o balíček třetí strany).\n",
    "\n",
    "<br>\n",
    "\n",
    "V našem virtuálním pracovním prostředí:\n",
    "```bash\n",
    "$ pip3 install beautifulsoup\n",
    "$ pip3 freeze > requirements.txt\n",
    "```\n",
    "\n",
    "<br>\n",
    "\n",
    "#### Vstupní hodnoty\n",
    "\n",
    "---"
   ]
  },
  {
   "cell_type": "code",
   "execution_count": 2,
   "metadata": {},
   "outputs": [
    {
     "ename": "ModuleNotFoundError",
     "evalue": "No module named 'bs4'",
     "output_type": "error",
     "traceback": [
      "\u001b[0;31m---------------------------------------------------------------------------\u001b[0m",
      "\u001b[0;31mModuleNotFoundError\u001b[0m                       Traceback (most recent call last)",
      "Cell \u001b[0;32mIn[2], line 2\u001b[0m\n\u001b[1;32m      1\u001b[0m \u001b[39mimport\u001b[39;00m \u001b[39mrequests\u001b[39;00m\n\u001b[0;32m----> 2\u001b[0m \u001b[39mfrom\u001b[39;00m \u001b[39mbs4\u001b[39;00m \u001b[39mimport\u001b[39;00m BeautifulSoup\n",
      "\u001b[0;31mModuleNotFoundError\u001b[0m: No module named 'bs4'"
     ]
    }
   ],
   "source": [
    "import requests\n",
    "from bs4 import BeautifulSoup"
   ]
  },
  {
   "cell_type": "code",
   "execution_count": 6,
   "metadata": {},
   "outputs": [],
   "source": [
    "cislo = 1\n",
    "url = f\"https://heroes3.cz/hraci/index.php?page={cislo}&order=&razeni=DESC\"\n",
    "jmeno_souboru = f\"vystup_tab_{cislo}.csv\""
   ]
  },
  {
   "cell_type": "code",
   "execution_count": null,
   "metadata": {},
   "outputs": [],
   "source": []
  },
  {
   "cell_type": "markdown",
   "metadata": {},
   "source": [
    "<br>\n",
    "\n",
    "#### Odeslání požadavku\n",
    "\n",
    "---"
   ]
  },
  {
   "cell_type": "code",
   "execution_count": 7,
   "metadata": {},
   "outputs": [],
   "source": [
    "odp_serveru = requests.get(url)"
   ]
  },
  {
   "cell_type": "code",
   "execution_count": 8,
   "metadata": {},
   "outputs": [
    {
     "data": {
      "text/plain": [
       "str"
      ]
     },
     "execution_count": 8,
     "metadata": {},
     "output_type": "execute_result"
    }
   ],
   "source": [
    "type(odp_serveru.text)"
   ]
  },
  {
   "cell_type": "code",
   "execution_count": 9,
   "metadata": {},
   "outputs": [
    {
     "name": "stdout",
     "output_type": "stream",
     "text": [
      "<!DOCTYPE html>\n",
      "<html la\n"
     ]
    }
   ],
   "source": [
    "print(odp_serveru.text[:25])"
   ]
  },
  {
   "cell_type": "markdown",
   "metadata": {},
   "source": [
    "<br>\n",
    "\n",
    "#### Parsování html\n",
    "\n",
    "---"
   ]
  },
  {
   "cell_type": "code",
   "execution_count": 10,
   "metadata": {
    "tags": []
   },
   "outputs": [
    {
     "ename": "NameError",
     "evalue": "name 'BeautifulSoup' is not defined",
     "output_type": "error",
     "traceback": [
      "\u001b[0;31m---------------------------------------------------------------------------\u001b[0m",
      "\u001b[0;31mNameError\u001b[0m                                 Traceback (most recent call last)",
      "Cell \u001b[0;32mIn[10], line 1\u001b[0m\n\u001b[0;32m----> 1\u001b[0m help(BeautifulSoup)\n",
      "\u001b[0;31mNameError\u001b[0m: name 'BeautifulSoup' is not defined"
     ]
    }
   ],
   "source": [
    "help(BeautifulSoup)"
   ]
  },
  {
   "cell_type": "code",
   "execution_count": null,
   "metadata": {},
   "outputs": [],
   "source": [
    "soup = BeautifulSoup(odp_serveru.text, 'html.parser')"
   ]
  },
  {
   "cell_type": "code",
   "execution_count": null,
   "metadata": {},
   "outputs": [],
   "source": [
    "print(type(soup))"
   ]
  },
  {
   "cell_type": "code",
   "execution_count": null,
   "metadata": {},
   "outputs": [],
   "source": [
    "dir(soup)"
   ]
  },
  {
   "cell_type": "code",
   "execution_count": null,
   "metadata": {
    "tags": []
   },
   "outputs": [],
   "source": [
    "print(soup.prettify())"
   ]
  },
  {
   "attachments": {},
   "cell_type": "markdown",
   "metadata": {},
   "source": [
    "\n",
    "<br>\n",
    "\n",
    "#### Rozdělené html podle tagů\n",
    "\n",
    "---\n",
    "\n",
    "Nyní máme sice `html` soubor rozdělený, ale potřebujeme vybrat jen ta data, která nás zajímají.\n",
    "\n",
    "1. pořadí\n",
    "2. jméno\n",
    "3. vítězství\n",
    "4. celkem her\n",
    "\n",
    "<br>\n",
    "\n",
    "Abychom správně dohledali obsah těchto tagů, budeme je muset najít ve struktuře zdrojového kódu, v prohlížeči (režim `inspect`).\n",
    "\n",
    "<br>\n",
    "\n",
    "####  Hledání rodičovského tagu\n",
    "\n",
    "---\n",
    "\n",
    "Jakmile najdeme rodičovský tag, můžeme jej ověřit u jednotlivých údajů (`CSS path`):\n",
    "```html\n",
    "form > table.tab_top > tbody > tr > td\n",
    "```\n",
    "\n",
    "<br>\n",
    "\n",
    "Protože nás zajímají všichni hráči v tabulce, použijeme celý element `table`. Jakmile jej najdeme, můžeme si dále ověřit jestli nemá nějaký atribut, který by nám jej pomohl selektovat:\n",
    "```html\n",
    "<table class=\"tab_top\">\n",
    "    ...\n",
    "</table>\n",
    "```\n",
    "\n",
    "<br>\n",
    "\n",
    "#### Tagy potomků\n",
    "\n",
    "---\n",
    "\n",
    "Postupně procházíme všechny dědičné tagy a odpovíme společně na tyto otázky: https://www.w3schools.com/TAGS/tag_table.asp\n",
    "1. Co představuje tag: `<td></td>`?\n",
    "2. Co představuje tag: `<tr></tr>`?\n",
    "3. Co představuje tag: `<table></table>`?\n",
    "\n",
    "<br>\n",
    "\n",
    "#### Selekce vhodných elementů\n",
    "\n",
    "---\n",
    "\n",
    "Nejprve potřebujeme získat takový element, která obsahuje celou tabulku se všemi hráči. Projdeme tedy dostupné metody a zkusíme nějakou vybrat:"
   ]
  },
  {
   "cell_type": "code",
   "execution_count": 5,
   "metadata": {},
   "outputs": [
    {
     "ename": "NameError",
     "evalue": "name 'BeautifulSoup' is not defined",
     "output_type": "error",
     "traceback": [
      "\u001b[0;31m---------------------------------------------------------------------------\u001b[0m",
      "\u001b[0;31mNameError\u001b[0m                                 Traceback (most recent call last)",
      "Cell \u001b[0;32mIn[5], line 1\u001b[0m\n\u001b[0;32m----> 1\u001b[0m help(BeautifulSoup\u001b[39m.\u001b[39mfind)\n",
      "\u001b[0;31mNameError\u001b[0m: name 'BeautifulSoup' is not defined"
     ]
    }
   ],
   "source": [
    "help(BeautifulSoup.find)"
   ]
  },
  {
   "cell_type": "code",
   "execution_count": 4,
   "metadata": {},
   "outputs": [
    {
     "ename": "NameError",
     "evalue": "name 'BeautifulSoup' is not defined",
     "output_type": "error",
     "traceback": [
      "\u001b[0;31m---------------------------------------------------------------------------\u001b[0m",
      "\u001b[0;31mNameError\u001b[0m                                 Traceback (most recent call last)",
      "Cell \u001b[0;32mIn[4], line 1\u001b[0m\n\u001b[0;32m----> 1\u001b[0m help(BeautifulSoup\u001b[39m.\u001b[39mfind_all)\n",
      "\u001b[0;31mNameError\u001b[0m: name 'BeautifulSoup' is not defined"
     ]
    }
   ],
   "source": [
    "help(BeautifulSoup.find_all)"
   ]
  },
  {
   "cell_type": "markdown",
   "metadata": {},
   "source": [
    "<br>\n",
    "\n",
    "#### Selekce tabulky s atributem `tab_top`\n",
    "\n",
    "---"
   ]
  },
  {
   "cell_type": "code",
   "execution_count": 3,
   "metadata": {},
   "outputs": [
    {
     "ename": "NameError",
     "evalue": "name 'soup' is not defined",
     "output_type": "error",
     "traceback": [
      "\u001b[0;31m---------------------------------------------------------------------------\u001b[0m",
      "\u001b[0;31mNameError\u001b[0m                                 Traceback (most recent call last)",
      "Cell \u001b[0;32mIn[3], line 1\u001b[0m\n\u001b[0;32m----> 1\u001b[0m table_tag_top \u001b[39m=\u001b[39m soup\u001b[39m.\u001b[39mfind(\u001b[39m\"\u001b[39m\u001b[39mtable\u001b[39m\u001b[39m\"\u001b[39m, {\u001b[39m\"\u001b[39m\u001b[39mclass\u001b[39m\u001b[39m\"\u001b[39m: \u001b[39m\"\u001b[39m\u001b[39mtab_top\u001b[39m\u001b[39m\"\u001b[39m})\n",
      "\u001b[0;31mNameError\u001b[0m: name 'soup' is not defined"
     ]
    }
   ],
   "source": [
    "table_tag_top = soup.find(\"table\", {\"class\": \"tab_top\"})"
   ]
  },
  {
   "cell_type": "code",
   "execution_count": null,
   "metadata": {},
   "outputs": [],
   "source": [
    "print(table_tag_top.prettify())"
   ]
  },
  {
   "cell_type": "code",
   "execution_count": null,
   "metadata": {},
   "outputs": [],
   "source": [
    "dir(table_tag_top)"
   ]
  },
  {
   "cell_type": "markdown",
   "metadata": {},
   "source": [
    "<br>\n",
    "\n",
    "Jakmile máme celou tabulku, snažíme se rozptyl zmenšit a najít pouze tagy s jednotlivými hráči. Vidíme, že každý hráč je na řádku. Dále, že každý řádek je schovaný za tagem `tr`.\n",
    "\n",
    "<br>\n",
    "\n",
    "#### Selekce elementů `tr`, řádků\n",
    "\n",
    "---"
   ]
  },
  {
   "cell_type": "code",
   "execution_count": null,
   "metadata": {},
   "outputs": [],
   "source": [
    "vsechny_tr = table_tag_top.find_all(\"tr\")\n",
    "len(vsechny_tr)"
   ]
  },
  {
   "cell_type": "code",
   "execution_count": null,
   "metadata": {},
   "outputs": [],
   "source": [
    "dir(vsechny_tr)"
   ]
  },
  {
   "cell_type": "code",
   "execution_count": null,
   "metadata": {},
   "outputs": [],
   "source": [
    "print(vsechny_tr[1])"
   ]
  },
  {
   "cell_type": "code",
   "execution_count": null,
   "metadata": {
    "scrolled": true
   },
   "outputs": [],
   "source": [
    "type(vsechny_tr)"
   ]
  },
  {
   "cell_type": "code",
   "execution_count": null,
   "metadata": {},
   "outputs": [],
   "source": [
    "type(vsechny_tr[1])"
   ]
  },
  {
   "cell_type": "code",
   "execution_count": null,
   "metadata": {},
   "outputs": [],
   "source": [
    "prvni_tr = table_tag_top.find(\"tr\")\n",
    "print(prvni_tr)"
   ]
  },
  {
   "cell_type": "code",
   "execution_count": null,
   "metadata": {},
   "outputs": [],
   "source": [
    "print(prvni_tr.text) # vrátí text ze všech potomků daného elementu"
   ]
  },
  {
   "attachments": {},
   "cell_type": "markdown",
   "metadata": {},
   "source": [
    "\n",
    "<br>\n",
    "\n",
    "Nyní, když umíme rozdělit html na jednotlivé řádky (s jednotlivými hráči), potřebujeme konečně izolovat jednotlivé buňky, které obsahují konkrétní údaje.\n",
    "\n",
    "<br>\n",
    "\n",
    "#### Selekce jednotlivých buněk `td`\n",
    "\n",
    "---"
   ]
  },
  {
   "cell_type": "code",
   "execution_count": null,
   "metadata": {},
   "outputs": [],
   "source": [
    "td_na_radku = vsechny_tr[1].find_all(\"td\")\n",
    "print(td_na_radku[4].get_text())  # získá text z konkrétního elementu\n"
   ]
  },
  {
   "cell_type": "code",
   "execution_count": null,
   "metadata": {},
   "outputs": [],
   "source": [
    "print(td_na_radku)"
   ]
  },
  {
   "cell_type": "code",
   "execution_count": null,
   "metadata": {},
   "outputs": [],
   "source": [
    "type(td_na_radku)"
   ]
  },
  {
   "cell_type": "code",
   "execution_count": null,
   "metadata": {},
   "outputs": [],
   "source": [
    "print(td_na_radku[2].get_text())"
   ]
  },
  {
   "cell_type": "code",
   "execution_count": null,
   "metadata": {},
   "outputs": [],
   "source": [
    "print(td_na_radku[2].text)"
   ]
  },
  {
   "cell_type": "code",
   "execution_count": null,
   "metadata": {},
   "outputs": [],
   "source": [
    "def vyber_atributy_z_radku(tr_tag: \"bs4.element.ResultSet\"):\n",
    "\n",
    "    return {\n",
    "        \"poradi\": tr_tag[0].get_text(),\n",
    "        \"jmeno\": tr_tag[2].get_text(),\n",
    "        \"vitezstvi\": tr_tag[5].get_text(),\n",
    "        \"celkem_her\": tr_tag[6].get_text()\n",
    "    }"
   ]
  },
  {
   "cell_type": "code",
   "execution_count": null,
   "metadata": {},
   "outputs": [],
   "source": [
    "# klasický for loop\n",
    "vysledky = []\n",
    "\n",
    "for tr in vsechny_tr[1:]: # hlavičku nechceme\n",
    "    td_na_radku = tr.find_all(\"td\")\n",
    "    data_hrace = vyber_atributy_z_radku(td_na_radku)\n",
    "    vysledky.append(data_hrace)\n",
    "\n",
    "print(vysledky)"
   ]
  },
  {
   "cell_type": "markdown",
   "metadata": {},
   "source": [
    "<br>\n",
    "\n",
    "Podobně jako u řetězit built-in funkce `print(type(...))` můžeme řetězit uživatelské funkce."
   ]
  },
  {
   "cell_type": "code",
   "execution_count": null,
   "metadata": {},
   "outputs": [],
   "source": [
    "# zkrácený zápis\n",
    "data_o_hracich = list()\n",
    "\n",
    "for tr in vsechny_tr[1:]:\n",
    "    data_o_hracich.append(vyber_atributy_z_radku(tr.find_all(\"td\")))\n",
    "\n",
    "print(data_o_hracich)"
   ]
  },
  {
   "cell_type": "markdown",
   "metadata": {},
   "source": [
    "<br>\n",
    "\n",
    "#### Ukládání údajů do souboru\n",
    "\n",
    "---\n",
    "\n",
    "Úplně nakonec chceme námi posbírané údaje uložit ve formátu `csv` do příslušného souboru:"
   ]
  },
  {
   "cell_type": "code",
   "execution_count": null,
   "metadata": {},
   "outputs": [],
   "source": [
    "import csv\n",
    "import traceback\n",
    "\n",
    "\n",
    "def zapis_data(data: list, jmeno_souboru: str) -> str:\n",
    "    \"\"\"\n",
    "    Zkus zapsat udaje z par. 'data' do souboru formatu .csv.\n",
    "    \"\"\"\n",
    "    with open(jmeno_souboru, mode=\"w\", encoding=\"utf-8\", newline=\"\") as csv_soubor:\n",
    "        sloupce = data[0].keys()\n",
    "\n",
    "        zapis = csv.DictWriter(csv_soubor, fieldnames=sloupce)\n",
    "        zapis.writeheader()\n",
    "        zapis.writerows(data)\n"
   ]
  },
  {
   "attachments": {},
   "cell_type": "markdown",
   "metadata": {
    "tags": []
   },
   "source": [
    "### S velkou mocí příchází velká zodpovědnost\n",
    "\n",
    "---\n",
    "\n",
    "1. Než se pustíme do scrapingu, zkontolujeme `robots.txt` (allow/disallow), např. https://www.idnes.cz/robots.txt\n",
    "2. Zkontrolujeme, jestli služba nenabízí API (není třeba scrapovat, ale využít endpoint)\n",
    "3. Nezatěžujeme server velkým množstvím dotazů v krátkém časovém horizontu (pád->blokování)\n",
    "4. Nepoužívám cizí data ke komerčním účelům (_pravidla&podmínky_)\n",
    "5. requests, bs4, urllib.requests, htmlparser, requests-html, scrapy, selenium, aj.\n",
    "\n",
    "<br>\n",
    "\n",
    "### Závěrem\n",
    "\n",
    "---\n",
    "\n",
    "<br>\n",
    "\n",
    "#### Kam dál?\n",
    "1. Dejte tomu čas, nechte to sednout,\n",
    "2. projít ještě jednou jednotlivé lekce a úlohy,\n",
    "3. komunikace v rámci Slacku,\n",
    "4. aktualizace [portálu learn.engeto.com](https://learn.engeto.com) úpravy, nové úkoly, teorie.\n",
    "\n",
    "<br>\n",
    "\n",
    "#### Jak se zdokonalovat?\n",
    "1. Čtení + psaní + diskuze (Slack zůstává aktivní),\n",
    "2. svatá trojice (*algorithm, data structures, libraries*),\n",
    "3. **nekopírujte projekty ostatních!** Vymyslete, co by se mohlo vám/vašim známým hodit.\n",
    "\n",
    "<br>\n",
    "\n",
    "#### Je libo přitvrdit?\n",
    "1. Git, přík.řádek, IDE, textové editory, virt. prostředí, SQL, pip3, OOP, další knihovny,..\n",
    "2. pokračovat v další teorii jenom pokud si budete v základních a mírně pokročilých pojmech jistější,\n",
    "3. Kurz **datové analýzy**,\n",
    "4. **OOP Python**.\n",
    "\n",
    "<br>\n",
    "\n",
    "#### Komunita?\n",
    "1. [pyvo](https://pyvo.cz/) - organizování setkání po celé Čoro\n",
    "2. [junior.guru](https://junior.guru/jobs/) (autor: Honza Javorek)\n",
    "3. [příručka o hledání první práce v IT](https://junior.guru/candidate-handbook/) (autor: Honza Javorek)\n",
    "\n",
    "---"
   ]
  }
 ],
 "metadata": {
  "kernelspec": {
   "display_name": ".venv",
   "language": "python",
   "name": "python3"
  },
  "language_info": {
   "codemirror_mode": {
    "name": "ipython",
    "version": 3
   },
   "file_extension": ".py",
   "mimetype": "text/x-python",
   "name": "python",
   "nbconvert_exporter": "python",
   "pygments_lexer": "ipython3",
   "version": "3.11.2"
  },
  "vscode": {
   "interpreter": {
    "hash": "99bb3b7d5546fe69a55397c5b5a8a150f32c7b91db65af7f6e99d7ff869249b1"
   }
  }
 },
 "nbformat": 4,
 "nbformat_minor": 4
}
