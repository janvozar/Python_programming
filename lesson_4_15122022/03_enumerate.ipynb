{
 "cells": [
  {
   "attachments": {},
   "cell_type": "markdown",
   "metadata": {
    "id": "wFv_-YWFlg5i"
   },
   "source": [
    "#### Enumerate\n",
    "\n",
    "---"
   ]
  },
  {
   "cell_type": "code",
   "execution_count": null,
   "metadata": {
    "id": "UwQEugqVlg5o"
   },
   "outputs": [],
   "source": [
    "jazyky = [\"Python\", \"Java\", \"JavaScript\", \"C\", \"Rust\"]"
   ]
  },
  {
   "cell_type": "code",
   "execution_count": null,
   "metadata": {
    "id": "VpDF2nVslg5u",
    "outputId": "d7423e24-8152-47ee-cde1-d266dd5fd67e"
   },
   "outputs": [],
   "source": [
    "enumerate(jazyky, 1)"
   ]
  },
  {
   "cell_type": "code",
   "execution_count": null,
   "metadata": {
    "id": "EfRdjUbWlg51",
    "outputId": "933ae297-077d-4098-e224-6de2cade7d19"
   },
   "outputs": [],
   "source": [
    "tuple(enumerate(jazyky))"
   ]
  },
  {
   "cell_type": "code",
   "execution_count": null,
   "metadata": {
    "id": "xfieTdrulg54"
   },
   "outputs": [],
   "source": [
    "tuple(enumerate(jazyky, 1))"
   ]
  },
  {
   "cell_type": "markdown",
   "metadata": {
    "id": "Wi-TZm1-lg55"
   },
   "source": [
    "<br>\n",
    "\n",
    "#### `enumerate` a `for`\n",
    "\n",
    "---"
   ]
  },
  {
   "cell_type": "code",
   "execution_count": null,
   "metadata": {
    "id": "Xc7bZjpclg56",
    "outputId": "ab47fc24-3631-4099-f7c5-b1623a436096"
   },
   "outputs": [],
   "source": [
    "for jazyk in jazyky:\n",
    "    print(jazyk)"
   ]
  },
  {
   "cell_type": "code",
   "execution_count": null,
   "metadata": {
    "id": "JkX1RHS3lg5-",
    "outputId": "34dbe446-38bb-4dbd-8248-603c04159fdf"
   },
   "outputs": [],
   "source": [
    "for jazyk in enumerate(jazyky):\n",
    "    print(jazyk)"
   ]
  },
  {
   "cell_type": "code",
   "execution_count": null,
   "metadata": {
    "id": "ihndyMhylg6C",
    "outputId": "c2752ee2-327c-4165-f9b8-cc31f89d6d39"
   },
   "outputs": [],
   "source": [
    "jazyky = [\"Python\", \"Java\", \"JavaScript\", \"C\", \"Rust\"]\n",
    "\n",
    "for poradi, jazyk in enumerate(jazyky, 1):\n",
    "    print(f\"{jazyk} {poradi}\")\n"
   ]
  },
  {
   "cell_type": "code",
   "execution_count": null,
   "metadata": {},
   "outputs": [],
   "source": [
    "for poradi in range(len(jazyky)):\n",
    "    print(f\"{jazyky[poradi]} {poradi + 1}\")"
   ]
  }
 ],
 "metadata": {
  "colab": {
   "collapsed_sections": [],
   "name": "03_enumerate.ipynb",
   "provenance": []
  },
  "kernelspec": {
   "display_name": "Python 3",
   "language": "python",
   "name": "python3"
  },
  "language_info": {
   "codemirror_mode": {
    "name": "ipython",
    "version": 3
   },
   "file_extension": ".py",
   "mimetype": "text/x-python",
   "name": "python",
   "nbconvert_exporter": "python",
   "pygments_lexer": "ipython3",
   "version": "3.11.0"
  },
  "vscode": {
   "interpreter": {
    "hash": "cd066ac09377f89a24ed9743f32ffbf343cab654b58785282a84775599740388"
   }
  }
 },
 "nbformat": 4,
 "nbformat_minor": 4
}
