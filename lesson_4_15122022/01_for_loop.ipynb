{
 "cells": [
  {
   "attachments": {},
   "cell_type": "markdown",
   "metadata": {
    "id": "gCzUZUfrlTmf"
   },
   "source": [
    "### For loop (~cyklus for)\n",
    "\n",
    "*For cyklus* je v jednoduchosti proces, který vám umožní projít vámi zadaný objekt od prvního údaje až do posledního."
   ]
  },
  {
   "cell_type": "code",
   "execution_count": null,
   "metadata": {
    "id": "Stso1xWTlTmo",
    "outputId": "f956225d-48e7-4f4c-e8da-4f29b8ba0000"
   },
   "outputs": [],
   "source": [
    "for pismeno in \"Matous\":\n",
    "    print(pismeno)"
   ]
  },
  {
   "attachments": {},
   "cell_type": "markdown",
   "metadata": {
    "id": "20iJYSfdlTm2"
   },
   "source": [
    "\n",
    "#### For loop s podmínkou\n"
   ]
  },
  {
   "cell_type": "code",
   "execution_count": null,
   "metadata": {
    "id": "s0ENwJJllTm6"
   },
   "outputs": [],
   "source": [
    "pismena = [\"a\", \"b\", \"c\", \"d\", \"e\", \"f\", \"g\", \"h\", \"i\"]"
   ]
  },
  {
   "cell_type": "code",
   "execution_count": null,
   "metadata": {
    "id": "U4qThrsnlTm8",
    "outputId": "2ca13290-0f30-45e4-8633-5232b9aa6b35"
   },
   "outputs": [],
   "source": [
    "for pismeno in pismena:\n",
    "    if pismeno == \"g\":\n",
    "        print(f\"*Mam hodnotu -> '{pismeno}'*\")\n",
    "    else:\n",
    "        print(f\"Nemam 'g', ale '{pismeno}'\")"
   ]
  },
  {
   "attachments": {},
   "cell_type": "markdown",
   "metadata": {
    "id": "iNO6bP-KlTnI"
   },
   "source": [
    "#### For loop s ohlášením\n",
    "\n",
    "---\n",
    "\n",
    "Cykly v Pythonu můžeme doplnit ohlášením, pokud potřebujeme ovlivnit průběh smyčky/cyklu.\n",
    "\n",
    "<br>\n",
    "\n",
    "| Ohlášení | Použití |\n",
    "| :-: | :- |\n",
    "| `break`| přeskočí zbytek smyčky (vč. `else` větve) a pokračuje kódem pod ní |\n",
    "| `continue` | vrací se k definici smyčky |\n",
    "| `pass` | tzv. *placeholder*, zabrání potenciální výjimce |\n",
    "\n",
    "<br>\n",
    "\n",
    "#### Ohlášení `break`\n",
    "\n",
    "---"
   ]
  },
  {
   "cell_type": "code",
   "execution_count": null,
   "metadata": {
    "id": "ZGe35rdulTnL",
    "outputId": "a708df8b-d3b7-46e0-b5d2-507764918642"
   },
   "outputs": [],
   "source": [
    "for pismeno in \"Matous\":\n",
    "    print(pismeno)"
   ]
  },
  {
   "cell_type": "code",
   "execution_count": null,
   "metadata": {
    "id": "NTzYrMAjlTnN",
    "outputId": "f88f6279-bba3-409a-bdba-a5d55295170f"
   },
   "outputs": [],
   "source": [
    "for pismeno in \"Matous\":\n",
    "    print(pismeno)\n",
    "    break\n",
    "print('Dalsi kod')    "
   ]
  },
  {
   "cell_type": "code",
   "execution_count": null,
   "metadata": {
    "id": "32cJ7InwlTnU"
   },
   "outputs": [],
   "source": [
    "pismena = [\"a\", \"b\", \"c\", \"d\", \"e\", \"f\", \"g\", \"h\"]"
   ]
  },
  {
   "cell_type": "code",
   "execution_count": null,
   "metadata": {
    "id": "yu3OX5oKlTnX",
    "outputId": "7a3b8543-7595-4e0b-d553-d952262d66ba"
   },
   "outputs": [],
   "source": [
    "for pismeno in pismena:\n",
    "    if pismeno == \"c\":\n",
    "        print(f\"*Mam hodnotu -> '{pismeno}'*\")\n",
    "        break\n",
    "    else:\n",
    "        print(f\"Nemam 'c', ale '{pismeno}'\")\n"
   ]
  },
  {
   "cell_type": "markdown",
   "metadata": {
    "id": "BIr_8Iq_lTnZ"
   },
   "source": [
    "\n",
    "<br>\n",
    "\n",
    "#### Ohlášení `continue`\n",
    "\n",
    "---"
   ]
  },
  {
   "cell_type": "code",
   "execution_count": null,
   "metadata": {
    "id": "k6SoTjT1lTnb",
    "outputId": "c299cc3a-9345-4f24-9ec3-cee7bafde764"
   },
   "outputs": [],
   "source": [
    "for pismeno in \"Matous\":\n",
    "    print(pismeno)"
   ]
  },
  {
   "cell_type": "code",
   "execution_count": null,
   "metadata": {
    "id": "kjw1ygdglTnc",
    "outputId": "76578908-0c66-4472-eaba-4372b2c84abc"
   },
   "outputs": [],
   "source": [
    "for pismeno in \"Matous\":\n",
    "    print(pismeno)\n",
    "    continue"
   ]
  },
  {
   "cell_type": "code",
   "execution_count": null,
   "metadata": {
    "id": "A3VElV55lTnd"
   },
   "outputs": [],
   "source": [
    "pismena = [\"a\", \"b\", \"C\", \"d\", \"e\", \"f\", \"g\", \"h\"]"
   ]
  },
  {
   "cell_type": "code",
   "execution_count": null,
   "metadata": {
    "id": "ALy-WxvolTne",
    "outputId": "d2de7dc2-c5e0-4fb9-9c9e-84b0ec20788c"
   },
   "outputs": [],
   "source": [
    "for pismeno in pismena:\n",
    "    \n",
    "    if pismeno == \"C\":\n",
    "        continue\n",
    "    print(f\"'{pismeno}' může být ...\")"
   ]
  },
  {
   "cell_type": "markdown",
   "metadata": {
    "id": "T4dzfz5alTng"
   },
   "source": [
    "\n",
    "<br>\n",
    "\n",
    "#### Ohlášení `pass`\n",
    "\n",
    "---"
   ]
  },
  {
   "cell_type": "code",
   "execution_count": null,
   "metadata": {
    "id": "Vgc2eHuklTnh",
    "outputId": "4d50d699-141a-4d28-9aa5-5cd9f1b651d5"
   },
   "outputs": [],
   "source": [
    "for pismeno in \"Matous\":\n",
    "    print(pismeno)\n",
    "    pass"
   ]
  },
  {
   "cell_type": "code",
   "execution_count": null,
   "metadata": {
    "id": "PwUh_tlalTni",
    "outputId": "44e4f8c2-311d-4142-b023-85d685fc0ecf"
   },
   "outputs": [],
   "source": [
    "for pismeno in \"Matous\":\n",
    "    # budu iterovat skrze promennou: str"
   ]
  },
  {
   "cell_type": "code",
   "execution_count": null,
   "metadata": {
    "id": "b9F7tPcClTnj",
    "outputId": "8750315f-f871-4716-c790-ae42907dcb50"
   },
   "outputs": [],
   "source": [
    "for pismeno in \"Matous\":\n",
    "    # budu iterovat skrze promennou: str\n",
    "    pass"
   ]
  },
  {
   "cell_type": "markdown",
   "metadata": {
    "id": "BHIXyXnDlTns"
   },
   "source": [
    "\n",
    "---"
   ]
  }
 ],
 "metadata": {
  "colab": {
   "collapsed_sections": [],
   "name": "01_for_loop.ipynb",
   "provenance": []
  },
  "kernelspec": {
   "display_name": "Python 3",
   "language": "python",
   "name": "python3"
  },
  "language_info": {
   "codemirror_mode": {
    "name": "ipython",
    "version": 3
   },
   "file_extension": ".py",
   "mimetype": "text/x-python",
   "name": "python",
   "nbconvert_exporter": "python",
   "pygments_lexer": "ipython3",
   "version": "3.11.0 (main, Oct 24 2022, 18:26:48) [MSC v.1933 64 bit (AMD64)]"
  },
  "vscode": {
   "interpreter": {
    "hash": "cd066ac09377f89a24ed9743f32ffbf343cab654b58785282a84775599740388"
   }
  }
 },
 "nbformat": 4,
 "nbformat_minor": 4
}
