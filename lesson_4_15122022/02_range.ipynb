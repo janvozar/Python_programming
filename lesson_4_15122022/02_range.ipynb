{
 "cells": [
  {
   "attachments": {},
   "cell_type": "markdown",
   "metadata": {
    "id": "ARuzULGelZ0q"
   },
   "source": [
    "#### Range (~rozsah)\n",
    "\n",
    "---\n",
    "\n",
    "Jde o *built-in funkci*, která nám vytvoří datový typ `range`. Tento typ v podstatě odpovídá tomu, co si představíme pod slovem rozsah, tedy interval."
   ]
  },
  {
   "cell_type": "code",
   "execution_count": null,
   "metadata": {
    "id": "FnsnT1FOlZ00",
    "outputId": "930f2d75-fda4-4c88-ddd3-d8a55809835a"
   },
   "outputs": [],
   "source": [
    "print(range(11))"
   ]
  },
  {
   "cell_type": "code",
   "execution_count": null,
   "metadata": {
    "id": "eFQ9eXGflZ1D",
    "outputId": "c33a5967-9f13-4ace-d7eb-da7b70323956"
   },
   "outputs": [],
   "source": [
    "type(range(11))"
   ]
  },
  {
   "cell_type": "markdown",
   "metadata": {
    "id": "N0V2zP_glZ1H"
   },
   "source": [
    "#### Vytvoření `range`\n",
    "\n",
    "---\n",
    "\n",
    "| Počet argumentů | Význam |\n",
    "| :-: | :- |\n",
    "| 1 | Hodnota **stop**. Začíná defaultně od 0 (končí  o jednu hodnotu dříve než **stop**) |\n",
    "| 2 | Hodnoty **start** a **stop** |\n",
    "| 3 | Hodnoty **start**, **stop** a **step** (tedy krok) |"
   ]
  },
  {
   "cell_type": "code",
   "execution_count": null,
   "metadata": {
    "id": "SNG8UdzBlZ1M",
    "outputId": "b4de9b83-8d81-4cac-dc40-c3a1e3b8283f"
   },
   "outputs": [],
   "source": [
    "range(1, 11, 3)"
   ]
  },
  {
   "cell_type": "code",
   "execution_count": null,
   "metadata": {
    "id": "Fg5o2pFKlZ1S",
    "outputId": "d7e5d9f9-04ee-4ec0-b5ca-c812452f97ee"
   },
   "outputs": [],
   "source": [
    "tuple(range(11))"
   ]
  },
  {
   "cell_type": "code",
   "execution_count": null,
   "metadata": {
    "id": "j0LINrUvlZ1X",
    "outputId": "e9c26bfb-f73e-4594-cfc9-fb5ac4f743a8"
   },
   "outputs": [],
   "source": [
    "list(range(1, 11))"
   ]
  },
  {
   "cell_type": "code",
   "execution_count": null,
   "metadata": {
    "id": "POJSPdeplZ1d",
    "outputId": "d2009772-6ec2-40bf-9094-09bd83cbe17c"
   },
   "outputs": [],
   "source": [
    "list(range(1, 11, 3))"
   ]
  },
  {
   "cell_type": "code",
   "execution_count": null,
   "metadata": {
    "id": "7wI2EV1XlZ1k",
    "outputId": "a6c14387-2016-455d-8d16-b7468a79741b"
   },
   "outputs": [],
   "source": [
    "list(range(10, 0, -1))"
   ]
  },
  {
   "attachments": {},
   "cell_type": "markdown",
   "metadata": {
    "id": "hLt1vsAclZ1n"
   },
   "source": [
    "#### `range` a `for`"
   ]
  },
  {
   "cell_type": "code",
   "execution_count": null,
   "metadata": {
    "id": "bsaFB5p5lZ1r",
    "outputId": "3ce9c3e0-5064-40b4-8a59-9d65292fa828"
   },
   "outputs": [],
   "source": [
    "for cislo in range(11):\n",
    "    print('ahoj')"
   ]
  },
  {
   "cell_type": "code",
   "execution_count": null,
   "metadata": {
    "id": "zV2FN7vtlZ1t",
    "outputId": "90fc14fd-6884-4e53-e643-6df36c5bb37c"
   },
   "outputs": [],
   "source": [
    "LIMIT = 6\n",
    "\n",
    "for _ in range(1, LIMIT):\n",
    "    print(\"Matous\")"
   ]
  }
 ],
 "metadata": {
  "colab": {
   "collapsed_sections": [],
   "name": "02_range.ipynb",
   "provenance": []
  },
  "kernelspec": {
   "display_name": "Python 3",
   "language": "python",
   "name": "python3"
  },
  "language_info": {
   "codemirror_mode": {
    "name": "ipython",
    "version": 3
   },
   "file_extension": ".py",
   "mimetype": "text/x-python",
   "name": "python",
   "nbconvert_exporter": "python",
   "pygments_lexer": "ipython3",
   "version": "3.11.0 (main, Oct 24 2022, 18:26:48) [MSC v.1933 64 bit (AMD64)]"
  },
  "vscode": {
   "interpreter": {
    "hash": "cd066ac09377f89a24ed9743f32ffbf343cab654b58785282a84775599740388"
   }
  }
 },
 "nbformat": 4,
 "nbformat_minor": 4
}
