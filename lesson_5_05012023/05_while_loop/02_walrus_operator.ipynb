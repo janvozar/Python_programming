{
 "cells": [
  {
   "attachments": {},
   "cell_type": "markdown",
   "metadata": {},
   "source": [
    "### Assignment expressions (~\"walrus\" operátor `:=`)\n",
    "\n",
    "---\n",
    "\n",
    "* [Co je to \"walrus\" operátor a jak funguje](https://deepsource.io/blog/python-walrus-operator/)\n",
    "\n",
    "<br>\n",
    "\n",
    "#### Vytvoření odkazu na hodnotu + spuštění\n",
    "\n",
    "---"
   ]
  },
  {
   "cell_type": "code",
   "execution_count": null,
   "metadata": {},
   "outputs": [],
   "source": [
    "jmeno = \"Matous\""
   ]
  },
  {
   "cell_type": "code",
   "execution_count": null,
   "metadata": {},
   "outputs": [],
   "source": [
    "print(jmeno)"
   ]
  },
  {
   "cell_type": "markdown",
   "metadata": {},
   "source": [
    "<br>\n",
    "\n",
    "#### Vytvoření odkazu & spuštění\n",
    "\n",
    "---"
   ]
  },
  {
   "cell_type": "code",
   "execution_count": null,
   "metadata": {},
   "outputs": [],
   "source": [
    "print(name := \"Matous\")"
   ]
  },
  {
   "cell_type": "code",
   "execution_count": null,
   "metadata": {},
   "outputs": [],
   "source": [
    "print(name+jmeno)"
   ]
  },
  {
   "cell_type": "markdown",
   "metadata": {},
   "source": [
    "<br>\n",
    "\n",
    "#### Kombinace s podmínkou\n",
    "\n",
    "---"
   ]
  },
  {
   "cell_type": "code",
   "execution_count": null,
   "metadata": {},
   "outputs": [],
   "source": [
    "jmeno = input(\"JMENO:\")\n",
    "\n",
    "if jmeno == \"Matous\":\n",
    "    print(f\"POZDRAV: Ahoj, {jmeno}i!\")\n",
    "else:\n",
    "    print(\"POZDRAV: Ahoj, uzivateli!\")"
   ]
  },
  {
   "cell_type": "code",
   "execution_count": null,
   "metadata": {},
   "outputs": [],
   "source": [
    "if (jmeno := input('Zadej jmeno:')) == \"Matous\":\n",
    "    print(f\"POZDRAV: Ahoj, {jmeno}i!\")\n",
    "else:\n",
    "    print(\"POZDRAV: Ahoj, vsem!\")"
   ]
  },
  {
   "cell_type": "markdown",
   "metadata": {},
   "source": [
    "<br>\n",
    "\n",
    "#### Kombinace s cyklem while\n",
    "\n",
    "---"
   ]
  },
  {
   "cell_type": "code",
   "execution_count": null,
   "metadata": {},
   "outputs": [],
   "source": [
    "odpoved = input(\"Jaké je hlavní město Francie\")\n",
    "\n",
    "while odpoved!= \"Paris\":\n",
    "  print(\"Znovu\")\n",
    "  odpoved = input(\"Jaké je hlavní město Francie\")\n",
    "\n",
    "print(\"Správně!\")"
   ]
  },
  {
   "cell_type": "code",
   "execution_count": null,
   "metadata": {},
   "outputs": [],
   "source": [
    "while (odpoved:= input(\"Jaké je hlavní město Francie\")) != \"Paris\":\n",
    "    print(\"Znovu\")\n",
    "\n",
    "print(\"Správně!\")"
   ]
  }
 ],
 "metadata": {
  "kernelspec": {
   "display_name": "Python 3",
   "language": "python",
   "name": "python3"
  },
  "language_info": {
   "codemirror_mode": {
    "name": "ipython",
    "version": 3
   },
   "file_extension": ".py",
   "mimetype": "text/x-python",
   "name": "python",
   "nbconvert_exporter": "python",
   "pygments_lexer": "ipython3",
   "version": "3.11.0 (main, Oct 24 2022, 18:26:48) [MSC v.1933 64 bit (AMD64)]"
  },
  "vscode": {
   "interpreter": {
    "hash": "cd066ac09377f89a24ed9743f32ffbf343cab654b58785282a84775599740388"
   }
  }
 },
 "nbformat": 4,
 "nbformat_minor": 4
}
