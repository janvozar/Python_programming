{
 "cells": [
  {
   "cell_type": "markdown",
   "metadata": {},
   "source": [
    "### While loop (~cyklus while)\n",
    "\n",
    "---\n",
    "\n",
    "* [Použití smyčky while s dalšími příklady](https://www.w3schools.com/python/python_while_loops.asp)"
   ]
  },
  {
   "cell_type": "code",
   "execution_count": null,
   "metadata": {
    "tags": []
   },
   "outputs": [],
   "source": [
    "index = 0 # vyzkousej v pythontutor\n",
    "\n",
    "while index < 10:\n",
    "    print(f\"{index} < 10, pokracujeme!\")  \n",
    "    index = index + 1  \n",
    "\n",
    "print(f\"{index} < 10 -> False\") \n",
    "print(\"Pokracuje zapis pod smyckou\")"
   ]
  },
  {
   "cell_type": "code",
   "execution_count": null,
   "metadata": {},
   "outputs": [],
   "source": [
    "index = 80"
   ]
  },
  {
   "cell_type": "code",
   "execution_count": null,
   "metadata": {},
   "outputs": [],
   "source": [
    "while index < 150 and len(str(index)) == 2:\n",
    "    print(f\"{index=}\")\n",
    "    index = index + 1\n",
    "print('konec')"
   ]
  },
  {
   "attachments": {},
   "cell_type": "markdown",
   "metadata": {},
   "source": [
    "#### while loop do nekonečna"
   ]
  },
  {
   "cell_type": "code",
   "execution_count": null,
   "metadata": {},
   "outputs": [],
   "source": [
    "index = 1"
   ]
  },
  {
   "cell_type": "code",
   "execution_count": null,
   "metadata": {
    "tags": []
   },
   "outputs": [],
   "source": [
    "while True:\n",
    "    print(f\"{index=}\")\n",
    "    index = index + 1"
   ]
  },
  {
   "attachments": {},
   "cell_type": "markdown",
   "metadata": {},
   "source": [
    "\n",
    "<br>\n",
    "\n",
    "Nekonečný cyklus s pomocí `while` je samozřejmě koncept, kterého se běžně využívá, pokud je podmínka a průběh validní:"
   ]
  },
  {
   "cell_type": "code",
   "execution_count": null,
   "metadata": {},
   "outputs": [],
   "source": [
    "PREPINAC = True # vyzkousej v pythontutor\n",
    "\n",
    "while PREPINAC:\n",
    "    vstupni_hodnota = input(\"ZADEJ PISMENO:\")\n",
    "    \n",
    "    if vstupni_hodnota.isalpha():\n",
    "        print(f\"UDAJ: '{vstupni_hodnota}' JE SKUTECNE PISMENO\")\n",
    "    else:\n",
    "        print(f\"UDAJ: '{vstupni_hodnota}' NENI PISMENO!\")\n",
    "        PREPINAC = False\n",
    "print('dalsi kod')"
   ]
  },
  {
   "cell_type": "markdown",
   "metadata": {},
   "source": [
    "*poznámka*. případně existuje možnost zapsat variantu s ohlášením `break`:"
   ]
  },
  {
   "cell_type": "code",
   "execution_count": null,
   "metadata": {},
   "outputs": [],
   "source": [
    "while True: # vyzkousej v pythontutor\n",
    "    vstupni_hodnota = input(\"ZADEJ PISMENO:\")\n",
    "    \n",
    "    if vstupni_hodnota.isalpha():\n",
    "        print(f\"UDAJ: '{vstupni_hodnota}' JE SKUTECNE PISMENO\")\n",
    "    else:\n",
    "        print(f\"UDAJ: '{vstupni_hodnota}' NENI PISMENO!\")\n",
    "        break"
   ]
  },
  {
   "cell_type": "markdown",
   "metadata": {
    "tags": []
   },
   "source": [
    "#### `while` loop pro kontrolu rozsahu"
   ]
  },
  {
   "cell_type": "code",
   "execution_count": null,
   "metadata": {},
   "outputs": [],
   "source": [
    "maximum = 6 # vyzkousej v pythontutor\n",
    "\n",
    "while True: \n",
    "    vstup = input(f\"Zadej cislo v rozsahu 1-{maximum}: \")\n",
    "    if vstup.isnumeric() and int(vstup) in range(1, maximum + 1):\n",
    "        break\n",
    "    else:\n",
    "        print(\"Spatna hodnota, zkuste znovu...\")\n",
    "        \n",
    "print(f\"Pokracujeme s hodnotou {vstup}\")"
   ]
  },
  {
   "cell_type": "markdown",
   "metadata": {
    "tags": []
   },
   "source": [
    "#### `while` loop pro plnění seznamu"
   ]
  },
  {
   "cell_type": "code",
   "execution_count": null,
   "metadata": {},
   "outputs": [],
   "source": [
    "teplota = []\n",
    "print(\"ukonci zadanim 'q'\")\n",
    "while True:\n",
    "    vstup = input(\"Zadej teplotu: \")\n",
    "    if '.' in vstup and vstup.split('.')[0].isnumeric():\n",
    "        teplota.append(float(vstup))\n",
    "    elif vstup == \"q\":\n",
    "        break\n",
    "    else:\n",
    "        print(\"Spatna hodnota, zkuste znovu...\")\n",
    "\n",
    "print(\"Namerene hodnoty\", teplota)"
   ]
  }
 ],
 "metadata": {
  "kernelspec": {
   "display_name": "Python 3",
   "language": "python",
   "name": "python3"
  },
  "language_info": {
   "codemirror_mode": {
    "name": "ipython",
    "version": 3
   },
   "file_extension": ".py",
   "mimetype": "text/x-python",
   "name": "python",
   "nbconvert_exporter": "python",
   "pygments_lexer": "ipython3",
   "version": "3.11.0 (main, Oct 24 2022, 18:26:48) [MSC v.1933 64 bit (AMD64)]"
  },
  "vscode": {
   "interpreter": {
    "hash": "cd066ac09377f89a24ed9743f32ffbf343cab654b58785282a84775599740388"
   }
  }
 },
 "nbformat": 4,
 "nbformat_minor": 4
}
