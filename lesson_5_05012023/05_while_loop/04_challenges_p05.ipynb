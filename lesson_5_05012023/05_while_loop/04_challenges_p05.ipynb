{
 "cells": [
  {
   "cell_type": "markdown",
   "metadata": {},
   "source": [
    "### Opakování po páté lekci!\n",
    "\n",
    "<br>\n",
    "\n",
    "Trochu rozehřejeme šedou kůru mozkovou na závěr této lekce.\n",
    "\n",
    "---"
   ]
  },
  {
   "cell_type": "markdown",
   "metadata": {},
   "source": [
    "#### Ukázka #01"
   ]
  },
  {
   "cell_type": "code",
   "execution_count": null,
   "metadata": {},
   "outputs": [],
   "source": [
    "muj_str_1 = \"bez_walruse\"\n",
    "print(muj_str_1)"
   ]
  },
  {
   "cell_type": "code",
   "execution_count": null,
   "metadata": {},
   "outputs": [],
   "source": [
    "(muj_str_2 := \"s_walrusem\")\n",
    "print(muj_str_2)"
   ]
  },
  {
   "cell_type": "code",
   "execution_count": null,
   "metadata": {},
   "outputs": [],
   "source": [
    "print(muj_str_3 := input(\"Zadej cislo\"))"
   ]
  },
  {
   "cell_type": "code",
   "execution_count": null,
   "metadata": {},
   "outputs": [],
   "source": [
    "muj_str_3"
   ]
  },
  {
   "cell_type": "markdown",
   "metadata": {},
   "source": [
    "<details>\n",
    "  <summary>❓ Klikni zde pro vysvětlivky</summary>\n",
    "   \n",
    "Jde o formu platného zápisu, pokud chcete používat přiřazovací výraz, potřebujete aplikovat kulaté závorky okolo celého výrazu.<br>\n",
    "Obecně pravidla pro používání a zapisování najdeme v [oficiální dokumentaci](https://www.python.org/dev/peps/pep-0572/#relative-precedence-of).\n",
    "</details>\n",
    "\n",
    "---"
   ]
  },
  {
   "cell_type": "markdown",
   "metadata": {},
   "source": [
    "#### Ukázka #02"
   ]
  },
  {
   "cell_type": "code",
   "execution_count": null,
   "metadata": {},
   "outputs": [],
   "source": [
    "x, y = (69, 96)\n",
    "print(x, y)"
   ]
  },
  {
   "cell_type": "code",
   "execution_count": null,
   "metadata": {},
   "outputs": [],
   "source": [
    "tupl = (moje_cisla := 69, 96)\n",
    "print(tupl)\n",
    "print(moje_cisla)"
   ]
  },
  {
   "cell_type": "code",
   "execution_count": null,
   "metadata": {},
   "outputs": [],
   "source": [
    "moje_cislo_1, moje_cislo_2 = 69, 96\n",
    "print(moje_cislo_1)\n",
    "print(moje_cislo_2)"
   ]
  },
  {
   "cell_type": "code",
   "execution_count": null,
   "metadata": {},
   "outputs": [],
   "source": [
    "(moje_cislo_1, moje_cislo_2 := 69, 96)\n",
    "print(f\"{moje_cislo_1}; {moje_cislo_2}\")"
   ]
  },
  {
   "cell_type": "code",
   "execution_count": null,
   "metadata": {},
   "outputs": [],
   "source": [
    "(moje_cislo_1, moje_cislo_2 := 68, 86)"
   ]
  },
  {
   "cell_type": "code",
   "execution_count": null,
   "metadata": {},
   "outputs": [],
   "source": [
    "print(moje_cislo_1)"
   ]
  },
  {
   "cell_type": "code",
   "execution_count": null,
   "metadata": {},
   "outputs": [],
   "source": [
    "print(moje_cislo_2)"
   ]
  },
  {
   "cell_type": "markdown",
   "metadata": {},
   "source": [
    "<details>\n",
    "  <summary>❓ Klikni zde pro vysvětlivky</summary>\n",
    "\n",
    "   \n",
    "```\n",
    ">>> (moje_cisla := 69, 96)  # ((moje_cisla := 69), 96) -> moje_cisla = 69\n",
    ">>> (moje_cisla := 69, 96) == ((moje_cisla := 69), 96)\n",
    "True\n",
    ">>> x = (moje_cisla := 696, 96)\n",
    ">>> x\n",
    "(696, 96)\n",
    ">>> x[0] is moje_cisla\n",
    "True\n",
    "```\n",
    "\n",
    "</details>\n",
    "\n",
    "---"
   ]
  },
  {
   "cell_type": "markdown",
   "metadata": {},
   "source": [
    "#### Ukázka #03"
   ]
  },
  {
   "cell_type": "code",
   "execution_count": null,
   "metadata": {},
   "outputs": [],
   "source": [
    "muj_list = [\"a\", \"b\", \"c\", \"d\", \"e\", \"f\"]"
   ]
  },
  {
   "cell_type": "code",
   "execution_count": null,
   "metadata": {},
   "outputs": [],
   "source": [
    "bool(['a'])"
   ]
  },
  {
   "cell_type": "code",
   "execution_count": null,
   "metadata": {},
   "outputs": [],
   "source": [
    "while muj_list:\n",
    "    udaj = muj_list.pop()\n",
    "    print(udaj)"
   ]
  },
  {
   "cell_type": "code",
   "execution_count": null,
   "metadata": {},
   "outputs": [],
   "source": [
    "for udaj in muj_list[::-1]:\n",
    "    print(udaj)"
   ]
  },
  {
   "cell_type": "markdown",
   "metadata": {},
   "source": [
    "<details>\n",
    "  <summary>❓ Klikni zde pro vysvětlivky</summary>\n",
    "\n",
    "   \n",
    "Než začneme psát smyčku, musíme si rozmyslet, která je pro naše účely nejvhodnější. Kdy je dobré použít `while` a kdy naopak `for`.\n",
    "\n",
    "</details>\n",
    "\n",
    "---"
   ]
  },
  {
   "cell_type": "markdown",
   "metadata": {},
   "source": [
    "#### Ukázka #04"
   ]
  },
  {
   "cell_type": "code",
   "execution_count": null,
   "metadata": {},
   "outputs": [],
   "source": [
    "for cislo in range(0, 11):\n",
    "    if cislo == 9:\n",
    "        cislo = 0\n",
    "    print(cislo)\n",
    "\n",
    "print('Mimo', cislo)"
   ]
  },
  {
   "cell_type": "markdown",
   "metadata": {},
   "source": [
    "<details>\n",
    "  <summary>❓ Klikni zde pro vysvětlivky</summary>\n",
    "\n",
    "   \n",
    "Cyklus `for` pracuje s listem uvedeným výše podle indexů, ne podle hodnoty.\n",
    "```\n",
    "for cislo in [0, 1, 2, 3, 4, 5, 6, 7, 8, 9]:\n",
    "    if cislo == 9:\n",
    "        cislo = 0\n",
    "    print(f\"{cislo=}\")\n",
    "```\n",
    "\n",
    "</details>\n",
    "\n",
    "---"
   ]
  }
 ],
 "metadata": {
  "kernelspec": {
   "display_name": "Python 3",
   "language": "python",
   "name": "python3"
  },
  "language_info": {
   "codemirror_mode": {
    "name": "ipython",
    "version": 3
   },
   "file_extension": ".py",
   "mimetype": "text/x-python",
   "name": "python",
   "nbconvert_exporter": "python",
   "pygments_lexer": "ipython3",
   "version": "3.11.0"
  },
  "vscode": {
   "interpreter": {
    "hash": "cd066ac09377f89a24ed9743f32ffbf343cab654b58785282a84775599740388"
   }
  }
 },
 "nbformat": 4,
 "nbformat_minor": 4
}
