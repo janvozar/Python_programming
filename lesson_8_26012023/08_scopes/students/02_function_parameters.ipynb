{
 "cells": [
  {
   "attachments": {},
   "cell_type": "markdown",
   "metadata": {},
   "source": [
    "### Funkční parametry \n",
    "\n",
    "<br>\n",
    "\n",
    "**Parametr** je v podstatě proměnná, která může obsahovat různé hodnoty. Používáme jej právě kvůli tomu, abychom ve funkci nachystali nějaké *místodržícího*, který bude očekávat při spuštění hodnotu.\n",
    "\n",
    "<br>\n",
    "\n",
    "**Argument** je ve své podstatě hodnota, na kterou parametr čeká. Skutečné hodnota, kterou ve funkci použijeme.\n",
    "\n",
    "<br>\n",
    "\n",
    "\n",
    "1. Poziční argumenty\n",
    "2. Klíčové argumenty\n",
    "3. Defaultní parametry\n",
    "4. 🆕 Position-only parametry\n",
    "5. 😱 \\*args\n",
    "6. 🤖 \\*\\*kwargs\n",
    "\n",
    "<br>\n",
    "\n",
    "---\n",
    "\n",
    "<br>"
   ]
  },
  {
   "attachments": {},
   "cell_type": "markdown",
   "metadata": {},
   "source": [
    "#### Poziční argumenty (~poziční parametry)\n"
   ]
  },
  {
   "cell_type": "code",
   "execution_count": 1,
   "metadata": {
    "scrolled": true
   },
   "outputs": [],
   "source": [
    "def moje_funkce(par1, par2, par3):\n",
    "    print(f\"To je {par1}!\")\n",
    "    print(f\"To je {par2}!\")\n",
    "    print(f\"To je {par3}!\")"
   ]
  },
  {
   "cell_type": "code",
   "execution_count": null,
   "metadata": {},
   "outputs": [],
   "source": [
    "moje_funkce(\"Matous\", \"Lukas\", \"Honzik\")"
   ]
  },
  {
   "cell_type": "code",
   "execution_count": 2,
   "metadata": {},
   "outputs": [
    {
     "name": "stdout",
     "output_type": "stream",
     "text": [
      "To je Lukas!\n",
      "To je Matous!\n",
      "To je Honzik!\n"
     ]
    }
   ],
   "source": [
    "moje_funkce(\"Lukas\", \"Matous\", \"Honzik\")"
   ]
  },
  {
   "attachments": {},
   "cell_type": "markdown",
   "metadata": {},
   "source": [
    "\n",
    "\n",
    "#### Klíčové argumenty\n",
    "\n",
    "Tento způsob **není tak častý** (horší čitelnost):"
   ]
  },
  {
   "cell_type": "code",
   "execution_count": 5,
   "metadata": {
    "scrolled": true
   },
   "outputs": [],
   "source": [
    "def moje_funkce(par1, par2, par3):\n",
    "    print(f\"To je {par1}!\")\n",
    "    print(f\"To je {par2}!\")\n",
    "    print(f\"To je {par3}!\")"
   ]
  },
  {
   "cell_type": "code",
   "execution_count": 6,
   "metadata": {},
   "outputs": [
    {
     "name": "stdout",
     "output_type": "stream",
     "text": [
      "To je Matous!\n",
      "To je Lukas!\n",
      "To je Honzik!\n"
     ]
    }
   ],
   "source": [
    "moje_funkce(par1=\"Matous\", par2=\"Lukas\", par3=\"Honzik\")"
   ]
  },
  {
   "cell_type": "code",
   "execution_count": 7,
   "metadata": {},
   "outputs": [
    {
     "name": "stdout",
     "output_type": "stream",
     "text": [
      "To je Lukas!\n",
      "To je Matous!\n",
      "To je Honzik!\n"
     ]
    }
   ],
   "source": [
    "moje_funkce(par2=\"Matous\", par1=\"Lukas\", par3=\"Honzik\")"
   ]
  },
  {
   "attachments": {},
   "cell_type": "markdown",
   "metadata": {},
   "source": [
    "\n",
    "#### Defaultní parametry\n"
   ]
  },
  {
   "cell_type": "code",
   "execution_count": 8,
   "metadata": {},
   "outputs": [],
   "source": [
    "def moje_funkce(par1, par2=\"Lukas\", par3=\"Matous\"):\n",
    "    print(f\"To je {par1}!\")\n",
    "    print(f\"To je {par2}!\")\n",
    "    print(f\"To je {par3}!\")"
   ]
  },
  {
   "cell_type": "code",
   "execution_count": 9,
   "metadata": {},
   "outputs": [
    {
     "ename": "TypeError",
     "evalue": "moje_funkce() missing 1 required positional argument: 'par1'",
     "output_type": "error",
     "traceback": [
      "\u001b[0;31m---------------------------------------------------------------------------\u001b[0m",
      "\u001b[0;31mTypeError\u001b[0m                                 Traceback (most recent call last)",
      "Cell \u001b[0;32mIn[9], line 1\u001b[0m\n\u001b[0;32m----> 1\u001b[0m moje_funkce()\n",
      "\u001b[0;31mTypeError\u001b[0m: moje_funkce() missing 1 required positional argument: 'par1'"
     ]
    }
   ],
   "source": [
    "moje_funkce()"
   ]
  },
  {
   "cell_type": "code",
   "execution_count": 10,
   "metadata": {},
   "outputs": [
    {
     "name": "stdout",
     "output_type": "stream",
     "text": [
      "To je Lukas!\n",
      "To je Matous!\n",
      "To je Honzik!\n"
     ]
    }
   ],
   "source": [
    "moje_funkce(\"Lukas\", \"Matous\", \"Honzik\")"
   ]
  },
  {
   "cell_type": "code",
   "execution_count": null,
   "metadata": {},
   "outputs": [],
   "source": [
    "moje_funkce(\"Lukas\", \"Matous\")"
   ]
  },
  {
   "attachments": {},
   "cell_type": "markdown",
   "metadata": {},
   "source": [
    "\n",
    "#### Position-only parameters\n",
    "Novější varianta zápisu, kdy lomítkem oddělíme skupinu **pozičních** a **klíčových** parametrů při definici funkce: "
   ]
  },
  {
   "cell_type": "code",
   "execution_count": 11,
   "metadata": {},
   "outputs": [],
   "source": [
    "def moje_funkce(par1, par2, /, par3):\n",
    "    print(f\"To je {par1}!\")\n",
    "    print(f\"To je {par2}!\")\n",
    "    print(f\"To je {par3}!\")"
   ]
  },
  {
   "cell_type": "code",
   "execution_count": 12,
   "metadata": {},
   "outputs": [
    {
     "name": "stdout",
     "output_type": "stream",
     "text": [
      "To je Matous!\n",
      "To je Lukas!\n",
      "To je Honzik!\n"
     ]
    }
   ],
   "source": [
    "moje_funkce(\"Matous\", \"Lukas\", \"Honzik\")"
   ]
  },
  {
   "cell_type": "code",
   "execution_count": 13,
   "metadata": {},
   "outputs": [
    {
     "ename": "TypeError",
     "evalue": "moje_funkce() got some positional-only arguments passed as keyword arguments: 'par1, par2'",
     "output_type": "error",
     "traceback": [
      "\u001b[0;31m---------------------------------------------------------------------------\u001b[0m",
      "\u001b[0;31mTypeError\u001b[0m                                 Traceback (most recent call last)",
      "Cell \u001b[0;32mIn[13], line 1\u001b[0m\n\u001b[0;32m----> 1\u001b[0m moje_funkce(par1\u001b[39m=\u001b[39;49m\u001b[39m\"\u001b[39;49m\u001b[39mMatous\u001b[39;49m\u001b[39m\"\u001b[39;49m, par2\u001b[39m=\u001b[39;49m\u001b[39m\"\u001b[39;49m\u001b[39mLukas\u001b[39;49m\u001b[39m\"\u001b[39;49m, par3\u001b[39m=\u001b[39;49m\u001b[39m\"\u001b[39;49m\u001b[39mHonzik\u001b[39;49m\u001b[39m\"\u001b[39;49m)\n",
      "\u001b[0;31mTypeError\u001b[0m: moje_funkce() got some positional-only arguments passed as keyword arguments: 'par1, par2'"
     ]
    }
   ],
   "source": [
    "moje_funkce(par1=\"Matous\", par2=\"Lukas\", par3=\"Honzik\")"
   ]
  },
  {
   "cell_type": "code",
   "execution_count": 14,
   "metadata": {},
   "outputs": [],
   "source": [
    "x, y = [122, 100]"
   ]
  },
  {
   "cell_type": "code",
   "execution_count": 15,
   "metadata": {},
   "outputs": [
    {
     "name": "stdout",
     "output_type": "stream",
     "text": [
      "To je 122!\n",
      "To je 100!\n",
      "To je m/s!\n"
     ]
    }
   ],
   "source": [
    "moje_funkce(x, y, par3=\"m/s\")"
   ]
  },
  {
   "attachments": {},
   "cell_type": "markdown",
   "metadata": {},
   "source": [
    "\n",
    "#### \\*args\n"
   ]
  },
  {
   "cell_type": "code",
   "execution_count": 26,
   "metadata": {},
   "outputs": [
    {
     "name": "stdout",
     "output_type": "stream",
     "text": [
      "ahoj vsichni !!!\n"
     ]
    }
   ],
   "source": [
    "print('ahoj', 'vsichni', '!!!')"
   ]
  },
  {
   "cell_type": "code",
   "execution_count": 27,
   "metadata": {},
   "outputs": [],
   "source": [
    "def moje_funkce(*jmena):\n",
    "    for jmeno in jmena:\n",
    "        print(f\"To je {jmeno}!\")"
   ]
  },
  {
   "cell_type": "code",
   "execution_count": 28,
   "metadata": {},
   "outputs": [
    {
     "name": "stdout",
     "output_type": "stream",
     "text": [
      "To je Matous!\n"
     ]
    }
   ],
   "source": [
    "moje_funkce(\"Matous\")"
   ]
  },
  {
   "cell_type": "code",
   "execution_count": 29,
   "metadata": {},
   "outputs": [
    {
     "name": "stdout",
     "output_type": "stream",
     "text": [
      "To je Matous!\n",
      "To je Honzik!\n"
     ]
    }
   ],
   "source": [
    "moje_funkce(\"Matous\", \"Honzik\")"
   ]
  },
  {
   "cell_type": "code",
   "execution_count": 22,
   "metadata": {},
   "outputs": [
    {
     "name": "stdout",
     "output_type": "stream",
     "text": [
      "To je Matous!\n",
      "To je Lukas!\n",
      "To je Honzik!\n",
      "To je Harold!\n"
     ]
    }
   ],
   "source": [
    "moje_funkce(\"Matous\", \"Lukas\", \"Honzik\", \"Harold\")"
   ]
  },
  {
   "attachments": {},
   "cell_type": "markdown",
   "metadata": {},
   "source": [
    "\n",
    "#### \\*\\*kwargs\n"
   ]
  },
  {
   "cell_type": "code",
   "execution_count": 23,
   "metadata": {},
   "outputs": [],
   "source": [
    "def moje_funkce(**kwargs):\n",
    "    for klic, hodnota in kwargs.items():\n",
    "        print(f\"{klic=} -> {hodnota=}\")"
   ]
  },
  {
   "cell_type": "code",
   "execution_count": 24,
   "metadata": {},
   "outputs": [
    {
     "name": "stdout",
     "output_type": "stream",
     "text": [
      "klic='cislo' -> hodnota=11\n"
     ]
    }
   ],
   "source": [
    "moje_funkce(cislo=11)"
   ]
  },
  {
   "cell_type": "code",
   "execution_count": null,
   "metadata": {},
   "outputs": [],
   "source": [
    "moje_funkce(cislo=11, jmeno=\"Matous\")"
   ]
  },
  {
   "cell_type": "code",
   "execution_count": null,
   "metadata": {},
   "outputs": [],
   "source": [
    "moje_funkce(cislo=11, jmeno=\"Matous\", datum=\"11.11.2011\")"
   ]
  },
  {
   "cell_type": "markdown",
   "metadata": {},
   "source": [
    "---\n",
    "\n",
    "#### Kombinace zápisu parametrů (argumentů)\n",
    "Jednotlivé varianty můžeme kombinovat při práci s funkcemi. Zásadní je dodržet správné pořádí parametrů:"
   ]
  },
  {
   "cell_type": "code",
   "execution_count": 30,
   "metadata": {},
   "outputs": [],
   "source": [
    "def moje_funkce(par1, *args, **kwargs):\n",
    "    if kwargs.get(\"prepinac\") == True:\n",
    "        for jmeno in args:\n",
    "            print(f\"{jmeno}!\")\n",
    "    else:\n",
    "        print(f\"{par1}!\")"
   ]
  },
  {
   "cell_type": "code",
   "execution_count": 31,
   "metadata": {},
   "outputs": [
    {
     "name": "stdout",
     "output_type": "stream",
     "text": [
      "Matous!\n",
      "Honzik!\n",
      "Luki!\n",
      "Harold!\n"
     ]
    }
   ],
   "source": [
    "moje_funkce(\"Tot vse\", \"Matous\", \"Honzik\", \"Luki\", \"Harold\", prepinac=True)"
   ]
  },
  {
   "cell_type": "code",
   "execution_count": 32,
   "metadata": {},
   "outputs": [
    {
     "name": "stdout",
     "output_type": "stream",
     "text": [
      "Tot vse!\n"
     ]
    }
   ],
   "source": [
    "moje_funkce(\"Tot vse\", \"Matous\", \"Honzik\", \"Luki\", \"Harold\", prepinac=False)"
   ]
  }
 ],
 "metadata": {
  "kernelspec": {
   "display_name": "Python 3",
   "language": "python",
   "name": "python3"
  },
  "language_info": {
   "codemirror_mode": {
    "name": "ipython",
    "version": 3
   },
   "file_extension": ".py",
   "mimetype": "text/x-python",
   "name": "python",
   "nbconvert_exporter": "python",
   "pygments_lexer": "ipython3",
   "version": "3.11.1"
  },
  "vscode": {
   "interpreter": {
    "hash": "1a1af0ee75eeea9e2e1ee996c87e7a2b11a0bebd85af04bb136d915cefc0abce"
   }
  }
 },
 "nbformat": 4,
 "nbformat_minor": 4
}
