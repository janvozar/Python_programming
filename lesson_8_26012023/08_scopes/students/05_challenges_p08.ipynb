{
 "cells": [
  {
   "cell_type": "markdown",
   "metadata": {},
   "source": [
    "### Opakování po osmé lekci!\n",
    "\n",
    "---\n",
    "\n",
    "<br>\n",
    "\n",
    "Trochu rozehřejeme šedou kůru mozkovou s opakováním po funkcích.\n",
    "\n",
    "<br>\n",
    "\n",
    "#### Ukázka #01\n",
    "\n",
    "---"
   ]
  },
  {
   "cell_type": "code",
   "execution_count": null,
   "metadata": {},
   "outputs": [],
   "source": [
    "# Metoda nebo funkce?\n",
    "print(\"abcdefgh\".upper())\n",
    "print(\"Ahoj vsem!\")\n",
    "print(isinstance({\"a\", \"b\", \"c\"}, set))"
   ]
  },
  {
   "cell_type": "markdown",
   "metadata": {},
   "source": [
    "<details>\n",
    "  <summary>❓ Klikni zde pro vysvětlivky</summary>\n",
    "\n",
    "- `print()` funkce,\n",
    "- `upper()` metoda,\n",
    "- `isinstance()` funkce,\n",
    "- `copy()` metoda.\n",
    "\n",
    "<br>\n",
    "\n",
    "</details>\n",
    "\n",
    "---"
   ]
  },
  {
   "cell_type": "markdown",
   "metadata": {},
   "source": [
    "<br>\n",
    "\n",
    "#### Ukázka #02"
   ]
  },
  {
   "cell_type": "code",
   "execution_count": null,
   "metadata": {
    "tags": []
   },
   "outputs": [],
   "source": [
    "# Jak zapsat parametry a argumenty?\n",
    "def moje_funkce():\n",
    "    print(f\"To je {par1}!\")\n",
    "    print(f\"To je {par2}!\")\n",
    "    print(f\"To je {par3}!\")\n",
    "    \n",
    "moje_funkce()"
   ]
  },
  {
   "cell_type": "markdown",
   "metadata": {},
   "source": [
    "<details>\n",
    "  <summary>❓ Klikni zde pro vysvětlivky</summary>\n",
    "\n",
    "<br>\n",
    "    \n",
    "Ideální je zápis pomocí pozičních parametrů (tedy i argumentů).\n",
    "    \n",
    "<br>\n",
    "    \n",
    "```python\n",
    "def moje_funkce(par1, par2, par3):\n",
    "    print(f\"To je {par1}!\")\n",
    "    print(f\"To je {par2}!\")\n",
    "    print(f\"To je {par3}!\")\n",
    "\n",
    "moje_funkce(\"Matous\", \"Lukas\", \"Tomas\")\n",
    "```\n",
    "\n",
    "<br>\n",
    "\n",
    "</details>\n",
    "\n",
    "---"
   ]
  },
  {
   "cell_type": "markdown",
   "metadata": {},
   "source": [
    "<br>\n",
    "\n",
    "#### Ukázka #03"
   ]
  },
  {
   "cell_type": "code",
   "execution_count": null,
   "metadata": {},
   "outputs": [],
   "source": [
    "# Vhodně doplň proměnné 'jmeno' a 'domena'\n",
    "jmeno = \"Matous\"\n",
    "domena = \"@matous.cz\"\n",
    "\n",
    "def spust_skript():\n",
    "    hlavni_fce()\n",
    "\n",
    "def hlavni_fce():\n",
    "    return f\"Zkombinujeme promenne: {}{}\"\n",
    "\n",
    "spust_skript()"
   ]
  },
  {
   "cell_type": "markdown",
   "metadata": {},
   "source": [
    "<details>\n",
    "  <summary>❓ Klikni zde pro vysvětlivky</summary>\n",
    "\n",
    "<br>\n",
    "    \n",
    "Funkce by měla pracovat pouze se svými proměnnými a parametry. Nemíchat proměnné z globálního rámce.\n",
    "    \n",
    "<br>\n",
    "    \n",
    "```python\n",
    "# Ve funkci 'hlavni_fce' vhodně doplň proměnné 'jmeno' a 'domena'\n",
    "\n",
    "\n",
    "\n",
    "def spust_skript():\n",
    "    var_1 = \"Matous\"\n",
    "    var_2 = \"@matous.cz\"\n",
    "    hlavni_fce(var_1, var_2)\n",
    "  \n",
    "\n",
    "def hlavni_fce(jmeno, domena):\n",
    "    return f\"Zkombinujeme promenne: {''.join((jmeno, domena))}\"\n",
    "\n",
    "\n",
    "spust_skript()\n",
    "```\n",
    "\n",
    "<br>\n",
    "\n",
    "</details>\n",
    "\n",
    "---"
   ]
  },
  {
   "cell_type": "markdown",
   "metadata": {},
   "source": [
    "<br>\n",
    "\n",
    "#### Ukázka #04"
   ]
  },
  {
   "cell_type": "code",
   "execution_count": 1,
   "metadata": {},
   "outputs": [],
   "source": [
    "# Vhodně doplň dokumentaci pro 'zakerna_funkce'\n",
    "def zakerna_funkce(var_1, var_2) -> str:\n",
    "    return \",\".join((var_1, var_2))"
   ]
  },
  {
   "cell_type": "markdown",
   "metadata": {},
   "source": [
    "<details>\n",
    "  <summary>❓ Klikni zde pro vysvětlivky</summary>\n",
    "\n",
    "<br>\n",
    "    \n",
    "Docstring je kromě pomocné dokumentace funkce možné použít jak prostředek k otestování naší funkce. Jestli splňuje předpoklady, pro které ji tvoříme.\n",
    "    \n",
    "<br>\n",
    "    \n",
    "```python\n",
    "def zakerna_funkce(var_1, var_2):\n",
    "    \"\"\"\n",
    "    >>> zakerna_funkce(\"foo\", \"bar\")\n",
    "    'foo,bar'\n",
    "    >>> zakerna_funkce(\"prvni\", \"druhy\")\n",
    "    'prvni,druhy'\n",
    "    \"\"\"\n",
    "    return \",\".join((var_1, var_2))\n",
    "    \n",
    "if __name__ == \"__main__\":\n",
    "    import doctest\n",
    "    doctest.testmod()\n",
    "```\n",
    "\n",
    "<br>\n",
    "\n",
    "</details>\n",
    "\n",
    "---"
   ]
  }
 ],
 "metadata": {
  "kernelspec": {
   "display_name": "Python 3",
   "language": "python",
   "name": "python3"
  },
  "language_info": {
   "codemirror_mode": {
    "name": "ipython",
    "version": 3
   },
   "file_extension": ".py",
   "mimetype": "text/x-python",
   "name": "python",
   "nbconvert_exporter": "python",
   "pygments_lexer": "ipython3",
   "version": "3.11.0 (main, Oct 24 2022, 18:26:48) [MSC v.1933 64 bit (AMD64)]"
  },
  "vscode": {
   "interpreter": {
    "hash": "cd066ac09377f89a24ed9743f32ffbf343cab654b58785282a84775599740388"
   }
  }
 },
 "nbformat": 4,
 "nbformat_minor": 4
}
