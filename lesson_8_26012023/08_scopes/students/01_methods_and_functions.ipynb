{
 "cells": [
  {
   "attachments": {},
   "cell_type": "markdown",
   "metadata": {},
   "source": [
    "### Metody & funkce \n",
    "\n",
    "Jaké jsou mezi nimi rozdíly? Co které umí a kde je najdu?\n",
    "\n",
    "<br>\n",
    "\n",
    "#### Funkce (obecně)\n",
    "Nejprve si zkusíme spustit některé **funkce**, jejichž použití již známe:"
   ]
  },
  {
   "cell_type": "code",
   "execution_count": null,
   "metadata": {
    "scrolled": true
   },
   "outputs": [],
   "source": [
    "input()"
   ]
  },
  {
   "cell_type": "code",
   "execution_count": null,
   "metadata": {
    "scrolled": true
   },
   "outputs": [],
   "source": [
    "len(\"+ěšč\")"
   ]
  },
  {
   "cell_type": "code",
   "execution_count": null,
   "metadata": {
    "scrolled": true
   },
   "outputs": [],
   "source": [
    "muj_seznam = list()\n",
    "len(muj_seznam)"
   ]
  },
  {
   "attachments": {},
   "cell_type": "markdown",
   "metadata": {},
   "source": [
    "<br>\n",
    "\n",
    "Stačí spustit pomocí **jména funkce** (zabudované funkce).\n",
    "\n",
    "\n",
    "#### Metody"
   ]
  },
  {
   "cell_type": "code",
   "execution_count": null,
   "metadata": {
    "scrolled": true
   },
   "outputs": [],
   "source": [
    "\"Matous\".lower()"
   ]
  },
  {
   "cell_type": "code",
   "execution_count": null,
   "metadata": {
    "scrolled": true
   },
   "outputs": [],
   "source": [
    "\"Matous\".upper()"
   ]
  },
  {
   "cell_type": "code",
   "execution_count": null,
   "metadata": {
    "scrolled": true
   },
   "outputs": [],
   "source": [
    "muj_seznam.append(\"nejaky_string\")"
   ]
  },
  {
   "cell_type": "code",
   "execution_count": null,
   "metadata": {},
   "outputs": [],
   "source": [
    "muj_seznam"
   ]
  },
  {
   "cell_type": "code",
   "execution_count": null,
   "metadata": {},
   "outputs": [],
   "source": [
    "print('ahoj', 'lidi',sep='--', end='\\t')\n",
    "print('ahoj', 'lidi',sep='--', end='\\t')"
   ]
  },
  {
   "cell_type": "code",
   "execution_count": null,
   "metadata": {},
   "outputs": [],
   "source": [
    "dir(str)"
   ]
  },
  {
   "cell_type": "markdown",
   "metadata": {},
   "source": [
    "<br>\n",
    "\n",
    "Vidíme, že **metodu** je potřeba připojit k některému konkrétními objektu v Pythonu, jako je `str`, `list`,.. .\n",
    "\n",
    "<br>\n",
    "\n",
    "Připojení probíhá pomocí **tečky**.\n",
    "\n",
    "---\n",
    "\n",
    "<br>"
   ]
  },
  {
   "cell_type": "markdown",
   "metadata": {},
   "source": [
    "#### Shrnutí\n",
    "\n",
    "1. **Funkce**\n",
    "    * jsou často **obecnější**, takže ji můžeme použít na **různé datové typy**,\n",
    "    * spouštíme pomocí jejich **jména**,\n",
    "    * mají různé **doplňující** (nepovinné) **argumenty**.\n",
    "\n",
    "<br>\n",
    "\n",
    "2. **Metody**\n",
    "    * jsou více **specifické**, takže se týkají **jednoho konkrétního datového typu**,\n",
    "    * spouštíme pomocí **objektu + tečky + jména metody**,\n",
    "    * někdy mají **doplňující** (nepovinné) **argumenty**."
   ]
  }
 ],
 "metadata": {
  "kernelspec": {
   "display_name": "Python 3",
   "language": "python",
   "name": "python3"
  },
  "language_info": {
   "codemirror_mode": {
    "name": "ipython",
    "version": 3
   },
   "file_extension": ".py",
   "mimetype": "text/x-python",
   "name": "python",
   "nbconvert_exporter": "python",
   "pygments_lexer": "ipython3",
   "version": "3.11.0 (main, Oct 24 2022, 18:26:48) [MSC v.1933 64 bit (AMD64)]"
  },
  "vscode": {
   "interpreter": {
    "hash": "cd066ac09377f89a24ed9743f32ffbf343cab654b58785282a84775599740388"
   }
  }
 },
 "nbformat": 4,
 "nbformat_minor": 4
}
