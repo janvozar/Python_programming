{
 "cells": [
  {
   "attachments": {},
   "cell_type": "markdown",
   "metadata": {},
   "source": [
    "### Dokumentování funkcí (~docstrings)"
   ]
  },
  {
   "cell_type": "code",
   "execution_count": 1,
   "metadata": {},
   "outputs": [],
   "source": [
    "def specialni_funkce(cislo: int, mocnina: int) -> int:\n",
    "    \"\"\"\n",
    "    Popis:\n",
    "    ------\n",
    "    Tato funkce vezme parametr `cislo` a umocneni jej\n",
    "    o hodnotu v parametru `mocnina`.\n",
    "    \n",
    "    Ukazka:\n",
    "    -------\n",
    "    cislo : int = 5\n",
    "    mocnina : int = 2\n",
    "    Funkce vrati hodnotu : int = 25\n",
    "    \"\"\"\n",
    "    return cislo ** mocnina"
   ]
  },
  {
   "cell_type": "code",
   "execution_count": 2,
   "metadata": {
    "tags": []
   },
   "outputs": [
    {
     "name": "stdout",
     "output_type": "stream",
     "text": [
      "Help on function specialni_funkce in module __main__:\n",
      "\n",
      "specialni_funkce(cislo: int, mocnina: int) -> int\n",
      "    Popis:\n",
      "    ------\n",
      "    Tato funkce vezme parametr `cislo` a umocneni jej\n",
      "    o hodnotu v parametru `mocnina`.\n",
      "    \n",
      "    Ukazka:\n",
      "    -------\n",
      "    cislo : int = 5\n",
      "    mocnina : int = 2\n",
      "    Funkce vrati hodnotu : int = 25\n",
      "\n"
     ]
    }
   ],
   "source": [
    "help(specialni_funkce)"
   ]
  },
  {
   "attachments": {},
   "cell_type": "markdown",
   "metadata": {},
   "source": [
    "\n",
    "#### Testování v dokumentaci funkce"
   ]
  },
  {
   "cell_type": "code",
   "execution_count": 3,
   "metadata": {},
   "outputs": [
    {
     "name": "stdout",
     "output_type": "stream",
     "text": [
      "**********************************************************************\n",
      "File \"__main__\", line 3, in __main__.specialni_funkce\n",
      "Failed example:\n",
      "    specialni_funkce(5, 2)\n",
      "Expected:\n",
      "    25\n",
      "Got:\n",
      "    24\n",
      "**********************************************************************\n",
      "File \"__main__\", line 5, in __main__.specialni_funkce\n",
      "Failed example:\n",
      "    specialni_funkce(2, 3)\n",
      "Expected:\n",
      "    8\n",
      "Got:\n",
      "    7\n",
      "**********************************************************************\n",
      "1 items had failures:\n",
      "   2 of   2 in __main__.specialni_funkce\n",
      "***Test Failed*** 2 failures.\n"
     ]
    }
   ],
   "source": [
    "def specialni_funkce(cislo: int, mocnina: int) -> int:\n",
    "    \"\"\"\n",
    "    >>> specialni_funkce(5, 2)\n",
    "    25\n",
    "    >>> specialni_funkce(2, 3)\n",
    "    8\n",
    "    \"\"\"\n",
    "    return cislo ** mocnina - 1\n",
    "\n",
    "\n",
    "if __name__ == \"__main__\":\n",
    "    import doctest\n",
    "    doctest.testmod()"
   ]
  },
  {
   "cell_type": "code",
   "execution_count": null,
   "metadata": {},
   "outputs": [],
   "source": []
  }
 ],
 "metadata": {
  "kernelspec": {
   "display_name": "Python 3",
   "language": "python",
   "name": "python3"
  },
  "language_info": {
   "codemirror_mode": {
    "name": "ipython",
    "version": 3
   },
   "file_extension": ".py",
   "mimetype": "text/x-python",
   "name": "python",
   "nbconvert_exporter": "python",
   "pygments_lexer": "ipython3",
   "version": "3.11.1"
  },
  "vscode": {
   "interpreter": {
    "hash": "1a1af0ee75eeea9e2e1ee996c87e7a2b11a0bebd85af04bb136d915cefc0abce"
   }
  }
 },
 "nbformat": 4,
 "nbformat_minor": 4
}
