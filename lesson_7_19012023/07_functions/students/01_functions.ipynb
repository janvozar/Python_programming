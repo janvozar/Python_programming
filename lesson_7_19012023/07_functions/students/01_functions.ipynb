{
 "cells": [
  {
   "attachments": {},
   "cell_type": "markdown",
   "metadata": {},
   "source": [
    "### Funkce obecně (~functions)\n",
    "\n",
    "---\n",
    "\n",
    "<br>\n",
    "\n",
    "Obecně můžeme rozdělit **funkce** v Pythonu na:\n",
    "1. **Zabudované**,\n",
    "2. **uživatelem definované**.\n",
    "\n",
    "\n",
    "#### Zabudované funkce\n"
   ]
  },
  {
   "cell_type": "code",
   "execution_count": null,
   "metadata": {},
   "outputs": [],
   "source": [
    "str(3.1416)"
   ]
  },
  {
   "cell_type": "code",
   "execution_count": null,
   "metadata": {},
   "outputs": [],
   "source": [
    "print(\"Ahoj, vsem na sedme lekci!\")"
   ]
  },
  {
   "cell_type": "code",
   "execution_count": null,
   "metadata": {},
   "outputs": [],
   "source": [
    "bool(\"M\" in \"Matous\")"
   ]
  },
  {
   "attachments": {},
   "cell_type": "markdown",
   "metadata": {},
   "source": [
    "#### Uživatelem definované funkce\n",
    "\n",
    "<br>\n",
    "\n",
    "Nestačí tedy jenom jejich spuštění, je potřeba je **definovat** (klíčový výraz `def`).\n",
    "\n",
    "<br>\n",
    "\n",
    "#### Definice funkce"
   ]
  },
  {
   "cell_type": "code",
   "execution_count": null,
   "metadata": {},
   "outputs": [],
   "source": [
    "def jmeno_funkce(parametr_1, parametr_2):  # Předpis funkce a parametry funkce\n",
    "    \"\"\"Popis ucelu funkce\"\"\"               # dokumentace funkce\n",
    "    ...                                    # odsazený kód\n",
    "    return parametr_1 * parametr_2         # VOLITELNÉ: vracené hodnoty"
   ]
  },
  {
   "attachments": {},
   "cell_type": "markdown",
   "metadata": {},
   "source": [
    "\n",
    "#### Spuštění funkce"
   ]
  },
  {
   "cell_type": "code",
   "execution_count": null,
   "metadata": {},
   "outputs": [],
   "source": [
    "vysledek = jmeno_funkce(22, 2)  # spuštění funkce pomocí jejího jména a argumentů\n",
    "print(vysledek + 22)            # ..další práce s vrácenou hodnotou z funkce"
   ]
  },
  {
   "cell_type": "markdown",
   "metadata": {},
   "source": [
    "<br>\n",
    "\n",
    "#### Ukázka funkce\n",
    "\n",
    "<br>\n",
    "    \n",
    "Krátká funkce, která může spustit sadu příkazů podle různého operačního systému:"
   ]
  },
  {
   "cell_type": "code",
   "execution_count": null,
   "metadata": {},
   "outputs": [],
   "source": [
    "import platform\n",
    "\n",
    "\n",
    "def spust_podle_os(prikaz):\n",
    "    if platform.system() == \"Linux\":\n",
    "        print(\"Spoustim na Linuxech..\", f\"{prikaz}\", sep=\"\\n\")\n",
    "    elif platform.system() == \"Windows\":\n",
    "        print(\"Spoustim na Windowsech..\", f\"{prikaz}\", sep=\"\\n\")\n",
    "    elif platform.system() == \"MacOS\":\n",
    "        print(\"Spoustim na Macu..\", f\"{prikaz}\", sep=\"\\n\")"
   ]
  },
  {
   "cell_type": "code",
   "execution_count": null,
   "metadata": {},
   "outputs": [],
   "source": [
    "spust_podle_os(\"ls -l\")\n",
    "spust_podle_os(\"ls -la\")"
   ]
  },
  {
   "attachments": {},
   "cell_type": "markdown",
   "metadata": {},
   "source": [
    "\n",
    "#### Jak napsat řádnou uživatelskou funkci:\n",
    "1. Nejprve zkontroluji **zabudované funkce**, pak tvořím vlastní funkci (viz. `vypocitej_sumu()` -> `sum()`),\n",
    "\n",
    "```python\n",
    "# TAKHLE NE!\n",
    "def vypocitej_sumu(cisla):\n",
    "    suma = 0\n",
    "    \n",
    "    for cislo in cisla:\n",
    "        suma = suma + cislo\n",
    "    return suma\n",
    "```\n",
    "```python\n",
    "# TAKHLE ANO!\n",
    "suma = sum(cisla)\n",
    "```\n",
    "\n",
    "<br>\n",
    "\n",
    "2. jméno popisuje **účel funkce** (pokud nelze, zapiš dokumentaci funkce),\n",
    "\n",
    "```python\n",
    "# TAKHLE NE!\n",
    "def email():\n",
    "    pass\n",
    "\n",
    "email()\n",
    "```\n",
    "```python\n",
    "# TAKHLE ANO!\n",
    "def posli_zpravu():\n",
    "    pass\n",
    "\n",
    "posli_zpravu()\n",
    "```\n",
    "\n",
    "<br>\n",
    "\n",
    "3. funkce by měla provádět **jedinou věc** (jinak je špatně čitelná, pochopitelná, testovatelná, škálovatelná),\n",
    "\n",
    "```python\n",
    "# TAKHLE NE!\n",
    "def posli_email_seznamu_klientu(klienti):\n",
    "    \"\"\"Filtruj pouze aktivni klienty a odesli zpravu\"\"\"\n",
    "    for klient in klienti:\n",
    "        if klient.je_aktivni:\n",
    "            email(klient)\n",
    "```\n",
    "```python\n",
    "# TAKHLE ANO!\n",
    "def jen_aktivni_klienti(klienti):\n",
    "    return [klient for klient in klienti if klient.je_aktivni]\n",
    "            \n",
    "def posli_email():\n",
    "    pass\n",
    "```\n",
    "\n",
    "<br>\n",
    "\n",
    "4. funkce pracuje pouze s **vlastními parametry** (proměnnými),\n",
    "\n",
    "```python\n",
    "# TAKHLE NE!\n",
    "oddelovac = \"---\"\n",
    "datum = \"01.01.2001\"\n",
    "\n",
    "def vytvor_zpravu(autor, zapis):\n",
    "    vytvor_hlavicku(datum, oddelovac)\n",
    "    vytvor_text(autor, zapis)\n",
    "```\n",
    "\n",
    "```python\n",
    "# TAKHLE ANO!\n",
    "def vytvor_zpravu(autor, zapis):\n",
    "    oddelovac = \"---\"\n",
    "    vytvor_hlavicku(dnesni_datum(), oddelovac)\n",
    "    vytvor_text(autor, zapis)\n",
    "\n",
    "def dnesni_datum():\n",
    "    pass\n",
    "```\n",
    "\n",
    "<br>\n"
   ]
  },
  {
   "cell_type": "markdown",
   "metadata": {},
   "source": [
    "<br>\n",
    "\n",
    "#### Nesprávně použitá funkce"
   ]
  },
  {
   "cell_type": "code",
   "execution_count": null,
   "metadata": {},
   "outputs": [],
   "source": [
    "def pozdrav():\n",
    "    return \"Ahoj, vsichni!\""
   ]
  },
  {
   "cell_type": "code",
   "execution_count": null,
   "metadata": {},
   "outputs": [],
   "source": [
    "muj_pozdrav = \"Ahoj, vsichni!\""
   ]
  },
  {
   "cell_type": "code",
   "execution_count": null,
   "metadata": {},
   "outputs": [],
   "source": [
    "print(muj_pozdrav)"
   ]
  },
  {
   "cell_type": "code",
   "execution_count": null,
   "metadata": {},
   "outputs": [],
   "source": [
    "print(\"Ahoj, vsichni!\")"
   ]
  }
 ],
 "metadata": {
  "kernelspec": {
   "display_name": "Python 3",
   "language": "python",
   "name": "python3"
  },
  "language_info": {
   "codemirror_mode": {
    "name": "ipython",
    "version": 3
   },
   "file_extension": ".py",
   "mimetype": "text/x-python",
   "name": "python",
   "nbconvert_exporter": "python",
   "pygments_lexer": "ipython3",
   "version": "3.11.0 (main, Oct 24 2022, 18:26:48) [MSC v.1933 64 bit (AMD64)]"
  },
  "vscode": {
   "interpreter": {
    "hash": "cd066ac09377f89a24ed9743f32ffbf343cab654b58785282a84775599740388"
   }
  }
 },
 "nbformat": 4,
 "nbformat_minor": 4
}
