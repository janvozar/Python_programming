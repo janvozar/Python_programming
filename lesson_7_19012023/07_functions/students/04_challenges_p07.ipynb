{
 "cells": [
  {
   "cell_type": "markdown",
   "metadata": {},
   "source": [
    "### Opakování po sedmé lekci!\n",
    "\n",
    "<br>\n",
    "\n",
    "Trochu rozehřejeme šedou kůru mozkovou s opakováním po úvodu do funkcí.\n",
    "\n",
    "---\n",
    "\n",
    "<br>\n",
    "\n",
    "#### Ukázka #01"
   ]
  },
  {
   "cell_type": "code",
   "execution_count": null,
   "metadata": {},
   "outputs": [],
   "source": [
    "# Vytvořte jednoduchou funkcí pro součet dvou čísel\n",
    "# -------------------------------------------------\n"
   ]
  },
  {
   "cell_type": "markdown",
   "metadata": {},
   "source": [
    "<details>\n",
    "  <summary>❓ Klikni zde pro vysvětlivky</summary>\n",
    "\n",
    "Jména parametrů a funkce lze samozřejmě přizpůsobit.\n",
    "<br>\n",
    "    \n",
    "```python\n",
    "def soucet_dvou_cisel(x, y):\n",
    "    return x + y\n",
    "\n",
    "print(vysledek := soucet_dvou_cisel(2, 3))\n",
    "print(vysledek := soucet_dvou_cisel(22, 33)) \n",
    "```\n",
    "\n",
    "<br>\n",
    "\n",
    "</details>\n",
    "\n",
    "---"
   ]
  },
  {
   "cell_type": "markdown",
   "metadata": {},
   "source": [
    "#### Ukázka #02"
   ]
  },
  {
   "cell_type": "code",
   "execution_count": null,
   "metadata": {},
   "outputs": [],
   "source": [
    "# Jde o správně definovanou funkci?\n",
    "# ---------------------------------\n",
    "import datetime\n",
    "\n",
    "\n",
    "def prispevek(mail, zprava):\n",
    "    cas = datetime.datetime.now()\n",
    "    formatovany_cas = cas.strftime(\"%H:%M:%S\")\n",
    "    jmeno = mail.split(\"@\")[0]\n",
    "    return f\"{formatovany_cas}-{jmeno.capitalize()}: {zprava}\""
   ]
  },
  {
   "cell_type": "code",
   "execution_count": null,
   "metadata": {},
   "outputs": [],
   "source": [
    "# Návrhy na zlepšení\n",
    "# ------------------\n"
   ]
  },
  {
   "cell_type": "markdown",
   "metadata": {},
   "source": [
    "<details>\n",
    "  <summary>❓ Klikni zde pro vysvětlivky</summary>\n",
    "\n",
    "Správně definovaná funkce je taková, která dělá pouze jednu věc.\n",
    "    \n",
    "<br>\n",
    "    \n",
    "```python\n",
    "import datetime\n",
    "\n",
    "\n",
    "def naformatuj_cas():\n",
    "    aktualni_cas = datetime.datetime.now()\n",
    "    return aktualni_cas.strftime(\"%H:%M:%S\")\n",
    "    \n",
    "def vytvor_prezdivku(email):\n",
    "    return email.split(\"@\")[0].capitalize()\n",
    "\n",
    "def prispevek(email, zprava):\n",
    "    formatovany_cas = naformatuj_cas()\n",
    "    jmeno = vytvor_prezdivku(email)\n",
    "    return f\"{formatovany_cas}-{jmeno}: {zprava}\"\n",
    "\n",
    "\n",
    "vytvor_komentar(\"matous@matous.cz\", \"Ahoj vsem na osme lekci!\")\n",
    "```\n",
    "\n",
    "<br>\n",
    "\n",
    "</details>\n",
    "\n",
    "---"
   ]
  },
  {
   "cell_type": "markdown",
   "metadata": {},
   "source": [
    "#### Ukázka #03"
   ]
  },
  {
   "cell_type": "code",
   "execution_count": null,
   "metadata": {},
   "outputs": [],
   "source": [
    "# Jakým lepším způsobem můžeme zapsat přírůstek hodnoty v proměnné 'vysledek'?\n",
    "# -------------------------------------------------------------------------------\n",
    "vysledek = int()\n",
    "cisla = {11, 22.5, 33, 44, 55}\n",
    "\n",
    "for cislo in cisla:\n",
    "    if isinstance(cislo, int):\n",
    "        vysledek = vysledek + cislo**2\n",
    "else:\n",
    "    print(vysledek)"
   ]
  },
  {
   "cell_type": "markdown",
   "metadata": {
    "tags": []
   },
   "source": [
    "<details>\n",
    "  <summary>❓ Klikni zde pro vysvětlivky</summary>\n",
    "\n",
    "Optimální řešení můžeš napsat pomocí *augmented assignment*, tedy řešení se zkráceným zápisem.\n",
    "    \n",
    "<br>\n",
    "    \n",
    "```python\n",
    "vysledek = int()\n",
    "cisla = {11, 22, 33, 44, 55}\n",
    "\n",
    "for cislo in cisla:\n",
    "    if isinstance(cislo, int):\n",
    "        vysledek += cislo**2\n",
    "else:\n",
    "    print(vysledek)\n",
    "```\n",
    "\n",
    "<br>\n",
    "\n",
    "</details>\n",
    "\n",
    "---"
   ]
  },
  {
   "cell_type": "markdown",
   "metadata": {},
   "source": [
    "#### Ukázka #04"
   ]
  },
  {
   "cell_type": "code",
   "execution_count": null,
   "metadata": {},
   "outputs": [],
   "source": [
    "CISELNA_SEKV_1 = [\n",
    "    397, 214, 592, 955, 141,\n",
    "    168, 532, 204, 21, 198,\n",
    "    179, 872, 483, 257, 249,\n",
    "    157, 340, 786, 268, 334,\n",
    "    43, 718, 735, 602, 804,\n",
    "    806, 906, 593, 672, 391,\n",
    "    274, 867, 54, 601, 592,\n",
    "    416, 985, 168, 834, 608\n",
    "]\n",
    "\n",
    "CISELNA_SEKV_2 = [\n",
    "    397, 214, 592, 955, 141,\n",
    "    168, 532, 204, 21, 198,\n",
    "    179, 872, 483, 257, 249,\n",
    "    157, 340, 786, 268, 334,\n",
    "    43, 718, \"123a\", 602, 804,\n",
    "    806, 906, 593, 672, 391,\n",
    "    274, 867, 54, 601, 592,\n",
    "    416, 985, 168, 834, 608\n",
    "]"
   ]
  },
  {
   "cell_type": "markdown",
   "metadata": {
    "tags": []
   },
   "source": [
    "---\n",
    "\n",
    "#### Definice funkce"
   ]
  },
  {
   "cell_type": "code",
   "execution_count": null,
   "metadata": {},
   "outputs": [],
   "source": [
    "# zapiš definici funkce, která nám pro zadané listy vrátí největší liché číslo\n",
    "# ----------------------------------------------------------------------------\n"
   ]
  },
  {
   "cell_type": "code",
   "execution_count": null,
   "metadata": {},
   "outputs": [],
   "source": [
    "# zapiš spuštění\n"
   ]
  },
  {
   "cell_type": "markdown",
   "metadata": {},
   "source": [
    "<details>\n",
    "  <summary>▶️  Klikni zde pro zobrazení řešení</summary>\n",
    "   \n",
    "```python\n",
    "def nejvetsi_liche_cislo(sekvence_c: list) -> int:\n",
    "    nejvetsi_liche_cislo = int()\n",
    "\n",
    "    for cislo in sekvence_c:\n",
    "        if (\n",
    "            isinstance(cislo, int) \n",
    "            and cislo % 2 != 0\n",
    "            and cislo > nejvetsi_liche_cislo\n",
    "        ):\n",
    "            nejvetsi_liche_cislo = cislo\n",
    "    return nejvetsi_liche_cislo\n",
    "```\n",
    "</details>\n",
    "\n",
    "---"
   ]
  }
 ],
 "metadata": {
  "kernelspec": {
   "display_name": "Python 3.8.13 ('base')",
   "language": "python",
   "name": "python3"
  },
  "language_info": {
   "codemirror_mode": {
    "name": "ipython",
    "version": 3
   },
   "file_extension": ".py",
   "mimetype": "text/x-python",
   "name": "python",
   "nbconvert_exporter": "python",
   "pygments_lexer": "ipython3",
   "version": "3.8.13"
  },
  "vscode": {
   "interpreter": {
    "hash": "0e757686aca1291955fd6171e174d03ed3c8632766d93574c122d5334d661ae0"
   }
  }
 },
 "nbformat": 4,
 "nbformat_minor": 4
}
