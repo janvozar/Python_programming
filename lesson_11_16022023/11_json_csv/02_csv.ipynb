{
 "cells": [
  {
   "cell_type": "markdown",
   "metadata": {},
   "source": [
    "### Soubory `csv`\n",
    "---\n",
    "- [Oficiální dokumentace na python.org](https://docs.python.org/3/library/csv.html)\n",
    "\n",
    "<br>\n",
    "\n",
    "#### Obecně k formátu\n",
    "\n",
    "---\n",
    "\n",
    "Je formát založený na hodnotách oddělených obecně **oddělovačem** (~*comma-separated values*). Dále je tento typ souboru psaný v určitém **dialektu** (*newline*, *separator*).\n",
    "\n",
    "<br>\n",
    "\n",
    "**Oddělovačem** je (defaultně) čárka. Ale lze použít středník, tabulátor, mezera, aj.\n",
    "\n",
    "<br>\n",
    "\n",
    "**Dialektem** rozumíme nějaký soubor pravidel, podle kterých `csv` soubory zapisujeme a čteme. Např.typ oddělovače, ukončení řádků, mezery za oddělovači, aj.\n",
    "\n",
    "<br>\n",
    "\n",
    "Základní stavební jednotkou jsou *buňky* (*columns*), které jsou naskládané do *řádků* (*rows*).\n",
    "\n",
    "<br>\n",
    "\n",
    "#### Možnosti modulu `csv`\n",
    "\n",
    "---"
   ]
  },
  {
   "cell_type": "code",
   "execution_count": null,
   "metadata": {},
   "outputs": [],
   "source": [
    "import csv  # nahrajeme knihovnu"
   ]
  },
  {
   "cell_type": "code",
   "execution_count": null,
   "metadata": {
    "tags": []
   },
   "outputs": [],
   "source": [
    "help(csv)   # nápověda knihovny"
   ]
  },
  {
   "cell_type": "code",
   "execution_count": null,
   "metadata": {
    "tags": []
   },
   "outputs": [],
   "source": [
    "dir(csv)    # objekty knihovny"
   ]
  },
  {
   "cell_type": "markdown",
   "metadata": {},
   "source": [
    "<br>\n",
    "\n",
    "#### Vyzkoušíme si následující\n",
    "\n",
    "---\n",
    "\n",
    "| jméno objektu | účel metody |\n",
    "| :-| :- |\n",
    "| csv.reader(m) | funkce vrátí iterovatelný objekt (co cyklus, to řádek) |\n",
    "| csv.writer(m) | funkce zapíše objekt do souboru (+ `writerows`)|\n",
    "| csv.DictWriter(m) | třída pro zápis slovníku do souboru |\n",
    "| csv.DictReader(m) | třída pro čtení souboru do slovníku |\n",
    "\n",
    "<br>\n",
    "\n",
    "\n",
    "*pozn* `m` je objekt (proměnná)\n",
    "\n",
    "<br>\n",
    "\n",
    "Základní dva procesy, které budeme provádět jsou:\n",
    "1. __čtení__ souboru `csv`\n",
    "2. __zápis__ do souboru `csv`\n",
    "\n",
    "<br>\n",
    "\n",
    "#### Vytvoříme soubor s příp. `.csv`\n",
    "\n",
    "---"
   ]
  },
  {
   "cell_type": "code",
   "execution_count": null,
   "metadata": {},
   "outputs": [],
   "source": [
    "hlavicka = [\"jmeno\", \"prijmeni\", \"vek\"]\n",
    "osoba_1 = [\"Jana\", \"Novakova\", \"28\"]\n",
    "osoba_2 = [\"Petr\", \"Svetr\", \"27\"]\n"
   ]
  },
  {
   "cell_type": "code",
   "execution_count": null,
   "metadata": {},
   "outputs": [],
   "source": [
    "zapis_csv = open(\"prvni_tabulka.csv\", mode=\"w\", newline=\"\")"
   ]
  },
  {
   "cell_type": "code",
   "execution_count": null,
   "metadata": {},
   "outputs": [],
   "source": [
    "print(zapis_csv)"
   ]
  },
  {
   "cell_type": "code",
   "execution_count": null,
   "metadata": {},
   "outputs": [],
   "source": [
    "zapis = csv.writer(zapis_csv, delimiter=\",\")"
   ]
  },
  {
   "cell_type": "code",
   "execution_count": null,
   "metadata": {},
   "outputs": [],
   "source": [
    "zapis.writerow(hlavicka)\n",
    "zapis.writerow(osoba_1)\n",
    "zapis.writerow(osoba_2)"
   ]
  },
  {
   "cell_type": "code",
   "execution_count": null,
   "metadata": {},
   "outputs": [],
   "source": [
    "zapis_csv.close()"
   ]
  },
  {
   "cell_type": "markdown",
   "metadata": {},
   "source": [
    "<br>\n",
    "\n",
    "#### Přečteme obsah souboru `.csv`\n",
    "\n",
    "---"
   ]
  },
  {
   "cell_type": "code",
   "execution_count": null,
   "metadata": {},
   "outputs": [],
   "source": [
    "cteni_csv = open(\"prvni_tabulka.csv\", encoding=\"utf-8\")"
   ]
  },
  {
   "cell_type": "code",
   "execution_count": null,
   "metadata": {},
   "outputs": [],
   "source": [
    "cteni = csv.reader(cteni_csv)"
   ]
  },
  {
   "cell_type": "code",
   "execution_count": null,
   "metadata": {},
   "outputs": [],
   "source": [
    "print(cteni)"
   ]
  },
  {
   "cell_type": "code",
   "execution_count": null,
   "metadata": {},
   "outputs": [],
   "source": [
    "for radek in cteni:\n",
    "    print(radek)"
   ]
  },
  {
   "cell_type": "code",
   "execution_count": null,
   "metadata": {},
   "outputs": [],
   "source": [
    "cteni_csv.close()"
   ]
  },
  {
   "cell_type": "markdown",
   "metadata": {},
   "source": [
    "---"
   ]
  },
  {
   "cell_type": "code",
   "execution_count": null,
   "metadata": {},
   "outputs": [],
   "source": [
    "osoba_1 = {\"jmeno\": \"Matous\", \"prijmeni\": \"Pokoj\", \"vek\": \"28\"}\n",
    "osoba_2 = {\"jmeno\": \"Petr\", \"prijmeni\": \"Svetr\", \"vek\": \"27\"}\n",
    "\n",
    "# ... nachystáš nový soubor pro zápis\n",
    "with open(\"prvni_tabulkovy_soubor.csv\", mode=\"w\") as nove_csv:\n",
    "    # ... z existujících klíčů si vytvoříš záhlaví\n",
    "    zahlavi = osoba_1.keys()\n",
    "    # ... nachystáš si nový zapisovač, kterému nastavíš parametr 'fieldnames'\n",
    "    zapisovac = csv.DictWriter(nove_csv, fieldnames=zahlavi)\n",
    "    # ... nejprve zapíšeš záhlaví\n",
    "    zapisovac.writeheader()\n",
    "    # ... následně oba údaje\n",
    "    zapisovac.writerow(osoba_1)\n",
    "    zapisovac.writerow(osoba_2)\n"
   ]
  },
  {
   "cell_type": "code",
   "execution_count": null,
   "metadata": {},
   "outputs": [],
   "source": [
    "with open(\"prvni_tabulkovy_soubor.csv\") as cteni_csv:\n",
    "    # Vytvoříš iterovatelný objekt se všemi záznamy ze souboru\n",
    "    cteni = csv.DictReader(cteni_csv)\n",
    "    # Vypíšeš obsah 'csv' souboru s pomocí funkce 'tuple'\n",
    "    print(tuple(cteni))"
   ]
  }
 ],
 "metadata": {
  "kernelspec": {
   "display_name": "Python 3",
   "language": "python",
   "name": "python3"
  },
  "language_info": {
   "codemirror_mode": {
    "name": "ipython",
    "version": 3
   },
   "file_extension": ".py",
   "mimetype": "text/x-python",
   "name": "python",
   "nbconvert_exporter": "python",
   "pygments_lexer": "ipython3",
   "version": "3.11.0"
  },
  "vscode": {
   "interpreter": {
    "hash": "cd066ac09377f89a24ed9743f32ffbf343cab654b58785282a84775599740388"
   }
  }
 },
 "nbformat": 4,
 "nbformat_minor": 4
}
