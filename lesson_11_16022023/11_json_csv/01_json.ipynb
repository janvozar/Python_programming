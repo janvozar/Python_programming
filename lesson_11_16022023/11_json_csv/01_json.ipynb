{
 "cells": [
  {
   "attachments": {},
   "cell_type": "markdown",
   "metadata": {},
   "source": [
    "### Soubory `json`\n",
    "\n",
    "#### Obecně `.json`\n",
    "\n",
    "---\n",
    "\n",
    "Účelně zjednoduššený formát, určený pro přenos dat & objektů (JSON ~ *JavaScript Object Notation*), tedy standartní formát pro výměnu dat.\n",
    "\n",
    "<br>\n",
    "\n",
    "Jeho účelem je zřejmý, používá se k přenosu dat mezi **webovou aplikací** a **serverem**. Je snadno čitelný, lehce formátovatelný, poměrně často používaný.\n",
    "\n",
    "<br>\n",
    "\n",
    "Při prvním pohledu můžeme říct, že se podobá Pythonovskému slovníku. Nicméně má svoji vlastní charakteristickou sadu pravidel:\n",
    "\n",
    "<br>\n",
    "\n",
    "| JSON | Python |\n",
    "| :-: | :-: |\n",
    "| string | str |\n",
    "| true | True |\n",
    "| false | False |\n",
    "| null | None |\n",
    "\n",
    "<br>\n",
    "\n",
    "*pozn.* jde o mapování jednotlivý datových typů na jiné ([zdroj](https://docs.python.org/3/library/json.html#encoders-and-decoders))\n",
    "\n",
    "<br>\n",
    "\n",
    "#### Ukázka souboru `json`:\n",
    "\n",
    "---\n",
    "\n",
    "```python\n",
    "{\n",
    "    \"jmeno\": \"Chuck Norris\",\n",
    "    \"neuspech\": null,\n",
    "    \"kliky\": \"vsechny\",\n",
    "    \"konkurence\": false,\n",
    "}\n",
    "```\n",
    "\n",
    "<br>\n",
    "\n",
    "#### Balíček `json`:\n",
    "\n",
    "---"
   ]
  },
  {
   "cell_type": "code",
   "execution_count": null,
   "metadata": {},
   "outputs": [],
   "source": [
    "import json  # nahrátí knihovny"
   ]
  },
  {
   "cell_type": "code",
   "execution_count": null,
   "metadata": {
    "tags": []
   },
   "outputs": [],
   "source": [
    "help(json)   # nápověda"
   ]
  },
  {
   "cell_type": "code",
   "execution_count": null,
   "metadata": {},
   "outputs": [],
   "source": [
    "dir(json)    # seznam všech metod"
   ]
  },
  {
   "attachments": {},
   "cell_type": "markdown",
   "metadata": {},
   "source": [
    "<br>\n",
    "\n",
    "#### Vyzkoušíme si následující:\n",
    "\n",
    "---\n",
    "\n",
    "<br>\n",
    "\n",
    "| jméno metody | účel metody |\n",
    "| :-| :- |\n",
    "| json.load(m) | načte JSON data ze souboru (objektu) |\n",
    "| json.loads(m) | načte JSON data ze stringu |\n",
    "| json.dump(m, n) | zapíše JSON objekt do souboru (objektu) |\n",
    "| json.dumps(m) | zapíše JSON objekt do stringu |\n",
    "\n",
    "<br>\n",
    "\n",
    "*pozn* `m` je objekt (proměnná), `n` je jméno souboru\n",
    "\n",
    "<br>\n",
    "\n",
    "#### Vytvoření souboru `.json`:\n",
    "\n",
    "---\n",
    "\n",
    "Obecně se při práci se soubory typu `json` mluví o procesech *serialization* a *deserialization* (tedy zápis a čtení), ke kterým patří příslušné funkce uvedené výše v tabulce."
   ]
  },
  {
   "cell_type": "code",
   "execution_count": null,
   "metadata": {},
   "outputs": [],
   "source": [
    "chuck_sl = {\n",
    "    \"jmeno\": \"Chuck Norris\",\n",
    "    \"neuspech\": None,\n",
    "    \"kliky\": \"vsechny\",\n",
    "    \"konkurence\": False,\n",
    "    \"doplneni\": \"Łukasz\",\n",
    "}"
   ]
  },
  {
   "cell_type": "code",
   "execution_count": null,
   "metadata": {},
   "outputs": [],
   "source": [
    "print(type(chuck_sl))"
   ]
  },
  {
   "cell_type": "code",
   "execution_count": null,
   "metadata": {},
   "outputs": [],
   "source": [
    "vypis_json = json.dumps(chuck_sl)"
   ]
  },
  {
   "cell_type": "code",
   "execution_count": null,
   "metadata": {},
   "outputs": [],
   "source": [
    "print(type(vypis_json))"
   ]
  },
  {
   "cell_type": "code",
   "execution_count": null,
   "metadata": {
    "scrolled": true
   },
   "outputs": [],
   "source": [
    "print(vypis_json)"
   ]
  },
  {
   "cell_type": "code",
   "execution_count": null,
   "metadata": {},
   "outputs": [],
   "source": [
    "json_soubor = open(\"prvni_json.json\", mode=\"w\")\n",
    "zapis_json_jako_soubor = json.dump(chuck_sl, json_soubor)"
   ]
  },
  {
   "cell_type": "code",
   "execution_count": null,
   "metadata": {},
   "outputs": [],
   "source": [
    "json_soubor.close()"
   ]
  },
  {
   "cell_type": "code",
   "execution_count": null,
   "metadata": {},
   "outputs": [],
   "source": [
    "# Zapis pomoci kontextoveho manageru `with`\n",
    "with open(\"prvni_json_kontext.json\", mode=\"w\") as json_soubor:\n",
    "    json.dump(chuck_sl, json_soubor)"
   ]
  },
  {
   "cell_type": "markdown",
   "metadata": {},
   "source": [
    "<br>\n",
    "\n",
    "#### Načteme existující soubor `.json`:\n",
    "\n",
    "---"
   ]
  },
  {
   "cell_type": "code",
   "execution_count": null,
   "metadata": {},
   "outputs": [],
   "source": [
    "existujici_json = open(\"prvni_json.json\") "
   ]
  },
  {
   "cell_type": "code",
   "execution_count": null,
   "metadata": {},
   "outputs": [],
   "source": [
    "print(existujici_json)"
   ]
  },
  {
   "cell_type": "code",
   "execution_count": null,
   "metadata": {},
   "outputs": [],
   "source": [
    "obsah_json = json.load(existujici_json)"
   ]
  },
  {
   "cell_type": "code",
   "execution_count": null,
   "metadata": {},
   "outputs": [],
   "source": [
    "print(obsah_json)"
   ]
  },
  {
   "cell_type": "code",
   "execution_count": null,
   "metadata": {},
   "outputs": [],
   "source": [
    "type(obsah_json)"
   ]
  },
  {
   "cell_type": "code",
   "execution_count": null,
   "metadata": {},
   "outputs": [],
   "source": [
    "existujici_json.close()"
   ]
  },
  {
   "cell_type": "code",
   "execution_count": null,
   "metadata": {},
   "outputs": [],
   "source": [
    "print(type(obsah_json))"
   ]
  },
  {
   "cell_type": "code",
   "execution_count": null,
   "metadata": {},
   "outputs": [],
   "source": [
    "print(vypis_json)"
   ]
  },
  {
   "cell_type": "code",
   "execution_count": null,
   "metadata": {},
   "outputs": [],
   "source": [
    "print(type(json.loads(vypis_json)))"
   ]
  },
  {
   "cell_type": "markdown",
   "metadata": {},
   "source": [
    "---"
   ]
  }
 ],
 "metadata": {
  "kernelspec": {
   "display_name": "Python 3",
   "language": "python",
   "name": "python3"
  },
  "language_info": {
   "codemirror_mode": {
    "name": "ipython",
    "version": 3
   },
   "file_extension": ".py",
   "mimetype": "text/x-python",
   "name": "python",
   "nbconvert_exporter": "python",
   "pygments_lexer": "ipython3",
   "version": "3.11.0"
  },
  "vscode": {
   "interpreter": {
    "hash": "cd066ac09377f89a24ed9743f32ffbf343cab654b58785282a84775599740388"
   }
  }
 },
 "nbformat": 4,
 "nbformat_minor": 4
}
