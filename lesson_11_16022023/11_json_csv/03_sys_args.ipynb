{
 "cells": [
  {
   "cell_type": "markdown",
   "metadata": {},
   "source": [
    "### Modul `sys`, spouštění s argumenty\n",
    "---\n",
    "\n",
    "Pomocí knihovny `sys` a argumentů můžeme náš soubor spouště ještě flexibilněji (*pozn.* spouštím v přík. řádku):\n",
    "\n",
    "<br>\n",
    "\n",
    "#### Jak pracuje `sys.argv`\n",
    "\n",
    "---"
   ]
  },
  {
   "cell_type": "markdown",
   "metadata": {},
   "source": [
    "<br>\n",
    "\n",
    "⬆️ Pomocí objektu `argv` můžeme vypisovat `list`, který obsahuje všechny argumenty, se kterými soubor spouštíme.\n",
    "\n",
    "<br>\n",
    "\n",
    "⬇️ Např. můžeme doplnit, aby náš program vyžadoval argument se **jménem textového souboru**:"
   ]
  },
  {
   "cell_type": "code",
   "execution_count": 1,
   "metadata": {},
   "outputs": [
    {
     "name": "stdout",
     "output_type": "stream",
     "text": [
      "Soubor: /Users/janvozar/Library/Python/3.11/lib/python/site-packages/ipykernel_launcher.py potřebuje povinný argument se jménem textového souboru\n"
     ]
    }
   ],
   "source": [
    "import sys\n",
    "\n",
    "if len(sys.argv) != 2:\n",
    "    print(f\"Soubor: {sys.argv[0]} potřebuje povinný argument se jménem textového souboru\")\n",
    "elif not sys.argv[1].endswith(\".txt\"):\n",
    "    print(f\"Soubor: {sys.argv[1]} neni textovy soubor!\")\n",
    "else:\n",
    "    print(\"Spoustim soubor!\")"
   ]
  }
 ],
 "metadata": {
  "kernelspec": {
   "display_name": "Python 3",
   "language": "python",
   "name": "python3"
  },
  "language_info": {
   "codemirror_mode": {
    "name": "ipython",
    "version": 3
   },
   "file_extension": ".py",
   "mimetype": "text/x-python",
   "name": "python",
   "nbconvert_exporter": "python",
   "pygments_lexer": "ipython3",
   "version": "3.11.1"
  },
  "vscode": {
   "interpreter": {
    "hash": "1a1af0ee75eeea9e2e1ee996c87e7a2b11a0bebd85af04bb136d915cefc0abce"
   }
  }
 },
 "nbformat": 4,
 "nbformat_minor": 4
}
